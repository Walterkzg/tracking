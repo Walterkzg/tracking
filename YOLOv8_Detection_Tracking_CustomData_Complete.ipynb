{
  "cells": [
    {
      "cell_type": "markdown",
      "metadata": {
        "id": "Osp3607nFu9G"
      },
      "source": [
        "# Before Running the Script Please Make Sure you Select the Run Time as GPU"
      ]
    },
    {
      "cell_type": "markdown",
      "metadata": {
        "id": "M-wWCISVHfwv"
      },
      "source": [
        "#**Import the Required Libraries**"
      ]
    },
    {
      "cell_type": "code",
      "execution_count": null,
      "metadata": {
        "id": "ufI8h_pgrefd"
      },
      "outputs": [],
      "source": [
        "from IPython.display import Image"
      ]
    },
    {
      "cell_type": "markdown",
      "metadata": {
        "id": "tO1DFFdfFvI-"
      },
      "source": [
        "#**Clone the Github Repo**"
      ]
    },
    {
      "cell_type": "code",
      "execution_count": null,
      "metadata": {
        "colab": {
          "base_uri": "https://localhost:8080/"
        },
        "id": "JTqOq3p0F0ul",
        "outputId": "790a3bee-f47f-4ecc-e129-52787979c02f"
      },
      "outputs": [],
      "source": [
        "!git clone https://github.com/MuhammadMoinFaisal/YOLOv8-DeepSORT-Object-Tracking.git"
      ]
    },
    {
      "cell_type": "code",
      "execution_count": null,
      "metadata": {
        "colab": {
          "base_uri": "https://localhost:8080/"
        },
        "id": "ezej1xPpd1NK",
        "outputId": "1f1557d8-1d60-4edf-f256-e6441646578f"
      },
      "outputs": [],
      "source": [
        "!pwd"
      ]
    },
    {
      "cell_type": "markdown",
      "metadata": {
        "id": "PuJXtLs9C-tj"
      },
      "source": [
        "##Setting the Current Directory"
      ]
    },
    {
      "cell_type": "code",
      "execution_count": null,
      "metadata": {
        "colab": {
          "base_uri": "https://localhost:8080/"
        },
        "id": "_0Cy9Q3hC0CI",
        "outputId": "a08ba418-b893-4fb9-9039-e32edb3315b9"
      },
      "outputs": [],
      "source": [
        "%cd /content/YOLOv8-DeepSORT-Object-Tracking"
      ]
    },
    {
      "cell_type": "markdown",
      "metadata": {
        "id": "p4PQj_GXDMFb"
      },
      "source": [
        "##Install all the Dependencies"
      ]
    },
    {
      "cell_type": "code",
      "execution_count": null,
      "metadata": {
        "colab": {
          "base_uri": "https://localhost:8080/"
        },
        "id": "hxERsChADIgc",
        "outputId": "3095ca7e-5b84-4a07-e426-336eaa004536"
      },
      "outputs": [],
      "source": [
        "!pip install -e '.[dev]'"
      ]
    },
    {
      "cell_type": "markdown",
      "metadata": {
        "id": "i4-h2jwWDXU6"
      },
      "source": [
        "##Moving to the Required Directory"
      ]
    },
    {
      "cell_type": "code",
      "execution_count": null,
      "metadata": {
        "colab": {
          "base_uri": "https://localhost:8080/"
        },
        "id": "sWXs2RdKDnqB",
        "outputId": "677c84a2-3948-4265-c33f-e8e8acc93d22"
      },
      "outputs": [],
      "source": [
        "%cd /content/YOLOv8-DeepSORT-Object-Tracking/ultralytics/yolo/v8/detect"
      ]
    },
    {
      "cell_type": "markdown",
      "metadata": {
        "id": "BGEprKAl63gg"
      },
      "source": [
        "##Importing the Dataset from the RoboFlow"
      ]
    },
    {
      "cell_type": "code",
      "execution_count": null,
      "metadata": {
        "colab": {
          "base_uri": "https://localhost:8080/",
          "height": 1000
        },
        "id": "6pxxnzZo7Kpz",
        "outputId": "c6449bbe-104e-432f-b6c6-fd0b6b312f59"
      },
      "outputs": [],
      "source": [
        "!pip install roboflow\n",
        "\n",
        "from roboflow import Roboflow\n",
        "rf = Roboflow(api_key=\"70SpXc1OmTXzM9mxngGh\")\n",
        "project = rf.workspace(\"drone-dataset-mvh8i\").project(\"detection-bzujh\")\n",
        "dataset = project.version(1).download(\"yolov5\")"
      ]
    },
    {
      "cell_type": "markdown",
      "metadata": {
        "id": "oEUtstJcDqz0"
      },
      "source": [
        "##To implement the DeepSORT tracking, downloading the required files "
      ]
    },
    {
      "cell_type": "code",
      "execution_count": null,
      "metadata": {
        "colab": {
          "base_uri": "https://localhost:8080/"
        },
        "id": "5FuD6jDfDSoU",
        "outputId": "db6dccf1-fedb-418e-f27b-2ee2f4066ea1"
      },
      "outputs": [],
      "source": [
        "!gdown \"https://drive.google.com/uc?id=11ZSZcG-bcbueXZC3rN08CM0qqX3eiHxf&confirm=t\"\n"
      ]
    },
    {
      "cell_type": "markdown",
      "metadata": {
        "id": "qFpopDEED61b"
      },
      "source": [
        "##Unzipping the DeepSORT Files"
      ]
    },
    {
      "cell_type": "code",
      "execution_count": null,
      "metadata": {
        "colab": {
          "base_uri": "https://localhost:8080/"
        },
        "id": "uLmlRpFdD1su",
        "outputId": "240b0477-507d-49c0-96f5-9216ad53b982"
      },
      "outputs": [],
      "source": [
        "!unzip 'deep_sort_pytorch.zip'"
      ]
    },
    {
      "cell_type": "markdown",
      "metadata": {
        "id": "jmTtRbY-Fhxo"
      },
      "source": [
        "#**Training the Custom Model**"
      ]
    },
    {
      "cell_type": "code",
      "execution_count": null,
      "metadata": {
        "id": "eHvxVUHCNJjr"
      },
      "outputs": [],
      "source": [
        "HOME = '/content/YOLOv8-DeepSORT-Object-Tracking/ultralytics/yolo/v8/detect'"
      ]
    },
    {
      "cell_type": "code",
      "execution_count": null,
      "metadata": {
        "colab": {
          "base_uri": "https://localhost:8080/"
        },
        "id": "GGcpsGWT8N4k",
        "outputId": "86d776b4-8369-4d76-8e3b-bdeba50bf291"
      },
      "outputs": [],
      "source": [
        "%cd {HOME}"
      ]
    },
    {
      "cell_type": "code",
      "execution_count": null,
      "metadata": {
        "colab": {
          "base_uri": "https://localhost:8080/"
        },
        "id": "4mbP2dvp8LGf",
        "outputId": "32b3cd83-9e75-4903-e571-6fa1f616eb2a"
      },
      "outputs": [],
      "source": [
        "%cd {dataset.location}"
      ]
    },
    {
      "cell_type": "code",
      "execution_count": null,
      "metadata": {
        "colab": {
          "base_uri": "https://localhost:8080/"
        },
        "id": "fSR41Fbo8Qsn",
        "outputId": "97ac9bc0-bddf-43ab-be8b-0019bc3575dd"
      },
      "outputs": [],
      "source": [
        "%cd {HOME}\n",
        "\n",
        "!python train.py model=yolov8l.pt data={dataset.location}/data.yaml epochs=50 imgsz=640"
      ]
    },
    {
      "cell_type": "markdown",
      "metadata": {
        "id": "p6vacSYUqzjF"
      },
      "source": [
        "#**Checking the Files inside the Train Folder**"
      ]
    },
    {
      "cell_type": "code",
      "execution_count": null,
      "metadata": {
        "colab": {
          "base_uri": "https://localhost:8080/"
        },
        "id": "hbt9GG64q238",
        "outputId": "29ab2f15-a9a9-41c7-ad2d-7b8b9e7165f9"
      },
      "outputs": [],
      "source": [
        "!ls /content/YOLOv8-DeepSORT-Object-Tracking/runs/detect/train2"
      ]
    },
    {
      "cell_type": "markdown",
      "metadata": {
        "id": "O7L0HQ4frXh-"
      },
      "source": [
        "#**Printing the Confusion Matrix**"
      ]
    },
    {
      "cell_type": "code",
      "execution_count": null,
      "metadata": {
        "colab": {
          "base_uri": "https://localhost:8080/",
          "height": 754
        },
        "id": "FSU_b2B6rVyO",
        "outputId": "c1f190de-c5d3-4dae-f02a-35bdb133c500"
      },
      "outputs": [],
      "source": [
        "Image(filename = '/content/YOLOv8-DeepSORT-Object-Tracking/runs/detect/train2/confusion_matrix.png')"
      ]
    },
    {
      "cell_type": "markdown",
      "metadata": {
        "id": "3s06ojtCr5qI"
      },
      "source": [
        "#**Printing the Training and the Validation Loss**"
      ]
    },
    {
      "cell_type": "code",
      "execution_count": null,
      "metadata": {
        "colab": {
          "base_uri": "https://localhost:8080/",
          "height": 317
        },
        "id": "8NdUOQwur54k",
        "outputId": "763e3120-fe22-4d8d-ea42-1c8dfea7dbaa"
      },
      "outputs": [],
      "source": [
        "Image(filename = r'/content/YOLOv8-DeepSORT-Object-Tracking/runs/detect/train2/results.png', width = 600)"
      ]
    },
    {
      "cell_type": "markdown",
      "metadata": {
        "id": "Fo9SQWa4sNKw"
      },
      "source": [
        "#**Printing the Model Prediction on Validation Batch**"
      ]
    },
    {
      "cell_type": "code",
      "execution_count": null,
      "metadata": {
        "colab": {
          "base_uri": "https://localhost:8080/",
          "height": 617
        },
        "id": "zXfvx8g4sTx2",
        "outputId": "154ea498-4682-4c1b-9bf0-d78e7e9afc27"
      },
      "outputs": [],
      "source": [
        "Image(filename = r'/content/YOLOv8-DeepSORT-Object-Tracking/runs/detect/train2/val_batch2_pred.jpg', width =600)"
      ]
    },
    {
      "cell_type": "markdown",
      "metadata": {
        "id": "aweeS57zNV-j"
      },
      "source": [
        "#**Downloading the Weights From the Google Drive**\"\n"
      ]
    },
    {
      "cell_type": "code",
      "execution_count": null,
      "metadata": {
        "colab": {
          "base_uri": "https://localhost:8080/"
        },
        "id": "_AVCTxYDNVSb",
        "outputId": "6e3822fa-b3c6-48fe-d327-f447b9563b97"
      },
      "outputs": [],
      "source": [
        "%cd {HOME}"
      ]
    },
    {
      "cell_type": "code",
      "execution_count": null,
      "metadata": {
        "colab": {
          "base_uri": "https://localhost:8080/"
        },
        "id": "PaXu7rNzNWFw",
        "outputId": "9cd297b3-9be4-4788-c30f-6e81d08a95a4"
      },
      "outputs": [],
      "source": [
        "!gdown \"https://drive.google.com/uc?id=1VBAZtJ5uJMEsnyya_d0yMP6efBRQ8IX-&confirm=t\""
      ]
    },
    {
      "cell_type": "markdown",
      "metadata": {
        "id": "e8-8kfNdpom-"
      },
      "source": [
        "#**Validate Custom Model**"
      ]
    },
    {
      "cell_type": "code",
      "execution_count": null,
      "metadata": {
        "colab": {
          "base_uri": "https://localhost:8080/"
        },
        "id": "gHE5lsF1p3p9",
        "outputId": "f7c6987c-d5f0-4afd-fbeb-a46f3c42fd6d"
      },
      "outputs": [],
      "source": [
        "!pwd"
      ]
    },
    {
      "cell_type": "code",
      "execution_count": null,
      "metadata": {
        "colab": {
          "base_uri": "https://localhost:8080/"
        },
        "id": "8kFRrWSBptkY",
        "outputId": "fd075174-d475-4855-f2e7-86e1cda6eab6"
      },
      "outputs": [],
      "source": [
        "!python val.py model='best.pt' data={dataset.location}/data.yaml"
      ]
    },
    {
      "cell_type": "markdown",
      "metadata": {
        "id": "9IK3akBhskF0"
      },
      "source": [
        "#**Inference with Custom Model**"
      ]
    },
    {
      "cell_type": "markdown",
      "metadata": {
        "id": "hFK1w1poGo-G"
      },
      "source": [
        "#**Demo Video 1**"
      ]
    },
    {
      "cell_type": "code",
      "execution_count": null,
      "metadata": {
        "colab": {
          "base_uri": "https://localhost:8080/"
        },
        "id": "g9iHpyuVFv_X",
        "outputId": "d276207b-119e-464f-a0a0-d0e6ea9c1ad2"
      },
      "outputs": [],
      "source": [
        "!gdown \"https://drive.google.com/uc?id=1UUZUS76ylH5RjMSc9s4rITSYDTG5AHt0&confirm=t\"\n"
      ]
    },
    {
      "cell_type": "code",
      "execution_count": null,
      "metadata": {
        "colab": {
          "base_uri": "https://localhost:8080/"
        },
        "id": "dWLLqGbnsipu",
        "outputId": "6ca66087-1ca5-4c7f-f68b-f9f722a2c796"
      },
      "outputs": [],
      "source": [
        "!python predict.py model='best.pt' source='test4.mp4'"
      ]
    },
    {
      "cell_type": "markdown",
      "metadata": {
        "id": "Y0vqsnUJGiKB"
      },
      "source": [
        "#**Display the Demo Video**"
      ]
    },
    {
      "cell_type": "code",
      "execution_count": null,
      "metadata": {
        "colab": {
          "base_uri": "https://localhost:8080/"
        },
        "id": "7MyfgoWKE1e0",
        "outputId": "9f5cc89d-60bb-42bc-fcb7-9fda7fddb11e"
      },
      "outputs": [],
      "source": [
        "!rm \"/content/result_compressed.mp4\""
      ]
    },
    {
      "cell_type": "code",
      "execution_count": null,
      "metadata": {
        "colab": {
          "base_uri": "https://localhost:8080/",
          "height": 247
        },
        "id": "WkR9WDjCEn18",
        "outputId": "23ae9f0b-845a-4f55-9c83-cd76a5df82cc"
      },
      "outputs": [],
      "source": [
        "from IPython.display import HTML\n",
        "from base64 import b64encode\n",
        "import os\n",
        "\n",
        "# Input video path\n",
        "save_path = '/content/YOLOv8-DeepSORT-Object-Tracking/runs/detect/train/test4.mp4'\n",
        "\n",
        "# Compressed video path\n",
        "compressed_path = \"/content/result_compressed.mp4\"\n",
        "\n",
        "os.system(f\"ffmpeg -i {save_path} -vcodec libx264 {compressed_path}\")\n",
        "\n",
        "# Show video\n",
        "mp4 = open(compressed_path,'rb').read()\n",
        "data_url = \"data:video/mp4;base64,\" + b64encode(mp4).decode()\n",
        "HTML(\"\"\"\n",
        "<video width=400 controls>\n",
        "      <source src=\"%s\" type=\"video/mp4\">\n",
        "</video>\n",
        "\"\"\" % data_url)"
      ]
    },
    {
      "cell_type": "markdown",
      "metadata": {
        "id": "hB_rMcNNGtio"
      },
      "source": [
        "#**Demo Video 2**"
      ]
    },
    {
      "cell_type": "code",
      "execution_count": null,
      "metadata": {
        "colab": {
          "base_uri": "https://localhost:8080/"
        },
        "id": "LLqHbof1Gvz1",
        "outputId": "b12ed0ce-ac87-4937-cd9d-775bdde027de"
      },
      "outputs": [],
      "source": [
        "!gdown \"https://drive.google.com/uc?id=1MaH6dNoegFjwkhtedxXufn2UD7EPpF_w&confirm=t\"\n"
      ]
    },
    {
      "cell_type": "code",
      "execution_count": null,
      "metadata": {
        "colab": {
          "base_uri": "https://localhost:8080/"
        },
        "id": "pjf23KSAGv21",
        "outputId": "11b78a1b-89ef-479b-a653-568920747299"
      },
      "outputs": [],
      "source": [
        "!python predict.py model='best.pt' source='test2.mp4'"
      ]
    },
    {
      "cell_type": "markdown",
      "metadata": {
        "id": "dClDXNUlHDxV"
      },
      "source": [
        "#**Display the Demo Video**"
      ]
    },
    {
      "cell_type": "code",
      "execution_count": null,
      "metadata": {
        "id": "sE-R4zmyHGeW"
      },
      "outputs": [],
      "source": [
        "!rm \"/content/result_compressed.mp4\""
      ]
    },
    {
      "cell_type": "code",
      "execution_count": null,
      "metadata": {
        "colab": {
          "base_uri": "https://localhost:8080/",
          "height": 247
        },
        "id": "fz6PouroHGi3",
        "outputId": "98b96513-e7db-4fea-d3ce-39acf02a261f"
      },
      "outputs": [],
      "source": [
        "from IPython.display import HTML\n",
        "from base64 import b64encode\n",
        "import os\n",
        "\n",
        "# Input video path\n",
        "save_path = '/content/YOLOv8-DeepSORT-Object-Tracking/runs/detect/train2/test2.mp4'\n",
        "\n",
        "# Compressed video path\n",
        "compressed_path = \"/content/result_compressed.mp4\"\n",
        "\n",
        "os.system(f\"ffmpeg -i {save_path} -vcodec libx264 {compressed_path}\")\n",
        "\n",
        "# Show video\n",
        "mp4 = open(compressed_path,'rb').read()\n",
        "data_url = \"data:video/mp4;base64,\" + b64encode(mp4).decode()\n",
        "HTML(\"\"\"\n",
        "<video width=400 controls>\n",
        "      <source src=\"%s\" type=\"video/mp4\">\n",
        "</video>\n",
        "\"\"\" % data_url)"
      ]
    },
    {
      "cell_type": "code",
      "execution_count": null,
      "metadata": {
        "id": "JGR8tiSjIT93"
      },
      "outputs": [],
      "source": []
    }
  ],
  "metadata": {
    "accelerator": "GPU",
    "colab": {
      "provenance": []
    },
    "gpuClass": "standard",
    "kernelspec": {
      "display_name": "pytorch2",
      "language": "python",
      "name": "python3"
    },
    "language_info": {
      "codemirror_mode": {
        "name": "ipython",
        "version": 3
      },
      "file_extension": ".py",
      "mimetype": "text/x-python",
      "name": "python",
      "nbconvert_exporter": "python",
      "pygments_lexer": "ipython3",
      "version": "3.9.18"
    }
  },
  "nbformat": 4,
  "nbformat_minor": 0
}
