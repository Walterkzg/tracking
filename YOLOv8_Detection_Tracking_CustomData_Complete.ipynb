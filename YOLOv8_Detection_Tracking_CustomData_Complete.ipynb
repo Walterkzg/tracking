{
  "cells": [
    {
      "cell_type": "markdown",
      "metadata": {
        "id": "Osp3607nFu9G"
      },
      "source": [
        "# Before Running the Script Please Make Sure you Select the Run Time as GPU"
      ]
    },
    {
      "cell_type": "markdown",
      "metadata": {
        "id": "M-wWCISVHfwv"
      },
      "source": [
        "#**Import the Required Libraries**"
      ]
    },
    {
      "cell_type": "code",
      "execution_count": 7,
      "metadata": {
        "id": "ufI8h_pgrefd"
      },
      "outputs": [],
      "source": [
        "from IPython.display import Image"
      ]
    },
    {
      "cell_type": "markdown",
      "metadata": {
        "id": "tO1DFFdfFvI-"
      },
      "source": [
        "#**Clone the Github Repo**"
      ]
    },
    {
      "cell_type": "code",
      "execution_count": 8,
      "metadata": {
        "colab": {
          "base_uri": "https://localhost:8080/"
        },
        "id": "JTqOq3p0F0ul",
        "outputId": "790a3bee-f47f-4ecc-e129-52787979c02f"
      },
      "outputs": [],
      "source": [
        "# !git clone https://github.com/MuhammadMoinFaisal/YOLOv8-DeepSORT-Object-Tracking.git"
      ]
    },
    {
      "cell_type": "code",
      "execution_count": 9,
      "metadata": {
        "colab": {
          "base_uri": "https://localhost:8080/"
        },
        "id": "ezej1xPpd1NK",
        "outputId": "1f1557d8-1d60-4edf-f256-e6441646578f"
      },
      "outputs": [
        {
          "name": "stderr",
          "output_type": "stream",
          "text": [
            "'pwd' �����ڲ����ⲿ���Ҳ���ǿ����еĳ���\n",
            "���������ļ���\n"
          ]
        }
      ],
      "source": [
        "!pwd"
      ]
    },
    {
      "cell_type": "markdown",
      "metadata": {
        "id": "PuJXtLs9C-tj"
      },
      "source": [
        "##Setting the Current Directory"
      ]
    },
    {
      "cell_type": "code",
      "execution_count": 10,
      "metadata": {
        "colab": {
          "base_uri": "https://localhost:8080/"
        },
        "id": "_0Cy9Q3hC0CI",
        "outputId": "a08ba418-b893-4fb9-9039-e32edb3315b9"
      },
      "outputs": [
        {
          "name": "stdout",
          "output_type": "stream",
          "text": [
            "[WinError 2] 系统找不到指定的文件。: 'D:\\\\software\\\\LocalProjects\\\\VehicleTracking\\\\YOLOv8-DeepSORT-Object-Tracking'\n",
            "d:\\software\\LocalProjects\\VehicleTracking\\ultralytics\\yolo\\v8\\detect\n"
          ]
        }
      ],
      "source": [
        "%cd D:\\software\\LocalProjects\\VehicleTracking\\YOLOv8-DeepSORT-Object-Tracking"
      ]
    },
    {
      "cell_type": "markdown",
      "metadata": {
        "id": "p4PQj_GXDMFb"
      },
      "source": [
        "##Install all the Dependencies"
      ]
    },
    {
      "cell_type": "code",
      "execution_count": 11,
      "metadata": {
        "colab": {
          "base_uri": "https://localhost:8080/"
        },
        "id": "hxERsChADIgc",
        "outputId": "3095ca7e-5b84-4a07-e426-336eaa004536"
      },
      "outputs": [],
      "source": [
        "# !pip install -e '.[dev]'"
      ]
    },
    {
      "cell_type": "markdown",
      "metadata": {
        "id": "i4-h2jwWDXU6"
      },
      "source": [
        "##Moving to the Required Directory"
      ]
    },
    {
      "cell_type": "code",
      "execution_count": 12,
      "metadata": {
        "colab": {
          "base_uri": "https://localhost:8080/"
        },
        "id": "sWXs2RdKDnqB",
        "outputId": "677c84a2-3948-4265-c33f-e8e8acc93d22"
      },
      "outputs": [
        {
          "name": "stdout",
          "output_type": "stream",
          "text": [
            "[WinError 3] 系统找不到指定的路径。: 'ultralytics/yolo/v8/detect'\n",
            "d:\\software\\LocalProjects\\VehicleTracking\\ultralytics\\yolo\\v8\\detect\n"
          ]
        }
      ],
      "source": [
        "%cd ultralytics/yolo/v8/detect"
      ]
    },
    {
      "cell_type": "markdown",
      "metadata": {
        "id": "BGEprKAl63gg"
      },
      "source": [
        "##Importing the Dataset from the RoboFlow"
      ]
    },
    {
      "cell_type": "code",
      "execution_count": 13,
      "metadata": {
        "colab": {
          "base_uri": "https://localhost:8080/",
          "height": 1000
        },
        "id": "6pxxnzZo7Kpz",
        "outputId": "c6449bbe-104e-432f-b6c6-fd0b6b312f59"
      },
      "outputs": [
        {
          "name": "stdout",
          "output_type": "stream",
          "text": [
            "loading Roboflow workspace...\n",
            "loading Roboflow project...\n"
          ]
        }
      ],
      "source": [
        "from roboflow import Roboflow\n",
        "rf = Roboflow(api_key=\"vFxgKgYfL4vc5jOh3gei\")\n",
        "project = rf.workspace(\"drone-dataset-mvh8i\").project(\"detection-bzujh\")\n",
        "dataset = project.version(1).download(\"yolov5\")"
      ]
    },
    {
      "cell_type": "markdown",
      "metadata": {
        "id": "oEUtstJcDqz0"
      },
      "source": [
        "##To implement the DeepSORT tracking, downloading the required files "
      ]
    },
    {
      "cell_type": "code",
      "execution_count": 14,
      "metadata": {
        "colab": {
          "base_uri": "https://localhost:8080/"
        },
        "id": "5FuD6jDfDSoU",
        "outputId": "db6dccf1-fedb-418e-f27b-2ee2f4066ea1"
      },
      "outputs": [],
      "source": [
        "# !gdown \"https://drive.google.com/uc?id=11ZSZcG-bcbueXZC3rN08CM0qqX3eiHxf&confirm=t\"\n"
      ]
    },
    {
      "cell_type": "markdown",
      "metadata": {
        "id": "qFpopDEED61b"
      },
      "source": [
        "##Unzipping the DeepSORT Files"
      ]
    },
    {
      "cell_type": "code",
      "execution_count": 15,
      "metadata": {
        "colab": {
          "base_uri": "https://localhost:8080/"
        },
        "id": "uLmlRpFdD1su",
        "outputId": "240b0477-507d-49c0-96f5-9216ad53b982"
      },
      "outputs": [],
      "source": [
        "# !unzip 'deep_sort_pytorch.zip'"
      ]
    },
    {
      "cell_type": "markdown",
      "metadata": {
        "id": "jmTtRbY-Fhxo"
      },
      "source": [
        "#**Training the Custom Model**"
      ]
    },
    {
      "cell_type": "code",
      "execution_count": 23,
      "metadata": {
        "id": "eHvxVUHCNJjr"
      },
      "outputs": [],
      "source": [
        "HOME = 'D:\\\\software\\\\LocalProjects\\\\VehicleTracking\\\\ultralytics\\\\yolo\\\\v8\\\\detect'"
      ]
    },
    {
      "cell_type": "code",
      "execution_count": 24,
      "metadata": {
        "colab": {
          "base_uri": "https://localhost:8080/"
        },
        "id": "GGcpsGWT8N4k",
        "outputId": "86d776b4-8369-4d76-8e3b-bdeba50bf291"
      },
      "outputs": [
        {
          "name": "stdout",
          "output_type": "stream",
          "text": [
            "D:\\software\\LocalProjects\\VehicleTracking\\ultralytics\\yolo\\v8\\detect\n"
          ]
        }
      ],
      "source": [
        "%cd {HOME}"
      ]
    },
    {
      "cell_type": "code",
      "execution_count": 25,
      "metadata": {
        "colab": {
          "base_uri": "https://localhost:8080/"
        },
        "id": "4mbP2dvp8LGf",
        "outputId": "32b3cd83-9e75-4903-e571-6fa1f616eb2a"
      },
      "outputs": [
        {
          "name": "stdout",
          "output_type": "stream",
          "text": [
            "d:\\software\\LocalProjects\\VehicleTracking\\ultralytics\\yolo\\v8\\detect\\detection-1\n"
          ]
        }
      ],
      "source": [
        "%cd {dataset.location}"
      ]
    },
    {
      "cell_type": "code",
      "execution_count": null,
      "metadata": {
        "colab": {
          "base_uri": "https://localhost:8080/"
        },
        "id": "fSR41Fbo8Qsn",
        "outputId": "97ac9bc0-bddf-43ab-be8b-0019bc3575dd"
      },
      "outputs": [],
      "source": [
        "%cd {HOME}\n",
        "\n",
        "!python train.py model=yolov8l.pt data={dataset.location}/data.yaml epochs=50 imgsz=640"
      ]
    },
    {
      "cell_type": "markdown",
      "metadata": {
        "id": "p6vacSYUqzjF"
      },
      "source": [
        "#**Checking the Files inside the Train Folder**"
      ]
    },
    {
      "cell_type": "code",
      "execution_count": 19,
      "metadata": {
        "colab": {
          "base_uri": "https://localhost:8080/"
        },
        "id": "hbt9GG64q238",
        "outputId": "29ab2f15-a9a9-41c7-ad2d-7b8b9e7165f9"
      },
      "outputs": [
        {
          "name": "stderr",
          "output_type": "stream",
          "text": [
            "'ls' �����ڲ����ⲿ���Ҳ���ǿ����еĳ���\n",
            "���������ļ���\n"
          ]
        }
      ],
      "source": [
        "!ls /content/YOLOv8-DeepSORT-Object-Tracking/runs/detect/train2"
      ]
    },
    {
      "cell_type": "markdown",
      "metadata": {
        "id": "O7L0HQ4frXh-"
      },
      "source": [
        "#**Printing the Confusion Matrix**"
      ]
    },
    {
      "cell_type": "code",
      "execution_count": 20,
      "metadata": {
        "colab": {
          "base_uri": "https://localhost:8080/",
          "height": 754
        },
        "id": "FSU_b2B6rVyO",
        "outputId": "c1f190de-c5d3-4dae-f02a-35bdb133c500"
      },
      "outputs": [
        {
          "ename": "FileNotFoundError",
          "evalue": "[Errno 2] No such file or directory: '/content/YOLOv8-DeepSORT-Object-Tracking/runs/detect/train2/confusion_matrix.png'",
          "output_type": "error",
          "traceback": [
            "\u001b[1;31m---------------------------------------------------------------------------\u001b[0m",
            "\u001b[1;31mFileNotFoundError\u001b[0m                         Traceback (most recent call last)",
            "Cell \u001b[1;32mIn[20], line 1\u001b[0m\n\u001b[1;32m----> 1\u001b[0m \u001b[43mImage\u001b[49m\u001b[43m(\u001b[49m\u001b[43mfilename\u001b[49m\u001b[43m \u001b[49m\u001b[38;5;241;43m=\u001b[39;49m\u001b[43m \u001b[49m\u001b[38;5;124;43m'\u001b[39;49m\u001b[38;5;124;43m/content/YOLOv8-DeepSORT-Object-Tracking/runs/detect/train2/confusion_matrix.png\u001b[39;49m\u001b[38;5;124;43m'\u001b[39;49m\u001b[43m)\u001b[49m\n",
            "File \u001b[1;32md:\\software\\Anaconda\\envs\\pytorch2\\lib\\site-packages\\IPython\\core\\display.py:970\u001b[0m, in \u001b[0;36mImage.__init__\u001b[1;34m(self, data, url, filename, format, embed, width, height, retina, unconfined, metadata, alt)\u001b[0m\n\u001b[0;32m    968\u001b[0m \u001b[38;5;28mself\u001b[39m\u001b[38;5;241m.\u001b[39munconfined \u001b[38;5;241m=\u001b[39m unconfined\n\u001b[0;32m    969\u001b[0m \u001b[38;5;28mself\u001b[39m\u001b[38;5;241m.\u001b[39malt \u001b[38;5;241m=\u001b[39m alt\n\u001b[1;32m--> 970\u001b[0m \u001b[38;5;28;43msuper\u001b[39;49m\u001b[43m(\u001b[49m\u001b[43mImage\u001b[49m\u001b[43m,\u001b[49m\u001b[43m \u001b[49m\u001b[38;5;28;43mself\u001b[39;49m\u001b[43m)\u001b[49m\u001b[38;5;241;43m.\u001b[39;49m\u001b[38;5;21;43m__init__\u001b[39;49m\u001b[43m(\u001b[49m\u001b[43mdata\u001b[49m\u001b[38;5;241;43m=\u001b[39;49m\u001b[43mdata\u001b[49m\u001b[43m,\u001b[49m\u001b[43m \u001b[49m\u001b[43murl\u001b[49m\u001b[38;5;241;43m=\u001b[39;49m\u001b[43murl\u001b[49m\u001b[43m,\u001b[49m\u001b[43m \u001b[49m\u001b[43mfilename\u001b[49m\u001b[38;5;241;43m=\u001b[39;49m\u001b[43mfilename\u001b[49m\u001b[43m,\u001b[49m\n\u001b[0;32m    971\u001b[0m \u001b[43m        \u001b[49m\u001b[43mmetadata\u001b[49m\u001b[38;5;241;43m=\u001b[39;49m\u001b[43mmetadata\u001b[49m\u001b[43m)\u001b[49m\n\u001b[0;32m    973\u001b[0m \u001b[38;5;28;01mif\u001b[39;00m \u001b[38;5;28mself\u001b[39m\u001b[38;5;241m.\u001b[39mwidth \u001b[38;5;129;01mis\u001b[39;00m \u001b[38;5;28;01mNone\u001b[39;00m \u001b[38;5;129;01mand\u001b[39;00m \u001b[38;5;28mself\u001b[39m\u001b[38;5;241m.\u001b[39mmetadata\u001b[38;5;241m.\u001b[39mget(\u001b[38;5;124m'\u001b[39m\u001b[38;5;124mwidth\u001b[39m\u001b[38;5;124m'\u001b[39m, {}):\n\u001b[0;32m    974\u001b[0m     \u001b[38;5;28mself\u001b[39m\u001b[38;5;241m.\u001b[39mwidth \u001b[38;5;241m=\u001b[39m metadata[\u001b[38;5;124m'\u001b[39m\u001b[38;5;124mwidth\u001b[39m\u001b[38;5;124m'\u001b[39m]\n",
            "File \u001b[1;32md:\\software\\Anaconda\\envs\\pytorch2\\lib\\site-packages\\IPython\\core\\display.py:327\u001b[0m, in \u001b[0;36mDisplayObject.__init__\u001b[1;34m(self, data, url, filename, metadata)\u001b[0m\n\u001b[0;32m    324\u001b[0m \u001b[38;5;28;01melif\u001b[39;00m \u001b[38;5;28mself\u001b[39m\u001b[38;5;241m.\u001b[39mmetadata \u001b[38;5;129;01mis\u001b[39;00m \u001b[38;5;28;01mNone\u001b[39;00m:\n\u001b[0;32m    325\u001b[0m     \u001b[38;5;28mself\u001b[39m\u001b[38;5;241m.\u001b[39mmetadata \u001b[38;5;241m=\u001b[39m {}\n\u001b[1;32m--> 327\u001b[0m \u001b[38;5;28;43mself\u001b[39;49m\u001b[38;5;241;43m.\u001b[39;49m\u001b[43mreload\u001b[49m\u001b[43m(\u001b[49m\u001b[43m)\u001b[49m\n\u001b[0;32m    328\u001b[0m \u001b[38;5;28mself\u001b[39m\u001b[38;5;241m.\u001b[39m_check_data()\n",
            "File \u001b[1;32md:\\software\\Anaconda\\envs\\pytorch2\\lib\\site-packages\\IPython\\core\\display.py:1005\u001b[0m, in \u001b[0;36mImage.reload\u001b[1;34m(self)\u001b[0m\n\u001b[0;32m   1003\u001b[0m \u001b[38;5;250m\u001b[39m\u001b[38;5;124;03m\"\"\"Reload the raw data from file or URL.\"\"\"\u001b[39;00m\n\u001b[0;32m   1004\u001b[0m \u001b[38;5;28;01mif\u001b[39;00m \u001b[38;5;28mself\u001b[39m\u001b[38;5;241m.\u001b[39membed:\n\u001b[1;32m-> 1005\u001b[0m     \u001b[38;5;28;43msuper\u001b[39;49m\u001b[43m(\u001b[49m\u001b[43mImage\u001b[49m\u001b[43m,\u001b[49m\u001b[38;5;28;43mself\u001b[39;49m\u001b[43m)\u001b[49m\u001b[38;5;241;43m.\u001b[39;49m\u001b[43mreload\u001b[49m\u001b[43m(\u001b[49m\u001b[43m)\u001b[49m\n\u001b[0;32m   1006\u001b[0m     \u001b[38;5;28;01mif\u001b[39;00m \u001b[38;5;28mself\u001b[39m\u001b[38;5;241m.\u001b[39mretina:\n\u001b[0;32m   1007\u001b[0m         \u001b[38;5;28mself\u001b[39m\u001b[38;5;241m.\u001b[39m_retina_shape()\n",
            "File \u001b[1;32md:\\software\\Anaconda\\envs\\pytorch2\\lib\\site-packages\\IPython\\core\\display.py:353\u001b[0m, in \u001b[0;36mDisplayObject.reload\u001b[1;34m(self)\u001b[0m\n\u001b[0;32m    351\u001b[0m \u001b[38;5;28;01mif\u001b[39;00m \u001b[38;5;28mself\u001b[39m\u001b[38;5;241m.\u001b[39mfilename \u001b[38;5;129;01mis\u001b[39;00m \u001b[38;5;129;01mnot\u001b[39;00m \u001b[38;5;28;01mNone\u001b[39;00m:\n\u001b[0;32m    352\u001b[0m     encoding \u001b[38;5;241m=\u001b[39m \u001b[38;5;28;01mNone\u001b[39;00m \u001b[38;5;28;01mif\u001b[39;00m \u001b[38;5;124m\"\u001b[39m\u001b[38;5;124mb\u001b[39m\u001b[38;5;124m\"\u001b[39m \u001b[38;5;129;01min\u001b[39;00m \u001b[38;5;28mself\u001b[39m\u001b[38;5;241m.\u001b[39m_read_flags \u001b[38;5;28;01melse\u001b[39;00m \u001b[38;5;124m\"\u001b[39m\u001b[38;5;124mutf-8\u001b[39m\u001b[38;5;124m\"\u001b[39m\n\u001b[1;32m--> 353\u001b[0m     \u001b[38;5;28;01mwith\u001b[39;00m \u001b[38;5;28;43mopen\u001b[39;49m\u001b[43m(\u001b[49m\u001b[38;5;28;43mself\u001b[39;49m\u001b[38;5;241;43m.\u001b[39;49m\u001b[43mfilename\u001b[49m\u001b[43m,\u001b[49m\u001b[43m \u001b[49m\u001b[38;5;28;43mself\u001b[39;49m\u001b[38;5;241;43m.\u001b[39;49m\u001b[43m_read_flags\u001b[49m\u001b[43m,\u001b[49m\u001b[43m \u001b[49m\u001b[43mencoding\u001b[49m\u001b[38;5;241;43m=\u001b[39;49m\u001b[43mencoding\u001b[49m\u001b[43m)\u001b[49m \u001b[38;5;28;01mas\u001b[39;00m f:\n\u001b[0;32m    354\u001b[0m         \u001b[38;5;28mself\u001b[39m\u001b[38;5;241m.\u001b[39mdata \u001b[38;5;241m=\u001b[39m f\u001b[38;5;241m.\u001b[39mread()\n\u001b[0;32m    355\u001b[0m \u001b[38;5;28;01melif\u001b[39;00m \u001b[38;5;28mself\u001b[39m\u001b[38;5;241m.\u001b[39murl \u001b[38;5;129;01mis\u001b[39;00m \u001b[38;5;129;01mnot\u001b[39;00m \u001b[38;5;28;01mNone\u001b[39;00m:\n\u001b[0;32m    356\u001b[0m     \u001b[38;5;66;03m# Deferred import\u001b[39;00m\n",
            "\u001b[1;31mFileNotFoundError\u001b[0m: [Errno 2] No such file or directory: '/content/YOLOv8-DeepSORT-Object-Tracking/runs/detect/train2/confusion_matrix.png'"
          ]
        }
      ],
      "source": [
        "Image(filename = '/content/YOLOv8-DeepSORT-Object-Tracking/runs/detect/train2/confusion_matrix.png')"
      ]
    },
    {
      "cell_type": "markdown",
      "metadata": {
        "id": "3s06ojtCr5qI"
      },
      "source": [
        "#**Printing the Training and the Validation Loss**"
      ]
    },
    {
      "cell_type": "code",
      "execution_count": null,
      "metadata": {
        "colab": {
          "base_uri": "https://localhost:8080/",
          "height": 317
        },
        "id": "8NdUOQwur54k",
        "outputId": "763e3120-fe22-4d8d-ea42-1c8dfea7dbaa"
      },
      "outputs": [],
      "source": [
        "Image(filename = r'/content/YOLOv8-DeepSORT-Object-Tracking/runs/detect/train2/results.png', width = 600)"
      ]
    },
    {
      "cell_type": "markdown",
      "metadata": {
        "id": "Fo9SQWa4sNKw"
      },
      "source": [
        "#**Printing the Model Prediction on Validation Batch**"
      ]
    },
    {
      "cell_type": "code",
      "execution_count": null,
      "metadata": {
        "colab": {
          "base_uri": "https://localhost:8080/",
          "height": 617
        },
        "id": "zXfvx8g4sTx2",
        "outputId": "154ea498-4682-4c1b-9bf0-d78e7e9afc27"
      },
      "outputs": [],
      "source": [
        "Image(filename = r'/content/YOLOv8-DeepSORT-Object-Tracking/runs/detect/train2/val_batch2_pred.jpg', width =600)"
      ]
    },
    {
      "cell_type": "markdown",
      "metadata": {
        "id": "aweeS57zNV-j"
      },
      "source": [
        "#**Downloading the Weights From the Google Drive**\"\n"
      ]
    },
    {
      "cell_type": "code",
      "execution_count": 26,
      "metadata": {
        "colab": {
          "base_uri": "https://localhost:8080/"
        },
        "id": "_AVCTxYDNVSb",
        "outputId": "6e3822fa-b3c6-48fe-d327-f447b9563b97"
      },
      "outputs": [
        {
          "name": "stdout",
          "output_type": "stream",
          "text": [
            "D:\\software\\LocalProjects\\VehicleTracking\\ultralytics\\yolo\\v8\\detect\n"
          ]
        }
      ],
      "source": [
        "%cd {HOME}"
      ]
    },
    {
      "cell_type": "code",
      "execution_count": 27,
      "metadata": {
        "colab": {
          "base_uri": "https://localhost:8080/"
        },
        "id": "PaXu7rNzNWFw",
        "outputId": "9cd297b3-9be4-4788-c30f-6e81d08a95a4"
      },
      "outputs": [
        {
          "name": "stderr",
          "output_type": "stream",
          "text": [
            "Downloading...\n",
            "From: https://drive.google.com/uc?id=1VBAZtJ5uJMEsnyya_d0yMP6efBRQ8IX-&confirm=t\n",
            "To: D:\\software\\LocalProjects\\VehicleTracking\\ultralytics\\yolo\\v8\\detect\\best.pt\n",
            "\n",
            "  0%|          | 0.00/87.7M [00:00<?, ?B/s]\n",
            "  1%|          | 524k/87.7M [00:00<01:32, 943kB/s]\n",
            "  2%|▏         | 1.57M/87.7M [00:00<00:34, 2.51MB/s]\n",
            "  4%|▎         | 3.15M/87.7M [00:00<00:17, 4.90MB/s]\n",
            "  5%|▌         | 4.72M/87.7M [00:00<00:11, 7.17MB/s]\n",
            "  8%|▊         | 6.82M/87.7M [00:01<00:08, 9.02MB/s]\n",
            " 10%|▉         | 8.39M/87.7M [00:01<00:13, 5.81MB/s]\n",
            " 11%|█         | 9.44M/87.7M [00:02<00:19, 3.96MB/s]\n",
            " 12%|█▏        | 10.5M/87.7M [00:02<00:18, 4.21MB/s]\n",
            " 13%|█▎        | 11.5M/87.7M [00:02<00:22, 3.38MB/s]\n",
            " 14%|█▍        | 12.1M/87.7M [00:02<00:21, 3.51MB/s]\n",
            " 14%|█▍        | 12.6M/87.7M [00:03<00:30, 2.47MB/s]\n",
            " 16%|█▌        | 14.2M/87.7M [00:03<00:22, 3.23MB/s]\n",
            " 17%|█▋        | 14.7M/87.7M [00:04<00:29, 2.46MB/s]\n",
            " 18%|█▊        | 15.7M/87.7M [00:04<00:24, 2.96MB/s]\n",
            " 19%|█▊        | 16.3M/87.7M [00:04<00:22, 3.14MB/s]\n",
            " 20%|█▉        | 17.3M/87.7M [00:04<00:20, 3.44MB/s]\n",
            " 20%|██        | 17.8M/87.7M [00:04<00:21, 3.27MB/s]\n",
            " 21%|██        | 18.4M/87.7M [00:05<00:22, 3.11MB/s]\n",
            " 22%|██▏       | 18.9M/87.7M [00:05<00:22, 3.07MB/s]\n",
            " 22%|██▏       | 19.4M/87.7M [00:05<00:24, 2.82MB/s]\n",
            " 23%|██▎       | 19.9M/87.7M [00:05<00:23, 2.83MB/s]\n",
            " 23%|██▎       | 20.4M/87.7M [00:05<00:22, 2.96MB/s]\n",
            " 24%|██▍       | 21.0M/87.7M [00:06<00:24, 2.75MB/s]\n",
            " 25%|██▍       | 21.5M/87.7M [00:06<00:22, 2.97MB/s]\n",
            " 25%|██▌       | 22.0M/87.7M [00:06<00:22, 2.85MB/s]\n",
            " 26%|██▌       | 22.5M/87.7M [00:06<00:28, 2.31MB/s]\n",
            " 26%|██▋       | 23.1M/87.7M [00:06<00:24, 2.63MB/s]\n",
            " 27%|██▋       | 23.6M/87.7M [00:07<00:21, 3.04MB/s]\n",
            " 28%|██▊       | 24.1M/87.7M [00:07<00:26, 2.42MB/s]\n",
            " 28%|██▊       | 24.6M/87.7M [00:07<00:23, 2.67MB/s]\n",
            " 29%|██▊       | 25.2M/87.7M [00:07<00:25, 2.43MB/s]\n",
            " 29%|██▉       | 25.7M/87.7M [00:07<00:24, 2.58MB/s]\n",
            " 30%|██▉       | 26.2M/87.7M [00:08<00:21, 2.83MB/s]\n",
            " 31%|███       | 26.7M/87.7M [00:08<00:24, 2.45MB/s]\n",
            " 31%|███       | 27.3M/87.7M [00:08<00:21, 2.82MB/s]\n",
            " 32%|███▏      | 27.8M/87.7M [00:08<00:24, 2.40MB/s]\n",
            " 32%|███▏      | 28.3M/87.7M [00:08<00:23, 2.58MB/s]\n",
            " 33%|███▎      | 28.8M/87.7M [00:09<00:30, 1.90MB/s]\n",
            " 34%|███▍      | 29.9M/87.7M [00:09<00:25, 2.24MB/s]\n",
            " 35%|███▍      | 30.4M/87.7M [00:09<00:25, 2.26MB/s]\n",
            " 35%|███▌      | 30.9M/87.7M [00:10<00:23, 2.41MB/s]\n",
            " 36%|███▌      | 31.5M/87.7M [00:10<00:34, 1.62MB/s]\n",
            " 36%|███▋      | 32.0M/87.7M [00:10<00:27, 2.00MB/s]\n",
            " 37%|███▋      | 32.5M/87.7M [00:11<00:24, 2.30MB/s]\n",
            " 38%|███▊      | 33.0M/87.7M [00:11<00:22, 2.43MB/s]\n",
            " 38%|███▊      | 33.6M/87.7M [00:11<00:20, 2.69MB/s]\n",
            " 39%|███▉      | 34.1M/87.7M [00:11<00:18, 2.96MB/s]\n",
            " 39%|███▉      | 34.6M/87.7M [00:11<00:16, 3.26MB/s]\n",
            " 40%|████      | 35.1M/87.7M [00:11<00:15, 3.33MB/s]\n",
            " 41%|████      | 35.7M/87.7M [00:11<00:15, 3.44MB/s]\n",
            " 41%|████▏     | 36.2M/87.7M [00:12<00:17, 2.99MB/s]\n",
            " 42%|████▏     | 36.7M/87.7M [00:12<00:19, 2.60MB/s]\n",
            " 42%|████▏     | 37.2M/87.7M [00:12<00:19, 2.64MB/s]\n",
            " 43%|████▎     | 37.7M/87.7M [00:12<00:16, 3.01MB/s]\n",
            " 44%|████▎     | 38.3M/87.7M [00:12<00:17, 2.88MB/s]\n",
            " 44%|████▍     | 38.8M/87.7M [00:13<00:18, 2.65MB/s]\n",
            " 45%|████▍     | 39.3M/87.7M [00:13<00:19, 2.49MB/s]\n",
            " 45%|████▌     | 39.8M/87.7M [00:13<00:18, 2.59MB/s]\n",
            " 46%|████▌     | 40.4M/87.7M [00:13<00:22, 2.08MB/s]\n",
            " 47%|████▋     | 40.9M/87.7M [00:14<00:18, 2.49MB/s]\n",
            " 47%|████▋     | 41.4M/87.7M [00:14<00:16, 2.78MB/s]\n",
            " 48%|████▊     | 41.9M/87.7M [00:14<00:15, 3.03MB/s]\n",
            " 48%|████▊     | 42.5M/87.7M [00:14<00:16, 2.77MB/s]\n",
            " 49%|████▉     | 43.0M/87.7M [00:14<00:15, 2.86MB/s]\n",
            " 50%|████▉     | 43.5M/87.7M [00:14<00:16, 2.73MB/s]\n",
            " 50%|█████     | 44.0M/87.7M [00:15<00:18, 2.37MB/s]\n",
            " 51%|█████     | 44.6M/87.7M [00:15<00:19, 2.18MB/s]\n",
            " 51%|█████▏    | 45.1M/87.7M [00:15<00:18, 2.31MB/s]\n",
            " 52%|█████▏    | 45.6M/87.7M [00:15<00:20, 2.10MB/s]\n",
            " 53%|█████▎    | 46.1M/87.7M [00:16<00:19, 2.14MB/s]\n",
            " 53%|█████▎    | 46.7M/87.7M [00:16<00:20, 2.04MB/s]\n",
            " 54%|█████▍    | 47.2M/87.7M [00:16<00:19, 2.05MB/s]\n",
            " 54%|█████▍    | 47.7M/87.7M [00:17<00:19, 2.05MB/s]\n",
            " 55%|█████▌    | 48.2M/87.7M [00:17<00:19, 2.05MB/s]\n",
            " 56%|█████▌    | 48.8M/87.7M [00:17<00:18, 2.06MB/s]\n",
            " 56%|█████▌    | 49.3M/87.7M [00:17<00:18, 2.03MB/s]\n",
            " 57%|█████▋    | 49.8M/87.7M [00:18<00:19, 1.90MB/s]\n",
            " 57%|█████▋    | 50.3M/87.7M [00:18<00:19, 1.94MB/s]\n",
            " 58%|█████▊    | 50.9M/87.7M [00:18<00:19, 1.86MB/s]\n",
            " 59%|█████▊    | 51.4M/87.7M [00:18<00:18, 1.95MB/s]\n",
            " 59%|█████▉    | 51.9M/87.7M [00:19<00:17, 2.03MB/s]\n",
            " 60%|█████▉    | 52.4M/87.7M [00:19<00:16, 2.09MB/s]\n",
            " 60%|██████    | 53.0M/87.7M [00:19<00:14, 2.33MB/s]\n",
            " 61%|██████    | 53.5M/87.7M [00:19<00:13, 2.53MB/s]\n",
            " 62%|██████▏   | 54.0M/87.7M [00:19<00:12, 2.79MB/s]\n",
            " 62%|██████▏   | 54.5M/87.7M [00:20<00:12, 2.62MB/s]\n",
            " 63%|██████▎   | 55.1M/87.7M [00:20<00:10, 3.07MB/s]\n",
            " 63%|██████▎   | 55.6M/87.7M [00:20<00:09, 3.25MB/s]\n",
            " 64%|██████▍   | 56.1M/87.7M [00:20<00:09, 3.50MB/s]\n",
            " 65%|██████▍   | 56.6M/87.7M [00:20<00:08, 3.83MB/s]\n",
            " 65%|██████▌   | 57.1M/87.7M [00:20<00:07, 3.83MB/s]\n",
            " 66%|██████▌   | 57.7M/87.7M [00:20<00:07, 3.82MB/s]\n",
            " 66%|██████▋   | 58.2M/87.7M [00:20<00:08, 3.54MB/s]\n",
            " 67%|██████▋   | 58.7M/87.7M [00:21<00:08, 3.35MB/s]\n",
            " 68%|██████▊   | 59.2M/87.7M [00:21<00:09, 3.05MB/s]\n",
            " 69%|██████▉   | 60.3M/87.7M [00:21<00:07, 3.47MB/s]\n",
            " 70%|██████▉   | 61.3M/87.7M [00:21<00:06, 4.22MB/s]\n",
            " 71%|███████   | 62.4M/87.7M [00:21<00:05, 4.78MB/s]\n",
            " 72%|███████▏  | 63.4M/87.7M [00:22<00:04, 5.01MB/s]\n",
            " 73%|███████▎  | 64.0M/87.7M [00:22<00:05, 4.00MB/s]\n",
            " 74%|███████▎  | 64.5M/87.7M [00:22<00:07, 3.14MB/s]\n",
            " 74%|███████▍  | 65.0M/87.7M [00:22<00:07, 3.13MB/s]\n",
            " 75%|███████▍  | 65.5M/87.7M [00:23<00:07, 3.06MB/s]\n",
            " 75%|███████▌  | 66.1M/87.7M [00:23<00:08, 2.67MB/s]\n",
            " 76%|███████▌  | 66.6M/87.7M [00:23<00:07, 2.80MB/s]\n",
            " 77%|███████▋  | 67.1M/87.7M [00:23<00:07, 2.71MB/s]\n",
            " 77%|███████▋  | 67.6M/87.7M [00:23<00:07, 2.57MB/s]\n",
            " 78%|███████▊  | 68.2M/87.7M [00:24<00:08, 2.42MB/s]\n",
            " 78%|███████▊  | 68.7M/87.7M [00:24<00:08, 2.24MB/s]\n",
            " 79%|███████▉  | 69.2M/87.7M [00:24<00:08, 2.28MB/s]\n",
            " 80%|███████▉  | 69.7M/87.7M [00:24<00:07, 2.29MB/s]\n",
            " 80%|████████  | 70.3M/87.7M [00:25<00:07, 2.30MB/s]\n",
            " 81%|████████  | 70.8M/87.7M [00:25<00:07, 2.30MB/s]\n",
            " 81%|████████▏ | 71.3M/87.7M [00:25<00:07, 2.32MB/s]\n",
            " 82%|████████▏ | 71.8M/87.7M [00:25<00:06, 2.30MB/s]\n",
            " 83%|████████▎ | 72.4M/87.7M [00:26<00:06, 2.30MB/s]\n",
            " 83%|████████▎ | 72.9M/87.7M [00:26<00:06, 2.35MB/s]\n",
            " 84%|████████▎ | 73.4M/87.7M [00:26<00:05, 2.41MB/s]\n",
            " 84%|████████▍ | 73.9M/87.7M [00:26<00:05, 2.46MB/s]\n",
            " 85%|████████▍ | 74.4M/87.7M [00:26<00:05, 2.52MB/s]\n",
            " 86%|████████▌ | 75.0M/87.7M [00:27<00:04, 2.57MB/s]\n",
            " 86%|████████▌ | 75.5M/87.7M [00:27<00:04, 2.68MB/s]\n",
            " 87%|████████▋ | 76.0M/87.7M [00:27<00:04, 2.47MB/s]\n",
            " 87%|████████▋ | 76.5M/87.7M [00:27<00:04, 2.37MB/s]\n",
            " 88%|████████▊ | 77.1M/87.7M [00:27<00:04, 2.64MB/s]\n",
            " 89%|████████▊ | 77.6M/87.7M [00:27<00:03, 2.90MB/s]\n",
            " 89%|████████▉ | 78.1M/87.7M [00:28<00:03, 2.90MB/s]\n",
            " 90%|████████▉ | 78.6M/87.7M [00:28<00:02, 3.28MB/s]\n",
            " 90%|█████████ | 79.2M/87.7M [00:28<00:02, 3.44MB/s]\n",
            " 91%|█████████ | 79.7M/87.7M [00:28<00:02, 3.68MB/s]\n",
            " 92%|█████████▏| 80.2M/87.7M [00:28<00:01, 3.95MB/s]\n",
            " 92%|█████████▏| 80.7M/87.7M [00:28<00:01, 3.87MB/s]\n",
            " 93%|█████████▎| 81.3M/87.7M [00:28<00:01, 3.97MB/s]\n",
            " 93%|█████████▎| 81.8M/87.7M [00:29<00:01, 4.12MB/s]\n",
            " 94%|█████████▍| 82.3M/87.7M [00:29<00:01, 4.36MB/s]\n",
            " 94%|█████████▍| 82.8M/87.7M [00:29<00:01, 3.10MB/s]\n",
            " 95%|█████████▌| 83.4M/87.7M [00:29<00:01, 3.16MB/s]\n",
            " 96%|█████████▌| 83.9M/87.7M [00:29<00:01, 3.12MB/s]\n",
            " 96%|█████████▋| 84.4M/87.7M [00:30<00:01, 2.56MB/s]\n",
            " 97%|█████████▋| 84.9M/87.7M [00:30<00:01, 2.38MB/s]\n",
            " 97%|█████████▋| 85.5M/87.7M [00:30<00:00, 2.65MB/s]\n",
            " 98%|█████████▊| 86.0M/87.7M [00:30<00:00, 2.27MB/s]\n",
            " 99%|█████████▊| 86.5M/87.7M [00:30<00:00, 2.31MB/s]\n",
            " 99%|█████████▉| 87.0M/87.7M [00:31<00:00, 2.14MB/s]\n",
            "100%|█████████▉| 87.6M/87.7M [00:31<00:00, 2.07MB/s]\n",
            "100%|██████████| 87.7M/87.7M [00:31<00:00, 2.78MB/s]\n"
          ]
        }
      ],
      "source": [
        "!gdown \"https://drive.google.com/uc?id=1VBAZtJ5uJMEsnyya_d0yMP6efBRQ8IX-&confirm=t\""
      ]
    },
    {
      "cell_type": "markdown",
      "metadata": {
        "id": "e8-8kfNdpom-"
      },
      "source": [
        "#**Validate Custom Model**"
      ]
    },
    {
      "cell_type": "code",
      "execution_count": 28,
      "metadata": {
        "colab": {
          "base_uri": "https://localhost:8080/"
        },
        "id": "gHE5lsF1p3p9",
        "outputId": "f7c6987c-d5f0-4afd-fbeb-a46f3c42fd6d"
      },
      "outputs": [
        {
          "name": "stderr",
          "output_type": "stream",
          "text": [
            "'pwd' �����ڲ����ⲿ���Ҳ���ǿ����еĳ���\n",
            "���������ļ���\n"
          ]
        }
      ],
      "source": [
        "!pwd"
      ]
    },
    {
      "cell_type": "code",
      "execution_count": 29,
      "metadata": {
        "colab": {
          "base_uri": "https://localhost:8080/"
        },
        "id": "8kFRrWSBptkY",
        "outputId": "fd075174-d475-4855-f2e7-86e1cda6eab6"
      },
      "outputs": [
        {
          "name": "stderr",
          "output_type": "stream",
          "text": [
            "Ultralytics YOLOv8.0.3  Python-3.9.18 torch-2.5.0 CUDA:0 (NVIDIA GeForce RTX 3060 Laptop GPU, 6144MiB)\n",
            "d:\\software\\Anaconda\\envs\\pytorch2\\lib\\site-packages\\ultralytics\\nn\\tasks.py:303: FutureWarning: You are using `torch.load` with `weights_only=False` (the current default value), which uses the default pickle module implicitly. It is possible to construct malicious pickle data which will execute arbitrary code during unpickling (See https://github.com/pytorch/pytorch/blob/main/SECURITY.md#untrusted-models for more details). In a future release, the default value for `weights_only` will be flipped to `True`. This limits the functions that could be executed during unpickling. Arbitrary objects will no longer be allowed to be loaded via this mode unless they are explicitly allowlisted by the user via `torch.serialization.add_safe_globals`. We recommend you start setting `weights_only=True` for any use case where you don't have full control of the loaded file. Please open an issue on GitHub for any issues related to this experimental feature.\n",
            "  ckpt = torch.load(attempt_download(w), map_location='cpu')  # load\n",
            "Fusing layers... \n",
            "Model summary: 268 layers, 43614318 parameters, 0 gradients, 164.9 GFLOPs\n",
            "\n",
            "\u001b[34m\u001b[1mval: \u001b[0mScanning D:\\software\\LocalProjects\\VehicleTracking\\ultralytics\\yolo\\v8\\detect\\detection-1\\valid\\labels...:   0%|          | 0/619 [00:00<?, ?it/s]\n",
            "\u001b[34m\u001b[1mval: \u001b[0mScanning D:\\software\\LocalProjects\\VehicleTracking\\ultralytics\\yolo\\v8\\detect\\detection-1\\valid\\labels... 1 images, 0 backgrounds, 0 corrupt:   0%|          | 1/619 [00:13<2:19:37, 13.56s/it]\n",
            "\u001b[34m\u001b[1mval: \u001b[0mScanning D:\\software\\LocalProjects\\VehicleTracking\\ultralytics\\yolo\\v8\\detect\\detection-1\\valid\\labels... 39 images, 0 backgrounds, 0 corrupt:   6%|▋         | 39/619 [00:13<02:23,  4.04it/s]\n",
            "\u001b[34m\u001b[1mval: \u001b[0mScanning D:\\software\\LocalProjects\\VehicleTracking\\ultralytics\\yolo\\v8\\detect\\detection-1\\valid\\labels... 77 images, 0 backgrounds, 0 corrupt:  12%|█▏        | 77/619 [00:13<00:56,  9.54it/s]\n",
            "\u001b[34m\u001b[1mval: \u001b[0mScanning D:\\software\\LocalProjects\\VehicleTracking\\ultralytics\\yolo\\v8\\detect\\detection-1\\valid\\labels... 128 images, 0 backgrounds, 0 corrupt:  21%|██        | 128/619 [00:13<00:24, 19.79it/s]\n",
            "\u001b[34m\u001b[1mval: \u001b[0mScanning D:\\software\\LocalProjects\\VehicleTracking\\ultralytics\\yolo\\v8\\detect\\detection-1\\valid\\labels... 273 images, 1 backgrounds, 0 corrupt:  44%|████▍     | 273/619 [00:13<00:05, 60.46it/s]\n",
            "\u001b[34m\u001b[1mval: \u001b[0mScanning D:\\software\\LocalProjects\\VehicleTracking\\ultralytics\\yolo\\v8\\detect\\detection-1\\valid\\labels... 439 images, 1 backgrounds, 0 corrupt:  71%|███████   | 439/619 [00:14<00:01, 122.89it/s]\n",
            "\u001b[34m\u001b[1mval: \u001b[0mScanning D:\\software\\LocalProjects\\VehicleTracking\\ultralytics\\yolo\\v8\\detect\\detection-1\\valid\\labels... 610 images, 1 backgrounds, 0 corrupt:  99%|█████████▊| 610/619 [00:14<00:00, 206.69it/s]\n",
            "\u001b[34m\u001b[1mval: \u001b[0mScanning D:\\software\\LocalProjects\\VehicleTracking\\ultralytics\\yolo\\v8\\detect\\detection-1\\valid\\labels... 619 images, 1 backgrounds, 0 corrupt: 100%|██████████| 619/619 [00:14<00:00, 43.67it/s] \n",
            "\u001b[34m\u001b[1mval: \u001b[0mNew cache created: D:\\software\\LocalProjects\\VehicleTracking\\ultralytics\\yolo\\v8\\detect\\detection-1\\valid\\labels.cache\n",
            "\n",
            "                 Class     Images  Instances      Box(P          R      mAP50  mAP50-95):   0%|          | 0/39 [00:00<?, ?it/s]\n",
            "                 Class     Images  Instances      Box(P          R      mAP50  mAP50-95):   0%|          | 0/39 [01:41<?, ?it/s]\n",
            "Error executing job with overrides: [\"model='best.pt'\", 'data=d:\\\\software\\\\LocalProjects\\\\VehicleTracking\\\\ultralytics\\\\yolo\\\\v8\\\\detect\\\\detection-1/data.yaml']\n",
            "\n",
            "Traceback (most recent call last):\n",
            "  File \"D:\\software\\LocalProjects\\VehicleTracking\\ultralytics\\yolo\\v8\\detect\\val.py\", line 237, in val\n",
            "    validator(model=cfg.model)\n",
            "  File \"d:\\software\\Anaconda\\envs\\pytorch2\\lib\\site-packages\\torch\\utils\\_contextlib.py\", line 116, in decorate_context\n",
            "    return func(*args, **kwargs)\n",
            "  File \"d:\\software\\Anaconda\\envs\\pytorch2\\lib\\site-packages\\ultralytics\\yolo\\engine\\validator.py\", line 142, in __call__\n",
            "    preds = model(batch[\"img\"])\n",
            "  File \"d:\\software\\Anaconda\\envs\\pytorch2\\lib\\site-packages\\torch\\nn\\modules\\module.py\", line 1736, in _wrapped_call_impl\n",
            "    return self._call_impl(*args, **kwargs)\n",
            "  File \"d:\\software\\Anaconda\\envs\\pytorch2\\lib\\site-packages\\torch\\nn\\modules\\module.py\", line 1747, in _call_impl\n",
            "    return forward_call(*args, **kwargs)\n",
            "  File \"d:\\software\\Anaconda\\envs\\pytorch2\\lib\\site-packages\\ultralytics\\nn\\autobackend.py\", line 252, in forward\n",
            "    y = self.model(im, augment=augment, visualize=visualize) if augment or visualize else self.model(im)\n",
            "  File \"d:\\software\\Anaconda\\envs\\pytorch2\\lib\\site-packages\\torch\\nn\\modules\\module.py\", line 1736, in _wrapped_call_impl\n",
            "    return self._call_impl(*args, **kwargs)\n",
            "  File \"d:\\software\\Anaconda\\envs\\pytorch2\\lib\\site-packages\\torch\\nn\\modules\\module.py\", line 1747, in _call_impl\n",
            "    return forward_call(*args, **kwargs)\n",
            "  File \"d:\\software\\Anaconda\\envs\\pytorch2\\lib\\site-packages\\ultralytics\\nn\\tasks.py\", line 175, in forward\n",
            "    return self._forward_once(x, profile, visualize)  # single-scale inference, train\n",
            "  File \"d:\\software\\Anaconda\\envs\\pytorch2\\lib\\site-packages\\ultralytics\\nn\\tasks.py\", line 56, in _forward_once\n",
            "    x = m(x)  # run\n",
            "  File \"d:\\software\\Anaconda\\envs\\pytorch2\\lib\\site-packages\\torch\\nn\\modules\\module.py\", line 1736, in _wrapped_call_impl\n",
            "    return self._call_impl(*args, **kwargs)\n",
            "  File \"d:\\software\\Anaconda\\envs\\pytorch2\\lib\\site-packages\\torch\\nn\\modules\\module.py\", line 1747, in _call_impl\n",
            "    return forward_call(*args, **kwargs)\n",
            "  File \"d:\\software\\Anaconda\\envs\\pytorch2\\lib\\site-packages\\ultralytics\\nn\\modules.py\", line 208, in forward\n",
            "    return self.cv2(torch.cat(y, 1))\n",
            "torch.OutOfMemoryError: CUDA out of memory. Tried to allocate 552.00 MiB. GPU 0 has a total capacity of 6.00 GiB of which 3.43 GiB is free. Of the allocated memory 1.20 GiB is allocated by PyTorch, and 356.20 MiB is reserved by PyTorch but unallocated. If reserved but unallocated memory is large try setting PYTORCH_CUDA_ALLOC_CONF=expandable_segments:True to avoid fragmentation.  See documentation for Memory Management  (https://pytorch.org/docs/stable/notes/cuda.html#environment-variables)\n",
            "\n",
            "Set the environment variable HYDRA_FULL_ERROR=1 for a complete stack trace.\n"
          ]
        }
      ],
      "source": [
        "!python val.py model='best.pt' data={dataset.location}/data.yaml"
      ]
    },
    {
      "cell_type": "markdown",
      "metadata": {
        "id": "9IK3akBhskF0"
      },
      "source": [
        "#**Inference with Custom Model**"
      ]
    },
    {
      "cell_type": "markdown",
      "metadata": {
        "id": "hFK1w1poGo-G"
      },
      "source": [
        "#**Demo Video 1**"
      ]
    },
    {
      "cell_type": "code",
      "execution_count": null,
      "metadata": {
        "colab": {
          "base_uri": "https://localhost:8080/"
        },
        "id": "g9iHpyuVFv_X",
        "outputId": "d276207b-119e-464f-a0a0-d0e6ea9c1ad2"
      },
      "outputs": [],
      "source": [
        "!gdown \"https://drive.google.com/uc?id=1UUZUS76ylH5RjMSc9s4rITSYDTG5AHt0&confirm=t\"\n"
      ]
    },
    {
      "cell_type": "code",
      "execution_count": 32,
      "metadata": {
        "colab": {
          "base_uri": "https://localhost:8080/"
        },
        "id": "dWLLqGbnsipu",
        "outputId": "6ca66087-1ca5-4c7f-f68b-f9f722a2c796"
      },
      "outputs": [
        {
          "name": "stdout",
          "output_type": "stream",
          "text": [
            "[2025-04-28 17:24:07,556][root.tracker][INFO] - Loading weights from deep_sort_pytorch/deep_sort/deep/checkpoint/ckpt.t7... Done!\n"
          ]
        },
        {
          "name": "stderr",
          "output_type": "stream",
          "text": [
            "D:\\software\\LocalProjects\\VehicleTracking\\ultralytics\\yolo\\v8\\detect\\deep_sort_pytorch\\deep_sort\\deep\\feature_extractor.py:14: FutureWarning: You are using `torch.load` with `weights_only=False` (the current default value), which uses the default pickle module implicitly. It is possible to construct malicious pickle data which will execute arbitrary code during unpickling (See https://github.com/pytorch/pytorch/blob/main/SECURITY.md#untrusted-models for more details). In a future release, the default value for `weights_only` will be flipped to `True`. This limits the functions that could be executed during unpickling. Arbitrary objects will no longer be allowed to be loaded via this mode unless they are explicitly allowlisted by the user via `torch.serialization.add_safe_globals`. We recommend you start setting `weights_only=True` for any use case where you don't have full control of the loaded file. Please open an issue on GitHub for any issues related to this experimental feature.\n",
            "  state_dict = torch.load(model_path, map_location=torch.device(self.device))[\n",
            "Ultralytics YOLOv8.0.3  Python-3.9.18 torch-2.5.0 CUDA:0 (NVIDIA GeForce RTX 3060 Laptop GPU, 6144MiB)\n",
            "d:\\software\\Anaconda\\envs\\pytorch2\\lib\\site-packages\\ultralytics\\nn\\tasks.py:303: FutureWarning: You are using `torch.load` with `weights_only=False` (the current default value), which uses the default pickle module implicitly. It is possible to construct malicious pickle data which will execute arbitrary code during unpickling (See https://github.com/pytorch/pytorch/blob/main/SECURITY.md#untrusted-models for more details). In a future release, the default value for `weights_only` will be flipped to `True`. This limits the functions that could be executed during unpickling. Arbitrary objects will no longer be allowed to be loaded via this mode unless they are explicitly allowlisted by the user via `torch.serialization.add_safe_globals`. We recommend you start setting `weights_only=True` for any use case where you don't have full control of the loaded file. Please open an issue on GitHub for any issues related to this experimental feature.\n",
            "  ckpt = torch.load(attempt_download(w), map_location='cpu')  # load\n",
            "Fusing layers... \n",
            "Model summary: 268 layers, 43614318 parameters, 0 gradients, 164.9 GFLOPs\n",
            "video 1/1 (1/601) D:\\software\\LocalProjects\\VehicleTracking\\ultralytics\\yolo\\v8\\detect\\test3.mp4: 384x640 80.1ms\n",
            "video 1/1 (2/601) D:\\software\\LocalProjects\\VehicleTracking\\ultralytics\\yolo\\v8\\detect\\test3.mp4: 384x640 19.2ms\n",
            "video 1/1 (3/601) D:\\software\\LocalProjects\\VehicleTracking\\ultralytics\\yolo\\v8\\detect\\test3.mp4: 384x640 1 car, 19.0ms\n",
            "video 1/1 (4/601) D:\\software\\LocalProjects\\VehicleTracking\\ultralytics\\yolo\\v8\\detect\\test3.mp4: 384x640 1 car, 19.4ms\n",
            "video 1/1 (5/601) D:\\software\\LocalProjects\\VehicleTracking\\ultralytics\\yolo\\v8\\detect\\test3.mp4: 384x640 1 car, 19.5ms\n",
            "video 1/1 (6/601) D:\\software\\LocalProjects\\VehicleTracking\\ultralytics\\yolo\\v8\\detect\\test3.mp4: 384x640 2 cars, 19.3ms\n",
            "video 1/1 (7/601) D:\\software\\LocalProjects\\VehicleTracking\\ultralytics\\yolo\\v8\\detect\\test3.mp4: 384x640 2 cars, 1 truck, 20.0ms\n",
            "video 1/1 (8/601) D:\\software\\LocalProjects\\VehicleTracking\\ultralytics\\yolo\\v8\\detect\\test3.mp4: 384x640 1 car, 1 truck, 20.3ms\n",
            "video 1/1 (9/601) D:\\software\\LocalProjects\\VehicleTracking\\ultralytics\\yolo\\v8\\detect\\test3.mp4: 384x640 1 truck, 20.0ms\n",
            "video 1/1 (10/601) D:\\software\\LocalProjects\\VehicleTracking\\ultralytics\\yolo\\v8\\detect\\test3.mp4: 384x640 1 truck, 18.5ms\n",
            "video 1/1 (11/601) D:\\software\\LocalProjects\\VehicleTracking\\ultralytics\\yolo\\v8\\detect\\test3.mp4: 384x640 19.0ms\n",
            "video 1/1 (12/601) D:\\software\\LocalProjects\\VehicleTracking\\ultralytics\\yolo\\v8\\detect\\test3.mp4: 384x640 18.5ms\n",
            "video 1/1 (13/601) D:\\software\\LocalProjects\\VehicleTracking\\ultralytics\\yolo\\v8\\detect\\test3.mp4: 384x640 22.5ms\n",
            "video 1/1 (14/601) D:\\software\\LocalProjects\\VehicleTracking\\ultralytics\\yolo\\v8\\detect\\test3.mp4: 384x640 19.3ms\n",
            "video 1/1 (15/601) D:\\software\\LocalProjects\\VehicleTracking\\ultralytics\\yolo\\v8\\detect\\test3.mp4: 384x640 17.3ms\n",
            "video 1/1 (16/601) D:\\software\\LocalProjects\\VehicleTracking\\ultralytics\\yolo\\v8\\detect\\test3.mp4: 384x640 16.4ms\n",
            "video 1/1 (17/601) D:\\software\\LocalProjects\\VehicleTracking\\ultralytics\\yolo\\v8\\detect\\test3.mp4: 384x640 23.0ms\n",
            "video 1/1 (18/601) D:\\software\\LocalProjects\\VehicleTracking\\ultralytics\\yolo\\v8\\detect\\test3.mp4: 384x640 15.8ms\n",
            "video 1/1 (19/601) D:\\software\\LocalProjects\\VehicleTracking\\ultralytics\\yolo\\v8\\detect\\test3.mp4: 384x640 16.2ms\n",
            "video 1/1 (20/601) D:\\software\\LocalProjects\\VehicleTracking\\ultralytics\\yolo\\v8\\detect\\test3.mp4: 384x640 18.3ms\n",
            "video 1/1 (21/601) D:\\software\\LocalProjects\\VehicleTracking\\ultralytics\\yolo\\v8\\detect\\test3.mp4: 384x640 15.6ms\n",
            "video 1/1 (22/601) D:\\software\\LocalProjects\\VehicleTracking\\ultralytics\\yolo\\v8\\detect\\test3.mp4: 384x640 15.8ms\n",
            "video 1/1 (23/601) D:\\software\\LocalProjects\\VehicleTracking\\ultralytics\\yolo\\v8\\detect\\test3.mp4: 384x640 14.8ms\n",
            "video 1/1 (24/601) D:\\software\\LocalProjects\\VehicleTracking\\ultralytics\\yolo\\v8\\detect\\test3.mp4: 384x640 16.4ms\n",
            "video 1/1 (25/601) D:\\software\\LocalProjects\\VehicleTracking\\ultralytics\\yolo\\v8\\detect\\test3.mp4: 384x640 16.0ms\n",
            "video 1/1 (26/601) D:\\software\\LocalProjects\\VehicleTracking\\ultralytics\\yolo\\v8\\detect\\test3.mp4: 384x640 16.1ms\n",
            "video 1/1 (27/601) D:\\software\\LocalProjects\\VehicleTracking\\ultralytics\\yolo\\v8\\detect\\test3.mp4: 384x640 16.0ms\n",
            "video 1/1 (28/601) D:\\software\\LocalProjects\\VehicleTracking\\ultralytics\\yolo\\v8\\detect\\test3.mp4: 384x640 15.5ms\n",
            "video 1/1 (29/601) D:\\software\\LocalProjects\\VehicleTracking\\ultralytics\\yolo\\v8\\detect\\test3.mp4: 384x640 13.5ms\n",
            "video 1/1 (30/601) D:\\software\\LocalProjects\\VehicleTracking\\ultralytics\\yolo\\v8\\detect\\test3.mp4: 384x640 2 cars, 16.7ms\n",
            "video 1/1 (31/601) D:\\software\\LocalProjects\\VehicleTracking\\ultralytics\\yolo\\v8\\detect\\test3.mp4: 384x640 1 car, 15.8ms\n",
            "video 1/1 (32/601) D:\\software\\LocalProjects\\VehicleTracking\\ultralytics\\yolo\\v8\\detect\\test3.mp4: 384x640 14.5ms\n",
            "video 1/1 (33/601) D:\\software\\LocalProjects\\VehicleTracking\\ultralytics\\yolo\\v8\\detect\\test3.mp4: 384x640 16.0ms\n",
            "video 1/1 (34/601) D:\\software\\LocalProjects\\VehicleTracking\\ultralytics\\yolo\\v8\\detect\\test3.mp4: 384x640 16.5ms\n",
            "video 1/1 (35/601) D:\\software\\LocalProjects\\VehicleTracking\\ultralytics\\yolo\\v8\\detect\\test3.mp4: 384x640 17.0ms\n",
            "video 1/1 (36/601) D:\\software\\LocalProjects\\VehicleTracking\\ultralytics\\yolo\\v8\\detect\\test3.mp4: 384x640 18.7ms\n",
            "video 1/1 (37/601) D:\\software\\LocalProjects\\VehicleTracking\\ultralytics\\yolo\\v8\\detect\\test3.mp4: 384x640 22.6ms\n",
            "video 1/1 (38/601) D:\\software\\LocalProjects\\VehicleTracking\\ultralytics\\yolo\\v8\\detect\\test3.mp4: 384x640 1 car, 18.8ms\n",
            "video 1/1 (39/601) D:\\software\\LocalProjects\\VehicleTracking\\ultralytics\\yolo\\v8\\detect\\test3.mp4: 384x640 1 car, 17.6ms\n",
            "video 1/1 (40/601) D:\\software\\LocalProjects\\VehicleTracking\\ultralytics\\yolo\\v8\\detect\\test3.mp4: 384x640 18.1ms\n",
            "video 1/1 (41/601) D:\\software\\LocalProjects\\VehicleTracking\\ultralytics\\yolo\\v8\\detect\\test3.mp4: 384x640 20.7ms\n",
            "video 1/1 (42/601) D:\\software\\LocalProjects\\VehicleTracking\\ultralytics\\yolo\\v8\\detect\\test3.mp4: 384x640 17.3ms\n",
            "video 1/1 (43/601) D:\\software\\LocalProjects\\VehicleTracking\\ultralytics\\yolo\\v8\\detect\\test3.mp4: 384x640 19.9ms\n",
            "video 1/1 (44/601) D:\\software\\LocalProjects\\VehicleTracking\\ultralytics\\yolo\\v8\\detect\\test3.mp4: 384x640 18.8ms\n",
            "video 1/1 (45/601) D:\\software\\LocalProjects\\VehicleTracking\\ultralytics\\yolo\\v8\\detect\\test3.mp4: 384x640 19.6ms\n",
            "video 1/1 (46/601) D:\\software\\LocalProjects\\VehicleTracking\\ultralytics\\yolo\\v8\\detect\\test3.mp4: 384x640 19.6ms\n",
            "video 1/1 (47/601) D:\\software\\LocalProjects\\VehicleTracking\\ultralytics\\yolo\\v8\\detect\\test3.mp4: 384x640 21.0ms\n",
            "video 1/1 (48/601) D:\\software\\LocalProjects\\VehicleTracking\\ultralytics\\yolo\\v8\\detect\\test3.mp4: 384x640 20.4ms\n",
            "video 1/1 (49/601) D:\\software\\LocalProjects\\VehicleTracking\\ultralytics\\yolo\\v8\\detect\\test3.mp4: 384x640 18.7ms\n",
            "video 1/1 (50/601) D:\\software\\LocalProjects\\VehicleTracking\\ultralytics\\yolo\\v8\\detect\\test3.mp4: 384x640 1 car, 1 motorcycle, 18.8ms\n",
            "video 1/1 (51/601) D:\\software\\LocalProjects\\VehicleTracking\\ultralytics\\yolo\\v8\\detect\\test3.mp4: 384x640 21.9ms\n",
            "video 1/1 (52/601) D:\\software\\LocalProjects\\VehicleTracking\\ultralytics\\yolo\\v8\\detect\\test3.mp4: 384x640 1 motorcycle, 20.1ms\n",
            "video 1/1 (53/601) D:\\software\\LocalProjects\\VehicleTracking\\ultralytics\\yolo\\v8\\detect\\test3.mp4: 384x640 21.0ms\n",
            "video 1/1 (54/601) D:\\software\\LocalProjects\\VehicleTracking\\ultralytics\\yolo\\v8\\detect\\test3.mp4: 384x640 21.9ms\n",
            "video 1/1 (55/601) D:\\software\\LocalProjects\\VehicleTracking\\ultralytics\\yolo\\v8\\detect\\test3.mp4: 384x640 20.0ms\n",
            "video 1/1 (56/601) D:\\software\\LocalProjects\\VehicleTracking\\ultralytics\\yolo\\v8\\detect\\test3.mp4: 384x640 1 car, 22.0ms\n",
            "video 1/1 (57/601) D:\\software\\LocalProjects\\VehicleTracking\\ultralytics\\yolo\\v8\\detect\\test3.mp4: 384x640 1 car, 25.8ms\n",
            "video 1/1 (58/601) D:\\software\\LocalProjects\\VehicleTracking\\ultralytics\\yolo\\v8\\detect\\test3.mp4: 384x640 1 car, 17.7ms\n",
            "video 1/1 (59/601) D:\\software\\LocalProjects\\VehicleTracking\\ultralytics\\yolo\\v8\\detect\\test3.mp4: 384x640 1 car, 17.0ms\n",
            "video 1/1 (60/601) D:\\software\\LocalProjects\\VehicleTracking\\ultralytics\\yolo\\v8\\detect\\test3.mp4: 384x640 21.0ms\n",
            "video 1/1 (61/601) D:\\software\\LocalProjects\\VehicleTracking\\ultralytics\\yolo\\v8\\detect\\test3.mp4: 384x640 38.0ms\n",
            "video 1/1 (62/601) D:\\software\\LocalProjects\\VehicleTracking\\ultralytics\\yolo\\v8\\detect\\test3.mp4: 384x640 18.5ms\n",
            "video 1/1 (63/601) D:\\software\\LocalProjects\\VehicleTracking\\ultralytics\\yolo\\v8\\detect\\test3.mp4: 384x640 20.0ms\n",
            "video 1/1 (64/601) D:\\software\\LocalProjects\\VehicleTracking\\ultralytics\\yolo\\v8\\detect\\test3.mp4: 384x640 18.5ms\n",
            "video 1/1 (65/601) D:\\software\\LocalProjects\\VehicleTracking\\ultralytics\\yolo\\v8\\detect\\test3.mp4: 384x640 16.2ms\n",
            "video 1/1 (66/601) D:\\software\\LocalProjects\\VehicleTracking\\ultralytics\\yolo\\v8\\detect\\test3.mp4: 384x640 19.2ms\n",
            "video 1/1 (67/601) D:\\software\\LocalProjects\\VehicleTracking\\ultralytics\\yolo\\v8\\detect\\test3.mp4: 384x640 19.7ms\n",
            "video 1/1 (68/601) D:\\software\\LocalProjects\\VehicleTracking\\ultralytics\\yolo\\v8\\detect\\test3.mp4: 384x640 22.2ms\n",
            "video 1/1 (69/601) D:\\software\\LocalProjects\\VehicleTracking\\ultralytics\\yolo\\v8\\detect\\test3.mp4: 384x640 19.8ms\n",
            "video 1/1 (70/601) D:\\software\\LocalProjects\\VehicleTracking\\ultralytics\\yolo\\v8\\detect\\test3.mp4: 384x640 24.2ms\n",
            "video 1/1 (71/601) D:\\software\\LocalProjects\\VehicleTracking\\ultralytics\\yolo\\v8\\detect\\test3.mp4: 384x640 19.8ms\n",
            "video 1/1 (72/601) D:\\software\\LocalProjects\\VehicleTracking\\ultralytics\\yolo\\v8\\detect\\test3.mp4: 384x640 1 car, 16.2ms\n",
            "video 1/1 (73/601) D:\\software\\LocalProjects\\VehicleTracking\\ultralytics\\yolo\\v8\\detect\\test3.mp4: 384x640 1 car, 21.5ms\n",
            "video 1/1 (74/601) D:\\software\\LocalProjects\\VehicleTracking\\ultralytics\\yolo\\v8\\detect\\test3.mp4: 384x640 1 car, 17.0ms\n",
            "video 1/1 (75/601) D:\\software\\LocalProjects\\VehicleTracking\\ultralytics\\yolo\\v8\\detect\\test3.mp4: 384x640 1 car, 1 truck, 16.8ms\n",
            "video 1/1 (76/601) D:\\software\\LocalProjects\\VehicleTracking\\ultralytics\\yolo\\v8\\detect\\test3.mp4: 384x640 1 car, 1 truck, 20.1ms\n",
            "video 1/1 (77/601) D:\\software\\LocalProjects\\VehicleTracking\\ultralytics\\yolo\\v8\\detect\\test3.mp4: 384x640 1 car, 1 truck, 20.0ms\n",
            "video 1/1 (78/601) D:\\software\\LocalProjects\\VehicleTracking\\ultralytics\\yolo\\v8\\detect\\test3.mp4: 384x640 1 truck, 18.4ms\n",
            "video 1/1 (79/601) D:\\software\\LocalProjects\\VehicleTracking\\ultralytics\\yolo\\v8\\detect\\test3.mp4: 384x640 1 truck, 20.2ms\n",
            "video 1/1 (80/601) D:\\software\\LocalProjects\\VehicleTracking\\ultralytics\\yolo\\v8\\detect\\test3.mp4: 384x640 1 car, 1 truck, 19.0ms\n",
            "video 1/1 (81/601) D:\\software\\LocalProjects\\VehicleTracking\\ultralytics\\yolo\\v8\\detect\\test3.mp4: 384x640 1 truck, 19.9ms\n",
            "video 1/1 (82/601) D:\\software\\LocalProjects\\VehicleTracking\\ultralytics\\yolo\\v8\\detect\\test3.mp4: 384x640 1 truck, 18.0ms\n",
            "video 1/1 (83/601) D:\\software\\LocalProjects\\VehicleTracking\\ultralytics\\yolo\\v8\\detect\\test3.mp4: 384x640 1 truck, 17.0ms\n",
            "video 1/1 (84/601) D:\\software\\LocalProjects\\VehicleTracking\\ultralytics\\yolo\\v8\\detect\\test3.mp4: 384x640 1 truck, 17.6ms\n",
            "video 1/1 (85/601) D:\\software\\LocalProjects\\VehicleTracking\\ultralytics\\yolo\\v8\\detect\\test3.mp4: 384x640 1 truck, 17.6ms\n",
            "video 1/1 (86/601) D:\\software\\LocalProjects\\VehicleTracking\\ultralytics\\yolo\\v8\\detect\\test3.mp4: 384x640 1 truck, 16.0ms\n",
            "video 1/1 (87/601) D:\\software\\LocalProjects\\VehicleTracking\\ultralytics\\yolo\\v8\\detect\\test3.mp4: 384x640 2 cars, 1 truck, 15.4ms\n",
            "video 1/1 (88/601) D:\\software\\LocalProjects\\VehicleTracking\\ultralytics\\yolo\\v8\\detect\\test3.mp4: 384x640 1 car, 1 truck, 15.5ms\n",
            "video 1/1 (89/601) D:\\software\\LocalProjects\\VehicleTracking\\ultralytics\\yolo\\v8\\detect\\test3.mp4: 384x640 2 cars, 1 truck, 16.7ms\n",
            "video 1/1 (90/601) D:\\software\\LocalProjects\\VehicleTracking\\ultralytics\\yolo\\v8\\detect\\test3.mp4: 384x640 2 cars, 1 truck, 19.6ms\n",
            "video 1/1 (91/601) D:\\software\\LocalProjects\\VehicleTracking\\ultralytics\\yolo\\v8\\detect\\test3.mp4: 384x640 1 car, 22.8ms\n",
            "video 1/1 (92/601) D:\\software\\LocalProjects\\VehicleTracking\\ultralytics\\yolo\\v8\\detect\\test3.mp4: 384x640 1 car, 15.0ms\n",
            "video 1/1 (93/601) D:\\software\\LocalProjects\\VehicleTracking\\ultralytics\\yolo\\v8\\detect\\test3.mp4: 384x640 2 cars, 1 truck, 17.1ms\n",
            "video 1/1 (94/601) D:\\software\\LocalProjects\\VehicleTracking\\ultralytics\\yolo\\v8\\detect\\test3.mp4: 384x640 17.7ms\n",
            "video 1/1 (95/601) D:\\software\\LocalProjects\\VehicleTracking\\ultralytics\\yolo\\v8\\detect\\test3.mp4: 384x640 18.3ms\n",
            "video 1/1 (96/601) D:\\software\\LocalProjects\\VehicleTracking\\ultralytics\\yolo\\v8\\detect\\test3.mp4: 384x640 1 car, 18.0ms\n",
            "video 1/1 (97/601) D:\\software\\LocalProjects\\VehicleTracking\\ultralytics\\yolo\\v8\\detect\\test3.mp4: 384x640 1 car, 16.6ms\n",
            "video 1/1 (98/601) D:\\software\\LocalProjects\\VehicleTracking\\ultralytics\\yolo\\v8\\detect\\test3.mp4: 384x640 2 cars, 17.5ms\n",
            "video 1/1 (99/601) D:\\software\\LocalProjects\\VehicleTracking\\ultralytics\\yolo\\v8\\detect\\test3.mp4: 384x640 2 cars, 16.5ms\n",
            "video 1/1 (100/601) D:\\software\\LocalProjects\\VehicleTracking\\ultralytics\\yolo\\v8\\detect\\test3.mp4: 384x640 18.0ms\n",
            "video 1/1 (101/601) D:\\software\\LocalProjects\\VehicleTracking\\ultralytics\\yolo\\v8\\detect\\test3.mp4: 384x640 1 car, 19.0ms\n",
            "video 1/1 (102/601) D:\\software\\LocalProjects\\VehicleTracking\\ultralytics\\yolo\\v8\\detect\\test3.mp4: 384x640 1 car, 17.1ms\n",
            "video 1/1 (103/601) D:\\software\\LocalProjects\\VehicleTracking\\ultralytics\\yolo\\v8\\detect\\test3.mp4: 384x640 1 car, 17.2ms\n",
            "video 1/1 (104/601) D:\\software\\LocalProjects\\VehicleTracking\\ultralytics\\yolo\\v8\\detect\\test3.mp4: 384x640 17.2ms\n",
            "video 1/1 (105/601) D:\\software\\LocalProjects\\VehicleTracking\\ultralytics\\yolo\\v8\\detect\\test3.mp4: 384x640 1 car, 16.0ms\n",
            "video 1/1 (106/601) D:\\software\\LocalProjects\\VehicleTracking\\ultralytics\\yolo\\v8\\detect\\test3.mp4: 384x640 1 car, 17.0ms\n",
            "video 1/1 (107/601) D:\\software\\LocalProjects\\VehicleTracking\\ultralytics\\yolo\\v8\\detect\\test3.mp4: 384x640 1 car, 15.0ms\n",
            "video 1/1 (108/601) D:\\software\\LocalProjects\\VehicleTracking\\ultralytics\\yolo\\v8\\detect\\test3.mp4: 384x640 1 car, 15.8ms\n",
            "video 1/1 (109/601) D:\\software\\LocalProjects\\VehicleTracking\\ultralytics\\yolo\\v8\\detect\\test3.mp4: 384x640 16.0ms\n",
            "video 1/1 (110/601) D:\\software\\LocalProjects\\VehicleTracking\\ultralytics\\yolo\\v8\\detect\\test3.mp4: 384x640 1 car, 17.2ms\n",
            "video 1/1 (111/601) D:\\software\\LocalProjects\\VehicleTracking\\ultralytics\\yolo\\v8\\detect\\test3.mp4: 384x640 1 car, 15.8ms\n",
            "video 1/1 (112/601) D:\\software\\LocalProjects\\VehicleTracking\\ultralytics\\yolo\\v8\\detect\\test3.mp4: 384x640 1 car, 16.0ms\n",
            "video 1/1 (113/601) D:\\software\\LocalProjects\\VehicleTracking\\ultralytics\\yolo\\v8\\detect\\test3.mp4: 384x640 27.6ms\n",
            "video 1/1 (114/601) D:\\software\\LocalProjects\\VehicleTracking\\ultralytics\\yolo\\v8\\detect\\test3.mp4: 384x640 18.1ms\n",
            "video 1/1 (115/601) D:\\software\\LocalProjects\\VehicleTracking\\ultralytics\\yolo\\v8\\detect\\test3.mp4: 384x640 17.4ms\n",
            "video 1/1 (116/601) D:\\software\\LocalProjects\\VehicleTracking\\ultralytics\\yolo\\v8\\detect\\test3.mp4: 384x640 21.0ms\n",
            "video 1/1 (117/601) D:\\software\\LocalProjects\\VehicleTracking\\ultralytics\\yolo\\v8\\detect\\test3.mp4: 384x640 15.4ms\n",
            "video 1/1 (118/601) D:\\software\\LocalProjects\\VehicleTracking\\ultralytics\\yolo\\v8\\detect\\test3.mp4: 384x640 1 car, 15.2ms\n",
            "video 1/1 (119/601) D:\\software\\LocalProjects\\VehicleTracking\\ultralytics\\yolo\\v8\\detect\\test3.mp4: 384x640 1 car, 15.2ms\n",
            "video 1/1 (120/601) D:\\software\\LocalProjects\\VehicleTracking\\ultralytics\\yolo\\v8\\detect\\test3.mp4: 384x640 1 car, 22.8ms\n",
            "video 1/1 (121/601) D:\\software\\LocalProjects\\VehicleTracking\\ultralytics\\yolo\\v8\\detect\\test3.mp4: 384x640 3 cars, 18.7ms\n",
            "video 1/1 (122/601) D:\\software\\LocalProjects\\VehicleTracking\\ultralytics\\yolo\\v8\\detect\\test3.mp4: 384x640 2 cars, 18.0ms\n",
            "video 1/1 (123/601) D:\\software\\LocalProjects\\VehicleTracking\\ultralytics\\yolo\\v8\\detect\\test3.mp4: 384x640 3 cars, 1 truck, 18.0ms\n",
            "video 1/1 (124/601) D:\\software\\LocalProjects\\VehicleTracking\\ultralytics\\yolo\\v8\\detect\\test3.mp4: 384x640 2 cars, 1 truck, 17.0ms\n",
            "video 1/1 (125/601) D:\\software\\LocalProjects\\VehicleTracking\\ultralytics\\yolo\\v8\\detect\\test3.mp4: 384x640 3 cars, 2 trucks, 14.0ms\n",
            "video 1/1 (126/601) D:\\software\\LocalProjects\\VehicleTracking\\ultralytics\\yolo\\v8\\detect\\test3.mp4: 384x640 2 cars, 1 truck, 15.3ms\n",
            "video 1/1 (127/601) D:\\software\\LocalProjects\\VehicleTracking\\ultralytics\\yolo\\v8\\detect\\test3.mp4: 384x640 1 car, 1 truck, 18.4ms\n",
            "video 1/1 (128/601) D:\\software\\LocalProjects\\VehicleTracking\\ultralytics\\yolo\\v8\\detect\\test3.mp4: 384x640 3 cars, 16.8ms\n",
            "video 1/1 (129/601) D:\\software\\LocalProjects\\VehicleTracking\\ultralytics\\yolo\\v8\\detect\\test3.mp4: 384x640 2 cars, 17.5ms\n",
            "video 1/1 (130/601) D:\\software\\LocalProjects\\VehicleTracking\\ultralytics\\yolo\\v8\\detect\\test3.mp4: 384x640 2 cars, 25.2ms\n",
            "video 1/1 (131/601) D:\\software\\LocalProjects\\VehicleTracking\\ultralytics\\yolo\\v8\\detect\\test3.mp4: 384x640 2 cars, 15.7ms\n",
            "video 1/1 (132/601) D:\\software\\LocalProjects\\VehicleTracking\\ultralytics\\yolo\\v8\\detect\\test3.mp4: 384x640 3 cars, 1 motorcycle, 15.0ms\n",
            "video 1/1 (133/601) D:\\software\\LocalProjects\\VehicleTracking\\ultralytics\\yolo\\v8\\detect\\test3.mp4: 384x640 2 cars, 1 motorcycle, 18.0ms\n",
            "video 1/1 (134/601) D:\\software\\LocalProjects\\VehicleTracking\\ultralytics\\yolo\\v8\\detect\\test3.mp4: 384x640 1 car, 23.5ms\n",
            "video 1/1 (135/601) D:\\software\\LocalProjects\\VehicleTracking\\ultralytics\\yolo\\v8\\detect\\test3.mp4: 384x640 3 cars, 1 motorcycle, 23.0ms\n",
            "video 1/1 (136/601) D:\\software\\LocalProjects\\VehicleTracking\\ultralytics\\yolo\\v8\\detect\\test3.mp4: 384x640 1 motorcycle, 17.1ms\n",
            "video 1/1 (137/601) D:\\software\\LocalProjects\\VehicleTracking\\ultralytics\\yolo\\v8\\detect\\test3.mp4: 384x640 2 motorcycles, 17.6ms\n",
            "video 1/1 (138/601) D:\\software\\LocalProjects\\VehicleTracking\\ultralytics\\yolo\\v8\\detect\\test3.mp4: 384x640 1 motorcycle, 16.1ms\n",
            "video 1/1 (139/601) D:\\software\\LocalProjects\\VehicleTracking\\ultralytics\\yolo\\v8\\detect\\test3.mp4: 384x640 2 motorcycles, 15.6ms\n",
            "video 1/1 (140/601) D:\\software\\LocalProjects\\VehicleTracking\\ultralytics\\yolo\\v8\\detect\\test3.mp4: 384x640 1 car, 2 motorcycles, 15.7ms\n",
            "video 1/1 (141/601) D:\\software\\LocalProjects\\VehicleTracking\\ultralytics\\yolo\\v8\\detect\\test3.mp4: 384x640 1 car, 1 motorcycle, 18.1ms\n",
            "video 1/1 (142/601) D:\\software\\LocalProjects\\VehicleTracking\\ultralytics\\yolo\\v8\\detect\\test3.mp4: 384x640 1 car, 29.1ms\n",
            "video 1/1 (143/601) D:\\software\\LocalProjects\\VehicleTracking\\ultralytics\\yolo\\v8\\detect\\test3.mp4: 384x640 1 car, 1 motorcycle, 17.0ms\n",
            "video 1/1 (144/601) D:\\software\\LocalProjects\\VehicleTracking\\ultralytics\\yolo\\v8\\detect\\test3.mp4: 384x640 1 car, 1 motorcycle, 15.9ms\n",
            "video 1/1 (145/601) D:\\software\\LocalProjects\\VehicleTracking\\ultralytics\\yolo\\v8\\detect\\test3.mp4: 384x640 15.3ms\n",
            "video 1/1 (146/601) D:\\software\\LocalProjects\\VehicleTracking\\ultralytics\\yolo\\v8\\detect\\test3.mp4: 384x640 1 car, 1 motorcycle, 19.0ms\n",
            "video 1/1 (147/601) D:\\software\\LocalProjects\\VehicleTracking\\ultralytics\\yolo\\v8\\detect\\test3.mp4: 384x640 1 car, 17.7ms\n",
            "video 1/1 (148/601) D:\\software\\LocalProjects\\VehicleTracking\\ultralytics\\yolo\\v8\\detect\\test3.mp4: 384x640 2 cars, 18.2ms\n",
            "video 1/1 (149/601) D:\\software\\LocalProjects\\VehicleTracking\\ultralytics\\yolo\\v8\\detect\\test3.mp4: 384x640 14.9ms\n",
            "video 1/1 (150/601) D:\\software\\LocalProjects\\VehicleTracking\\ultralytics\\yolo\\v8\\detect\\test3.mp4: 384x640 15.7ms\n",
            "video 1/1 (151/601) D:\\software\\LocalProjects\\VehicleTracking\\ultralytics\\yolo\\v8\\detect\\test3.mp4: 384x640 15.0ms\n",
            "video 1/1 (152/601) D:\\software\\LocalProjects\\VehicleTracking\\ultralytics\\yolo\\v8\\detect\\test3.mp4: 384x640 1 car, 16.5ms\n",
            "video 1/1 (153/601) D:\\software\\LocalProjects\\VehicleTracking\\ultralytics\\yolo\\v8\\detect\\test3.mp4: 384x640 1 car, 23.8ms\n",
            "video 1/1 (154/601) D:\\software\\LocalProjects\\VehicleTracking\\ultralytics\\yolo\\v8\\detect\\test3.mp4: 384x640 17.3ms\n",
            "video 1/1 (155/601) D:\\software\\LocalProjects\\VehicleTracking\\ultralytics\\yolo\\v8\\detect\\test3.mp4: 384x640 15.5ms\n",
            "video 1/1 (156/601) D:\\software\\LocalProjects\\VehicleTracking\\ultralytics\\yolo\\v8\\detect\\test3.mp4: 384x640 15.7ms\n",
            "video 1/1 (157/601) D:\\software\\LocalProjects\\VehicleTracking\\ultralytics\\yolo\\v8\\detect\\test3.mp4: 384x640 18.5ms\n",
            "video 1/1 (158/601) D:\\software\\LocalProjects\\VehicleTracking\\ultralytics\\yolo\\v8\\detect\\test3.mp4: 384x640 1 car, 15.0ms\n",
            "video 1/1 (159/601) D:\\software\\LocalProjects\\VehicleTracking\\ultralytics\\yolo\\v8\\detect\\test3.mp4: 384x640 14.8ms\n",
            "video 1/1 (160/601) D:\\software\\LocalProjects\\VehicleTracking\\ultralytics\\yolo\\v8\\detect\\test3.mp4: 384x640 15.5ms\n",
            "video 1/1 (161/601) D:\\software\\LocalProjects\\VehicleTracking\\ultralytics\\yolo\\v8\\detect\\test3.mp4: 384x640 17.0ms\n",
            "video 1/1 (162/601) D:\\software\\LocalProjects\\VehicleTracking\\ultralytics\\yolo\\v8\\detect\\test3.mp4: 384x640 1 car, 15.7ms\n",
            "video 1/1 (163/601) D:\\software\\LocalProjects\\VehicleTracking\\ultralytics\\yolo\\v8\\detect\\test3.mp4: 384x640 1 car, 1 motorcycle, 16.5ms\n",
            "video 1/1 (164/601) D:\\software\\LocalProjects\\VehicleTracking\\ultralytics\\yolo\\v8\\detect\\test3.mp4: 384x640 16.3ms\n",
            "video 1/1 (165/601) D:\\software\\LocalProjects\\VehicleTracking\\ultralytics\\yolo\\v8\\detect\\test3.mp4: 384x640 1 car, 16.0ms\n",
            "video 1/1 (166/601) D:\\software\\LocalProjects\\VehicleTracking\\ultralytics\\yolo\\v8\\detect\\test3.mp4: 384x640 1 car, 1 motorcycle, 14.6ms\n",
            "video 1/1 (167/601) D:\\software\\LocalProjects\\VehicleTracking\\ultralytics\\yolo\\v8\\detect\\test3.mp4: 384x640 1 motorcycle, 16.0ms\n",
            "video 1/1 (168/601) D:\\software\\LocalProjects\\VehicleTracking\\ultralytics\\yolo\\v8\\detect\\test3.mp4: 384x640 2 cars, 16.6ms\n",
            "video 1/1 (169/601) D:\\software\\LocalProjects\\VehicleTracking\\ultralytics\\yolo\\v8\\detect\\test3.mp4: 384x640 1 car, 15.7ms\n",
            "video 1/1 (170/601) D:\\software\\LocalProjects\\VehicleTracking\\ultralytics\\yolo\\v8\\detect\\test3.mp4: 384x640 1 car, 1 motorcycle, 15.0ms\n",
            "video 1/1 (171/601) D:\\software\\LocalProjects\\VehicleTracking\\ultralytics\\yolo\\v8\\detect\\test3.mp4: 384x640 1 car, 15.2ms\n",
            "video 1/1 (172/601) D:\\software\\LocalProjects\\VehicleTracking\\ultralytics\\yolo\\v8\\detect\\test3.mp4: 384x640 1 car, 14.2ms\n",
            "video 1/1 (173/601) D:\\software\\LocalProjects\\VehicleTracking\\ultralytics\\yolo\\v8\\detect\\test3.mp4: 384x640 1 car, 17.0ms\n",
            "video 1/1 (174/601) D:\\software\\LocalProjects\\VehicleTracking\\ultralytics\\yolo\\v8\\detect\\test3.mp4: 384x640 1 car, 15.7ms\n",
            "video 1/1 (175/601) D:\\software\\LocalProjects\\VehicleTracking\\ultralytics\\yolo\\v8\\detect\\test3.mp4: 384x640 15.6ms\n",
            "video 1/1 (176/601) D:\\software\\LocalProjects\\VehicleTracking\\ultralytics\\yolo\\v8\\detect\\test3.mp4: 384x640 2 cars, 14.7ms\n",
            "video 1/1 (177/601) D:\\software\\LocalProjects\\VehicleTracking\\ultralytics\\yolo\\v8\\detect\\test3.mp4: 384x640 14.7ms\n",
            "video 1/1 (178/601) D:\\software\\LocalProjects\\VehicleTracking\\ultralytics\\yolo\\v8\\detect\\test3.mp4: 384x640 21.3ms\n",
            "video 1/1 (179/601) D:\\software\\LocalProjects\\VehicleTracking\\ultralytics\\yolo\\v8\\detect\\test3.mp4: 384x640 15.5ms\n",
            "video 1/1 (180/601) D:\\software\\LocalProjects\\VehicleTracking\\ultralytics\\yolo\\v8\\detect\\test3.mp4: 384x640 21.0ms\n",
            "video 1/1 (181/601) D:\\software\\LocalProjects\\VehicleTracking\\ultralytics\\yolo\\v8\\detect\\test3.mp4: 384x640 14.9ms\n",
            "video 1/1 (182/601) D:\\software\\LocalProjects\\VehicleTracking\\ultralytics\\yolo\\v8\\detect\\test3.mp4: 384x640 16.0ms\n",
            "video 1/1 (183/601) D:\\software\\LocalProjects\\VehicleTracking\\ultralytics\\yolo\\v8\\detect\\test3.mp4: 384x640 1 car, 15.9ms\n",
            "video 1/1 (184/601) D:\\software\\LocalProjects\\VehicleTracking\\ultralytics\\yolo\\v8\\detect\\test3.mp4: 384x640 1 car, 16.0ms\n",
            "video 1/1 (185/601) D:\\software\\LocalProjects\\VehicleTracking\\ultralytics\\yolo\\v8\\detect\\test3.mp4: 384x640 15.5ms\n",
            "video 1/1 (186/601) D:\\software\\LocalProjects\\VehicleTracking\\ultralytics\\yolo\\v8\\detect\\test3.mp4: 384x640 1 car, 15.3ms\n",
            "video 1/1 (187/601) D:\\software\\LocalProjects\\VehicleTracking\\ultralytics\\yolo\\v8\\detect\\test3.mp4: 384x640 15.5ms\n",
            "video 1/1 (188/601) D:\\software\\LocalProjects\\VehicleTracking\\ultralytics\\yolo\\v8\\detect\\test3.mp4: 384x640 15.5ms\n",
            "video 1/1 (189/601) D:\\software\\LocalProjects\\VehicleTracking\\ultralytics\\yolo\\v8\\detect\\test3.mp4: 384x640 16.0ms\n",
            "video 1/1 (190/601) D:\\software\\LocalProjects\\VehicleTracking\\ultralytics\\yolo\\v8\\detect\\test3.mp4: 384x640 1 car, 16.2ms\n",
            "video 1/1 (191/601) D:\\software\\LocalProjects\\VehicleTracking\\ultralytics\\yolo\\v8\\detect\\test3.mp4: 384x640 16.4ms\n",
            "video 1/1 (192/601) D:\\software\\LocalProjects\\VehicleTracking\\ultralytics\\yolo\\v8\\detect\\test3.mp4: 384x640 1 truck, 15.4ms\n",
            "video 1/1 (193/601) D:\\software\\LocalProjects\\VehicleTracking\\ultralytics\\yolo\\v8\\detect\\test3.mp4: 384x640 1 truck, 16.0ms\n",
            "video 1/1 (194/601) D:\\software\\LocalProjects\\VehicleTracking\\ultralytics\\yolo\\v8\\detect\\test3.mp4: 384x640 1 truck, 17.5ms\n",
            "video 1/1 (195/601) D:\\software\\LocalProjects\\VehicleTracking\\ultralytics\\yolo\\v8\\detect\\test3.mp4: 384x640 1 truck, 16.1ms\n",
            "video 1/1 (196/601) D:\\software\\LocalProjects\\VehicleTracking\\ultralytics\\yolo\\v8\\detect\\test3.mp4: 384x640 1 truck, 15.5ms\n",
            "video 1/1 (197/601) D:\\software\\LocalProjects\\VehicleTracking\\ultralytics\\yolo\\v8\\detect\\test3.mp4: 384x640 1 truck, 26.4ms\n",
            "video 1/1 (198/601) D:\\software\\LocalProjects\\VehicleTracking\\ultralytics\\yolo\\v8\\detect\\test3.mp4: 384x640 1 truck, 14.5ms\n",
            "video 1/1 (199/601) D:\\software\\LocalProjects\\VehicleTracking\\ultralytics\\yolo\\v8\\detect\\test3.mp4: 384x640 1 truck, 15.9ms\n",
            "video 1/1 (200/601) D:\\software\\LocalProjects\\VehicleTracking\\ultralytics\\yolo\\v8\\detect\\test3.mp4: 384x640 1 truck, 15.0ms\n",
            "video 1/1 (201/601) D:\\software\\LocalProjects\\VehicleTracking\\ultralytics\\yolo\\v8\\detect\\test3.mp4: 384x640 1 truck, 29.3ms\n",
            "video 1/1 (202/601) D:\\software\\LocalProjects\\VehicleTracking\\ultralytics\\yolo\\v8\\detect\\test3.mp4: 384x640 2 trucks, 17.1ms\n",
            "video 1/1 (203/601) D:\\software\\LocalProjects\\VehicleTracking\\ultralytics\\yolo\\v8\\detect\\test3.mp4: 384x640 1 truck, 16.9ms\n",
            "video 1/1 (204/601) D:\\software\\LocalProjects\\VehicleTracking\\ultralytics\\yolo\\v8\\detect\\test3.mp4: 384x640 1 truck, 21.2ms\n",
            "video 1/1 (205/601) D:\\software\\LocalProjects\\VehicleTracking\\ultralytics\\yolo\\v8\\detect\\test3.mp4: 384x640 15.7ms\n",
            "video 1/1 (206/601) D:\\software\\LocalProjects\\VehicleTracking\\ultralytics\\yolo\\v8\\detect\\test3.mp4: 384x640 1 car, 20.6ms\n",
            "video 1/1 (207/601) D:\\software\\LocalProjects\\VehicleTracking\\ultralytics\\yolo\\v8\\detect\\test3.mp4: 384x640 22.7ms\n",
            "video 1/1 (208/601) D:\\software\\LocalProjects\\VehicleTracking\\ultralytics\\yolo\\v8\\detect\\test3.mp4: 384x640 16.0ms\n",
            "video 1/1 (209/601) D:\\software\\LocalProjects\\VehicleTracking\\ultralytics\\yolo\\v8\\detect\\test3.mp4: 384x640 16.0ms\n",
            "video 1/1 (210/601) D:\\software\\LocalProjects\\VehicleTracking\\ultralytics\\yolo\\v8\\detect\\test3.mp4: 384x640 16.2ms\n",
            "video 1/1 (211/601) D:\\software\\LocalProjects\\VehicleTracking\\ultralytics\\yolo\\v8\\detect\\test3.mp4: 384x640 20.1ms\n",
            "video 1/1 (212/601) D:\\software\\LocalProjects\\VehicleTracking\\ultralytics\\yolo\\v8\\detect\\test3.mp4: 384x640 20.0ms\n",
            "video 1/1 (213/601) D:\\software\\LocalProjects\\VehicleTracking\\ultralytics\\yolo\\v8\\detect\\test3.mp4: 384x640 14.3ms\n",
            "video 1/1 (214/601) D:\\software\\LocalProjects\\VehicleTracking\\ultralytics\\yolo\\v8\\detect\\test3.mp4: 384x640 16.3ms\n",
            "video 1/1 (215/601) D:\\software\\LocalProjects\\VehicleTracking\\ultralytics\\yolo\\v8\\detect\\test3.mp4: 384x640 23.5ms\n",
            "video 1/1 (216/601) D:\\software\\LocalProjects\\VehicleTracking\\ultralytics\\yolo\\v8\\detect\\test3.mp4: 384x640 15.8ms\n",
            "video 1/1 (217/601) D:\\software\\LocalProjects\\VehicleTracking\\ultralytics\\yolo\\v8\\detect\\test3.mp4: 384x640 15.7ms\n",
            "video 1/1 (218/601) D:\\software\\LocalProjects\\VehicleTracking\\ultralytics\\yolo\\v8\\detect\\test3.mp4: 384x640 17.7ms\n",
            "video 1/1 (219/601) D:\\software\\LocalProjects\\VehicleTracking\\ultralytics\\yolo\\v8\\detect\\test3.mp4: 384x640 16.6ms\n",
            "video 1/1 (220/601) D:\\software\\LocalProjects\\VehicleTracking\\ultralytics\\yolo\\v8\\detect\\test3.mp4: 384x640 15.2ms\n",
            "video 1/1 (221/601) D:\\software\\LocalProjects\\VehicleTracking\\ultralytics\\yolo\\v8\\detect\\test3.mp4: 384x640 15.5ms\n",
            "video 1/1 (222/601) D:\\software\\LocalProjects\\VehicleTracking\\ultralytics\\yolo\\v8\\detect\\test3.mp4: 384x640 15.8ms\n",
            "video 1/1 (223/601) D:\\software\\LocalProjects\\VehicleTracking\\ultralytics\\yolo\\v8\\detect\\test3.mp4: 384x640 15.5ms\n",
            "video 1/1 (224/601) D:\\software\\LocalProjects\\VehicleTracking\\ultralytics\\yolo\\v8\\detect\\test3.mp4: 384x640 19.6ms\n",
            "video 1/1 (225/601) D:\\software\\LocalProjects\\VehicleTracking\\ultralytics\\yolo\\v8\\detect\\test3.mp4: 384x640 15.2ms\n",
            "video 1/1 (226/601) D:\\software\\LocalProjects\\VehicleTracking\\ultralytics\\yolo\\v8\\detect\\test3.mp4: 384x640 17.0ms\n",
            "video 1/1 (227/601) D:\\software\\LocalProjects\\VehicleTracking\\ultralytics\\yolo\\v8\\detect\\test3.mp4: 384x640 15.5ms\n",
            "video 1/1 (228/601) D:\\software\\LocalProjects\\VehicleTracking\\ultralytics\\yolo\\v8\\detect\\test3.mp4: 384x640 14.5ms\n",
            "video 1/1 (229/601) D:\\software\\LocalProjects\\VehicleTracking\\ultralytics\\yolo\\v8\\detect\\test3.mp4: 384x640 17.2ms\n",
            "video 1/1 (230/601) D:\\software\\LocalProjects\\VehicleTracking\\ultralytics\\yolo\\v8\\detect\\test3.mp4: 384x640 16.4ms\n",
            "video 1/1 (231/601) D:\\software\\LocalProjects\\VehicleTracking\\ultralytics\\yolo\\v8\\detect\\test3.mp4: 384x640 16.1ms\n",
            "video 1/1 (232/601) D:\\software\\LocalProjects\\VehicleTracking\\ultralytics\\yolo\\v8\\detect\\test3.mp4: 384x640 15.5ms\n",
            "video 1/1 (233/601) D:\\software\\LocalProjects\\VehicleTracking\\ultralytics\\yolo\\v8\\detect\\test3.mp4: 384x640 15.0ms\n",
            "video 1/1 (234/601) D:\\software\\LocalProjects\\VehicleTracking\\ultralytics\\yolo\\v8\\detect\\test3.mp4: 384x640 16.1ms\n",
            "video 1/1 (235/601) D:\\software\\LocalProjects\\VehicleTracking\\ultralytics\\yolo\\v8\\detect\\test3.mp4: 384x640 14.9ms\n",
            "video 1/1 (236/601) D:\\software\\LocalProjects\\VehicleTracking\\ultralytics\\yolo\\v8\\detect\\test3.mp4: 384x640 16.3ms\n",
            "video 1/1 (237/601) D:\\software\\LocalProjects\\VehicleTracking\\ultralytics\\yolo\\v8\\detect\\test3.mp4: 384x640 17.4ms\n",
            "video 1/1 (238/601) D:\\software\\LocalProjects\\VehicleTracking\\ultralytics\\yolo\\v8\\detect\\test3.mp4: 384x640 16.3ms\n",
            "video 1/1 (239/601) D:\\software\\LocalProjects\\VehicleTracking\\ultralytics\\yolo\\v8\\detect\\test3.mp4: 384x640 1 car, 15.2ms\n",
            "video 1/1 (240/601) D:\\software\\LocalProjects\\VehicleTracking\\ultralytics\\yolo\\v8\\detect\\test3.mp4: 384x640 27.1ms\n",
            "video 1/1 (241/601) D:\\software\\LocalProjects\\VehicleTracking\\ultralytics\\yolo\\v8\\detect\\test3.mp4: 384x640 1 truck, 14.7ms\n",
            "video 1/1 (242/601) D:\\software\\LocalProjects\\VehicleTracking\\ultralytics\\yolo\\v8\\detect\\test3.mp4: 384x640 1 truck, 14.5ms\n",
            "video 1/1 (243/601) D:\\software\\LocalProjects\\VehicleTracking\\ultralytics\\yolo\\v8\\detect\\test3.mp4: 384x640 1 truck, 17.1ms\n",
            "video 1/1 (244/601) D:\\software\\LocalProjects\\VehicleTracking\\ultralytics\\yolo\\v8\\detect\\test3.mp4: 384x640 1 car, 18.0ms\n",
            "video 1/1 (245/601) D:\\software\\LocalProjects\\VehicleTracking\\ultralytics\\yolo\\v8\\detect\\test3.mp4: 384x640 1 car, 16.0ms\n",
            "video 1/1 (246/601) D:\\software\\LocalProjects\\VehicleTracking\\ultralytics\\yolo\\v8\\detect\\test3.mp4: 384x640 1 car, 15.5ms\n",
            "video 1/1 (247/601) D:\\software\\LocalProjects\\VehicleTracking\\ultralytics\\yolo\\v8\\detect\\test3.mp4: 384x640 16.2ms\n",
            "video 1/1 (248/601) D:\\software\\LocalProjects\\VehicleTracking\\ultralytics\\yolo\\v8\\detect\\test3.mp4: 384x640 1 truck, 16.8ms\n",
            "video 1/1 (249/601) D:\\software\\LocalProjects\\VehicleTracking\\ultralytics\\yolo\\v8\\detect\\test3.mp4: 384x640 1 truck, 15.0ms\n",
            "video 1/1 (250/601) D:\\software\\LocalProjects\\VehicleTracking\\ultralytics\\yolo\\v8\\detect\\test3.mp4: 384x640 1 motorcycle, 1 truck, 16.0ms\n",
            "video 1/1 (251/601) D:\\software\\LocalProjects\\VehicleTracking\\ultralytics\\yolo\\v8\\detect\\test3.mp4: 384x640 1 truck, 19.3ms\n",
            "video 1/1 (252/601) D:\\software\\LocalProjects\\VehicleTracking\\ultralytics\\yolo\\v8\\detect\\test3.mp4: 384x640 22.6ms\n",
            "video 1/1 (253/601) D:\\software\\LocalProjects\\VehicleTracking\\ultralytics\\yolo\\v8\\detect\\test3.mp4: 384x640 14.5ms\n",
            "video 1/1 (254/601) D:\\software\\LocalProjects\\VehicleTracking\\ultralytics\\yolo\\v8\\detect\\test3.mp4: 384x640 1 truck, 16.0ms\n",
            "video 1/1 (255/601) D:\\software\\LocalProjects\\VehicleTracking\\ultralytics\\yolo\\v8\\detect\\test3.mp4: 384x640 1 truck, 17.9ms\n",
            "video 1/1 (256/601) D:\\software\\LocalProjects\\VehicleTracking\\ultralytics\\yolo\\v8\\detect\\test3.mp4: 384x640 1 car, 3 trucks, 15.5ms\n",
            "video 1/1 (257/601) D:\\software\\LocalProjects\\VehicleTracking\\ultralytics\\yolo\\v8\\detect\\test3.mp4: 384x640 1 truck, 15.2ms\n",
            "video 1/1 (258/601) D:\\software\\LocalProjects\\VehicleTracking\\ultralytics\\yolo\\v8\\detect\\test3.mp4: 384x640 1 truck, 14.4ms\n",
            "video 1/1 (259/601) D:\\software\\LocalProjects\\VehicleTracking\\ultralytics\\yolo\\v8\\detect\\test3.mp4: 384x640 16.0ms\n",
            "video 1/1 (260/601) D:\\software\\LocalProjects\\VehicleTracking\\ultralytics\\yolo\\v8\\detect\\test3.mp4: 384x640 2 trucks, 15.5ms\n",
            "video 1/1 (261/601) D:\\software\\LocalProjects\\VehicleTracking\\ultralytics\\yolo\\v8\\detect\\test3.mp4: 384x640 1 truck, 16.5ms\n",
            "video 1/1 (262/601) D:\\software\\LocalProjects\\VehicleTracking\\ultralytics\\yolo\\v8\\detect\\test3.mp4: 384x640 2 trucks, 21.6ms\n",
            "video 1/1 (263/601) D:\\software\\LocalProjects\\VehicleTracking\\ultralytics\\yolo\\v8\\detect\\test3.mp4: 384x640 1 truck, 19.0ms\n",
            "video 1/1 (264/601) D:\\software\\LocalProjects\\VehicleTracking\\ultralytics\\yolo\\v8\\detect\\test3.mp4: 384x640 1 truck, 20.9ms\n",
            "video 1/1 (265/601) D:\\software\\LocalProjects\\VehicleTracking\\ultralytics\\yolo\\v8\\detect\\test3.mp4: 384x640 2 trucks, 17.2ms\n",
            "video 1/1 (266/601) D:\\software\\LocalProjects\\VehicleTracking\\ultralytics\\yolo\\v8\\detect\\test3.mp4: 384x640 1 truck, 15.0ms\n",
            "video 1/1 (267/601) D:\\software\\LocalProjects\\VehicleTracking\\ultralytics\\yolo\\v8\\detect\\test3.mp4: 384x640 1 truck, 16.6ms\n",
            "video 1/1 (268/601) D:\\software\\LocalProjects\\VehicleTracking\\ultralytics\\yolo\\v8\\detect\\test3.mp4: 384x640 1 car, 1 truck, 16.0ms\n",
            "video 1/1 (269/601) D:\\software\\LocalProjects\\VehicleTracking\\ultralytics\\yolo\\v8\\detect\\test3.mp4: 384x640 2 cars, 1 truck, 16.0ms\n",
            "video 1/1 (270/601) D:\\software\\LocalProjects\\VehicleTracking\\ultralytics\\yolo\\v8\\detect\\test3.mp4: 384x640 1 truck, 16.8ms\n",
            "video 1/1 (271/601) D:\\software\\LocalProjects\\VehicleTracking\\ultralytics\\yolo\\v8\\detect\\test3.mp4: 384x640 17.7ms\n",
            "video 1/1 (272/601) D:\\software\\LocalProjects\\VehicleTracking\\ultralytics\\yolo\\v8\\detect\\test3.mp4: 384x640 15.6ms\n",
            "video 1/1 (273/601) D:\\software\\LocalProjects\\VehicleTracking\\ultralytics\\yolo\\v8\\detect\\test3.mp4: 384x640 1 car, 2 trucks, 16.6ms\n",
            "video 1/1 (274/601) D:\\software\\LocalProjects\\VehicleTracking\\ultralytics\\yolo\\v8\\detect\\test3.mp4: 384x640 1 truck, 16.5ms\n",
            "video 1/1 (275/601) D:\\software\\LocalProjects\\VehicleTracking\\ultralytics\\yolo\\v8\\detect\\test3.mp4: 384x640 2 cars, 1 truck, 16.0ms\n",
            "video 1/1 (276/601) D:\\software\\LocalProjects\\VehicleTracking\\ultralytics\\yolo\\v8\\detect\\test3.mp4: 384x640 1 car, 1 truck, 15.0ms\n",
            "video 1/1 (277/601) D:\\software\\LocalProjects\\VehicleTracking\\ultralytics\\yolo\\v8\\detect\\test3.mp4: 384x640 2 cars, 1 truck, 18.0ms\n",
            "video 1/1 (278/601) D:\\software\\LocalProjects\\VehicleTracking\\ultralytics\\yolo\\v8\\detect\\test3.mp4: 384x640 1 car, 1 truck, 16.9ms\n",
            "video 1/1 (279/601) D:\\software\\LocalProjects\\VehicleTracking\\ultralytics\\yolo\\v8\\detect\\test3.mp4: 384x640 2 cars, 2 trucks, 15.4ms\n",
            "video 1/1 (280/601) D:\\software\\LocalProjects\\VehicleTracking\\ultralytics\\yolo\\v8\\detect\\test3.mp4: 384x640 1 car, 2 trucks, 15.0ms\n",
            "video 1/1 (281/601) D:\\software\\LocalProjects\\VehicleTracking\\ultralytics\\yolo\\v8\\detect\\test3.mp4: 384x640 3 cars, 1 motorcycle, 1 truck, 21.6ms\n",
            "video 1/1 (282/601) D:\\software\\LocalProjects\\VehicleTracking\\ultralytics\\yolo\\v8\\detect\\test3.mp4: 384x640 3 cars, 14.9ms\n",
            "video 1/1 (283/601) D:\\software\\LocalProjects\\VehicleTracking\\ultralytics\\yolo\\v8\\detect\\test3.mp4: 384x640 3 cars, 2 trucks, 15.7ms\n",
            "video 1/1 (284/601) D:\\software\\LocalProjects\\VehicleTracking\\ultralytics\\yolo\\v8\\detect\\test3.mp4: 384x640 4 cars, 2 trucks, 17.5ms\n",
            "video 1/1 (285/601) D:\\software\\LocalProjects\\VehicleTracking\\ultralytics\\yolo\\v8\\detect\\test3.mp4: 384x640 1 car, 1 truck, 15.0ms\n",
            "video 1/1 (286/601) D:\\software\\LocalProjects\\VehicleTracking\\ultralytics\\yolo\\v8\\detect\\test3.mp4: 384x640 2 trucks, 15.5ms\n",
            "video 1/1 (287/601) D:\\software\\LocalProjects\\VehicleTracking\\ultralytics\\yolo\\v8\\detect\\test3.mp4: 384x640 1 car, 3 trucks, 16.5ms\n",
            "video 1/1 (288/601) D:\\software\\LocalProjects\\VehicleTracking\\ultralytics\\yolo\\v8\\detect\\test3.mp4: 384x640 1 car, 3 trucks, 15.8ms\n",
            "video 1/1 (289/601) D:\\software\\LocalProjects\\VehicleTracking\\ultralytics\\yolo\\v8\\detect\\test3.mp4: 384x640 1 car, 1 truck, 19.2ms\n",
            "video 1/1 (290/601) D:\\software\\LocalProjects\\VehicleTracking\\ultralytics\\yolo\\v8\\detect\\test3.mp4: 384x640 1 car, 1 truck, 17.5ms\n",
            "video 1/1 (291/601) D:\\software\\LocalProjects\\VehicleTracking\\ultralytics\\yolo\\v8\\detect\\test3.mp4: 384x640 1 car, 1 motorcycle, 1 truck, 16.0ms\n",
            "video 1/1 (292/601) D:\\software\\LocalProjects\\VehicleTracking\\ultralytics\\yolo\\v8\\detect\\test3.mp4: 384x640 1 truck, 14.5ms\n",
            "video 1/1 (293/601) D:\\software\\LocalProjects\\VehicleTracking\\ultralytics\\yolo\\v8\\detect\\test3.mp4: 384x640 2 cars, 1 truck, 16.4ms\n",
            "video 1/1 (294/601) D:\\software\\LocalProjects\\VehicleTracking\\ultralytics\\yolo\\v8\\detect\\test3.mp4: 384x640 1 car, 1 truck, 16.0ms\n",
            "video 1/1 (295/601) D:\\software\\LocalProjects\\VehicleTracking\\ultralytics\\yolo\\v8\\detect\\test3.mp4: 384x640 1 car, 1 truck, 17.5ms\n",
            "video 1/1 (296/601) D:\\software\\LocalProjects\\VehicleTracking\\ultralytics\\yolo\\v8\\detect\\test3.mp4: 384x640 1 car, 1 truck, 15.1ms\n",
            "video 1/1 (297/601) D:\\software\\LocalProjects\\VehicleTracking\\ultralytics\\yolo\\v8\\detect\\test3.mp4: 384x640 3 cars, 1 truck, 15.5ms\n",
            "video 1/1 (298/601) D:\\software\\LocalProjects\\VehicleTracking\\ultralytics\\yolo\\v8\\detect\\test3.mp4: 384x640 2 cars, 1 truck, 17.7ms\n",
            "video 1/1 (299/601) D:\\software\\LocalProjects\\VehicleTracking\\ultralytics\\yolo\\v8\\detect\\test3.mp4: 384x640 2 cars, 1 truck, 17.1ms\n",
            "video 1/1 (300/601) D:\\software\\LocalProjects\\VehicleTracking\\ultralytics\\yolo\\v8\\detect\\test3.mp4: 384x640 1 car, 1 truck, 16.7ms\n",
            "video 1/1 (301/601) D:\\software\\LocalProjects\\VehicleTracking\\ultralytics\\yolo\\v8\\detect\\test3.mp4: 384x640 1 car, 1 truck, 16.3ms\n",
            "video 1/1 (302/601) D:\\software\\LocalProjects\\VehicleTracking\\ultralytics\\yolo\\v8\\detect\\test3.mp4: 384x640 1 car, 1 truck, 17.2ms\n",
            "video 1/1 (303/601) D:\\software\\LocalProjects\\VehicleTracking\\ultralytics\\yolo\\v8\\detect\\test3.mp4: 384x640 1 car, 2 trucks, 19.0ms\n",
            "video 1/1 (304/601) D:\\software\\LocalProjects\\VehicleTracking\\ultralytics\\yolo\\v8\\detect\\test3.mp4: 384x640 1 car, 2 trucks, 16.5ms\n",
            "video 1/1 (305/601) D:\\software\\LocalProjects\\VehicleTracking\\ultralytics\\yolo\\v8\\detect\\test3.mp4: 384x640 1 car, 3 trucks, 17.1ms\n",
            "video 1/1 (306/601) D:\\software\\LocalProjects\\VehicleTracking\\ultralytics\\yolo\\v8\\detect\\test3.mp4: 384x640 1 car, 2 trucks, 16.4ms\n",
            "video 1/1 (307/601) D:\\software\\LocalProjects\\VehicleTracking\\ultralytics\\yolo\\v8\\detect\\test3.mp4: 384x640 1 car, 3 trucks, 16.5ms\n",
            "video 1/1 (308/601) D:\\software\\LocalProjects\\VehicleTracking\\ultralytics\\yolo\\v8\\detect\\test3.mp4: 384x640 3 trucks, 16.5ms\n",
            "video 1/1 (309/601) D:\\software\\LocalProjects\\VehicleTracking\\ultralytics\\yolo\\v8\\detect\\test3.mp4: 384x640 1 car, 3 trucks, 16.5ms\n",
            "video 1/1 (310/601) D:\\software\\LocalProjects\\VehicleTracking\\ultralytics\\yolo\\v8\\detect\\test3.mp4: 384x640 2 cars, 3 trucks, 17.1ms\n",
            "video 1/1 (311/601) D:\\software\\LocalProjects\\VehicleTracking\\ultralytics\\yolo\\v8\\detect\\test3.mp4: 384x640 2 cars, 3 trucks, 16.0ms\n",
            "video 1/1 (312/601) D:\\software\\LocalProjects\\VehicleTracking\\ultralytics\\yolo\\v8\\detect\\test3.mp4: 384x640 2 trucks, 16.0ms\n",
            "video 1/1 (313/601) D:\\software\\LocalProjects\\VehicleTracking\\ultralytics\\yolo\\v8\\detect\\test3.mp4: 384x640 2 cars, 3 trucks, 17.0ms\n",
            "video 1/1 (314/601) D:\\software\\LocalProjects\\VehicleTracking\\ultralytics\\yolo\\v8\\detect\\test3.mp4: 384x640 2 cars, 2 trucks, 19.8ms\n",
            "video 1/1 (315/601) D:\\software\\LocalProjects\\VehicleTracking\\ultralytics\\yolo\\v8\\detect\\test3.mp4: 384x640 2 cars, 1 truck, 20.8ms\n",
            "video 1/1 (316/601) D:\\software\\LocalProjects\\VehicleTracking\\ultralytics\\yolo\\v8\\detect\\test3.mp4: 384x640 2 cars, 1 motorcycle, 1 truck, 17.0ms\n",
            "video 1/1 (317/601) D:\\software\\LocalProjects\\VehicleTracking\\ultralytics\\yolo\\v8\\detect\\test3.mp4: 384x640 3 cars, 1 truck, 14.7ms\n",
            "video 1/1 (318/601) D:\\software\\LocalProjects\\VehicleTracking\\ultralytics\\yolo\\v8\\detect\\test3.mp4: 384x640 2 cars, 1 truck, 16.9ms\n",
            "video 1/1 (319/601) D:\\software\\LocalProjects\\VehicleTracking\\ultralytics\\yolo\\v8\\detect\\test3.mp4: 384x640 2 cars, 17.5ms\n",
            "video 1/1 (320/601) D:\\software\\LocalProjects\\VehicleTracking\\ultralytics\\yolo\\v8\\detect\\test3.mp4: 384x640 1 car, 2 trucks, 16.4ms\n",
            "video 1/1 (321/601) D:\\software\\LocalProjects\\VehicleTracking\\ultralytics\\yolo\\v8\\detect\\test3.mp4: 384x640 2 cars, 1 truck, 15.0ms\n",
            "video 1/1 (322/601) D:\\software\\LocalProjects\\VehicleTracking\\ultralytics\\yolo\\v8\\detect\\test3.mp4: 384x640 1 car, 1 truck, 22.0ms\n",
            "video 1/1 (323/601) D:\\software\\LocalProjects\\VehicleTracking\\ultralytics\\yolo\\v8\\detect\\test3.mp4: 384x640 1 car, 16.4ms\n",
            "video 1/1 (324/601) D:\\software\\LocalProjects\\VehicleTracking\\ultralytics\\yolo\\v8\\detect\\test3.mp4: 384x640 1 truck, 18.7ms\n",
            "video 1/1 (325/601) D:\\software\\LocalProjects\\VehicleTracking\\ultralytics\\yolo\\v8\\detect\\test3.mp4: 384x640 1 car, 1 truck, 23.6ms\n",
            "video 1/1 (326/601) D:\\software\\LocalProjects\\VehicleTracking\\ultralytics\\yolo\\v8\\detect\\test3.mp4: 384x640 1 truck, 27.4ms\n",
            "video 1/1 (327/601) D:\\software\\LocalProjects\\VehicleTracking\\ultralytics\\yolo\\v8\\detect\\test3.mp4: 384x640 1 truck, 17.0ms\n",
            "video 1/1 (328/601) D:\\software\\LocalProjects\\VehicleTracking\\ultralytics\\yolo\\v8\\detect\\test3.mp4: 384x640 1 truck, 15.9ms\n",
            "video 1/1 (329/601) D:\\software\\LocalProjects\\VehicleTracking\\ultralytics\\yolo\\v8\\detect\\test3.mp4: 384x640 1 truck, 16.1ms\n",
            "video 1/1 (330/601) D:\\software\\LocalProjects\\VehicleTracking\\ultralytics\\yolo\\v8\\detect\\test3.mp4: 384x640 1 car, 17.0ms\n",
            "video 1/1 (331/601) D:\\software\\LocalProjects\\VehicleTracking\\ultralytics\\yolo\\v8\\detect\\test3.mp4: 384x640 16.0ms\n",
            "video 1/1 (332/601) D:\\software\\LocalProjects\\VehicleTracking\\ultralytics\\yolo\\v8\\detect\\test3.mp4: 384x640 1 car, 16.2ms\n",
            "video 1/1 (333/601) D:\\software\\LocalProjects\\VehicleTracking\\ultralytics\\yolo\\v8\\detect\\test3.mp4: 384x640 1 car, 26.0ms\n",
            "video 1/1 (334/601) D:\\software\\LocalProjects\\VehicleTracking\\ultralytics\\yolo\\v8\\detect\\test3.mp4: 384x640 1 car, 15.6ms\n",
            "video 1/1 (335/601) D:\\software\\LocalProjects\\VehicleTracking\\ultralytics\\yolo\\v8\\detect\\test3.mp4: 384x640 4 cars, 14.5ms\n",
            "video 1/1 (336/601) D:\\software\\LocalProjects\\VehicleTracking\\ultralytics\\yolo\\v8\\detect\\test3.mp4: 384x640 1 car, 17.1ms\n",
            "video 1/1 (337/601) D:\\software\\LocalProjects\\VehicleTracking\\ultralytics\\yolo\\v8\\detect\\test3.mp4: 384x640 2 cars, 28.5ms\n",
            "video 1/1 (338/601) D:\\software\\LocalProjects\\VehicleTracking\\ultralytics\\yolo\\v8\\detect\\test3.mp4: 384x640 1 car, 15.5ms\n",
            "video 1/1 (339/601) D:\\software\\LocalProjects\\VehicleTracking\\ultralytics\\yolo\\v8\\detect\\test3.mp4: 384x640 15.9ms\n",
            "video 1/1 (340/601) D:\\software\\LocalProjects\\VehicleTracking\\ultralytics\\yolo\\v8\\detect\\test3.mp4: 384x640 1 car, 15.3ms\n",
            "video 1/1 (341/601) D:\\software\\LocalProjects\\VehicleTracking\\ultralytics\\yolo\\v8\\detect\\test3.mp4: 384x640 22.4ms\n",
            "video 1/1 (342/601) D:\\software\\LocalProjects\\VehicleTracking\\ultralytics\\yolo\\v8\\detect\\test3.mp4: 384x640 1 car, 17.1ms\n",
            "video 1/1 (343/601) D:\\software\\LocalProjects\\VehicleTracking\\ultralytics\\yolo\\v8\\detect\\test3.mp4: 384x640 17.2ms\n",
            "video 1/1 (344/601) D:\\software\\LocalProjects\\VehicleTracking\\ultralytics\\yolo\\v8\\detect\\test3.mp4: 384x640 14.9ms\n",
            "video 1/1 (345/601) D:\\software\\LocalProjects\\VehicleTracking\\ultralytics\\yolo\\v8\\detect\\test3.mp4: 384x640 1 car, 18.2ms\n",
            "video 1/1 (346/601) D:\\software\\LocalProjects\\VehicleTracking\\ultralytics\\yolo\\v8\\detect\\test3.mp4: 384x640 1 car, 16.8ms\n",
            "video 1/1 (347/601) D:\\software\\LocalProjects\\VehicleTracking\\ultralytics\\yolo\\v8\\detect\\test3.mp4: 384x640 1 car, 15.9ms\n",
            "video 1/1 (348/601) D:\\software\\LocalProjects\\VehicleTracking\\ultralytics\\yolo\\v8\\detect\\test3.mp4: 384x640 1 car, 15.0ms\n",
            "video 1/1 (349/601) D:\\software\\LocalProjects\\VehicleTracking\\ultralytics\\yolo\\v8\\detect\\test3.mp4: 384x640 1 car, 15.0ms\n",
            "video 1/1 (350/601) D:\\software\\LocalProjects\\VehicleTracking\\ultralytics\\yolo\\v8\\detect\\test3.mp4: 384x640 1 car, 14.5ms\n",
            "video 1/1 (351/601) D:\\software\\LocalProjects\\VehicleTracking\\ultralytics\\yolo\\v8\\detect\\test3.mp4: 384x640 1 car, 15.0ms\n",
            "video 1/1 (352/601) D:\\software\\LocalProjects\\VehicleTracking\\ultralytics\\yolo\\v8\\detect\\test3.mp4: 384x640 14.2ms\n",
            "video 1/1 (353/601) D:\\software\\LocalProjects\\VehicleTracking\\ultralytics\\yolo\\v8\\detect\\test3.mp4: 384x640 1 car, 28.6ms\n",
            "video 1/1 (354/601) D:\\software\\LocalProjects\\VehicleTracking\\ultralytics\\yolo\\v8\\detect\\test3.mp4: 384x640 14.5ms\n",
            "video 1/1 (355/601) D:\\software\\LocalProjects\\VehicleTracking\\ultralytics\\yolo\\v8\\detect\\test3.mp4: 384x640 1 camping car, 3 cars, 14.5ms\n",
            "video 1/1 (356/601) D:\\software\\LocalProjects\\VehicleTracking\\ultralytics\\yolo\\v8\\detect\\test3.mp4: 384x640 1 car, 1 truck, 16.0ms\n",
            "video 1/1 (357/601) D:\\software\\LocalProjects\\VehicleTracking\\ultralytics\\yolo\\v8\\detect\\test3.mp4: 384x640 2 cars, 1 motorcycle, 1 truck, 15.5ms\n",
            "video 1/1 (358/601) D:\\software\\LocalProjects\\VehicleTracking\\ultralytics\\yolo\\v8\\detect\\test3.mp4: 384x640 1 car, 1 motorcycle, 2 trucks, 15.6ms\n",
            "video 1/1 (359/601) D:\\software\\LocalProjects\\VehicleTracking\\ultralytics\\yolo\\v8\\detect\\test3.mp4: 384x640 1 car, 1 motorcycle, 2 trucks, 15.4ms\n",
            "video 1/1 (360/601) D:\\software\\LocalProjects\\VehicleTracking\\ultralytics\\yolo\\v8\\detect\\test3.mp4: 384x640 2 cars, 1 motorcycle, 18.0ms\n",
            "video 1/1 (361/601) D:\\software\\LocalProjects\\VehicleTracking\\ultralytics\\yolo\\v8\\detect\\test3.mp4: 384x640 3 cars, 2 motorcycles, 1 truck, 15.2ms\n",
            "video 1/1 (362/601) D:\\software\\LocalProjects\\VehicleTracking\\ultralytics\\yolo\\v8\\detect\\test3.mp4: 384x640 2 cars, 2 trucks, 15.5ms\n",
            "video 1/1 (363/601) D:\\software\\LocalProjects\\VehicleTracking\\ultralytics\\yolo\\v8\\detect\\test3.mp4: 384x640 2 trucks, 16.5ms\n",
            "video 1/1 (364/601) D:\\software\\LocalProjects\\VehicleTracking\\ultralytics\\yolo\\v8\\detect\\test3.mp4: 384x640 1 car, 1 motorcycle, 1 truck, 16.9ms\n",
            "video 1/1 (365/601) D:\\software\\LocalProjects\\VehicleTracking\\ultralytics\\yolo\\v8\\detect\\test3.mp4: 384x640 3 cars, 1 motorcycle, 1 truck, 16.7ms\n",
            "video 1/1 (366/601) D:\\software\\LocalProjects\\VehicleTracking\\ultralytics\\yolo\\v8\\detect\\test3.mp4: 384x640 2 cars, 3 motorcycles, 1 truck, 15.4ms\n",
            "video 1/1 (367/601) D:\\software\\LocalProjects\\VehicleTracking\\ultralytics\\yolo\\v8\\detect\\test3.mp4: 384x640 1 car, 1 truck, 17.3ms\n",
            "video 1/1 (368/601) D:\\software\\LocalProjects\\VehicleTracking\\ultralytics\\yolo\\v8\\detect\\test3.mp4: 384x640 1 car, 18.3ms\n",
            "video 1/1 (369/601) D:\\software\\LocalProjects\\VehicleTracking\\ultralytics\\yolo\\v8\\detect\\test3.mp4: 384x640 1 car, 18.7ms\n",
            "video 1/1 (370/601) D:\\software\\LocalProjects\\VehicleTracking\\ultralytics\\yolo\\v8\\detect\\test3.mp4: 384x640 1 car, 1 truck, 16.8ms\n",
            "video 1/1 (371/601) D:\\software\\LocalProjects\\VehicleTracking\\ultralytics\\yolo\\v8\\detect\\test3.mp4: 384x640 1 car, 17.6ms\n",
            "video 1/1 (372/601) D:\\software\\LocalProjects\\VehicleTracking\\ultralytics\\yolo\\v8\\detect\\test3.mp4: 384x640 2 cars, 1 truck, 15.2ms\n",
            "video 1/1 (373/601) D:\\software\\LocalProjects\\VehicleTracking\\ultralytics\\yolo\\v8\\detect\\test3.mp4: 384x640 2 cars, 1 motorcycle, 1 truck, 23.7ms\n",
            "video 1/1 (374/601) D:\\software\\LocalProjects\\VehicleTracking\\ultralytics\\yolo\\v8\\detect\\test3.mp4: 384x640 2 cars, 21.7ms\n",
            "video 1/1 (375/601) D:\\software\\LocalProjects\\VehicleTracking\\ultralytics\\yolo\\v8\\detect\\test3.mp4: 384x640 1 car, 1 truck, 16.3ms\n",
            "video 1/1 (376/601) D:\\software\\LocalProjects\\VehicleTracking\\ultralytics\\yolo\\v8\\detect\\test3.mp4: 384x640 1 car, 17.3ms\n",
            "video 1/1 (377/601) D:\\software\\LocalProjects\\VehicleTracking\\ultralytics\\yolo\\v8\\detect\\test3.mp4: 384x640 2 cars, 17.2ms\n",
            "video 1/1 (378/601) D:\\software\\LocalProjects\\VehicleTracking\\ultralytics\\yolo\\v8\\detect\\test3.mp4: 384x640 2 cars, 15.2ms\n",
            "video 1/1 (379/601) D:\\software\\LocalProjects\\VehicleTracking\\ultralytics\\yolo\\v8\\detect\\test3.mp4: 384x640 2 cars, 16.9ms\n",
            "video 1/1 (380/601) D:\\software\\LocalProjects\\VehicleTracking\\ultralytics\\yolo\\v8\\detect\\test3.mp4: 384x640 2 cars, 15.0ms\n",
            "video 1/1 (381/601) D:\\software\\LocalProjects\\VehicleTracking\\ultralytics\\yolo\\v8\\detect\\test3.mp4: 384x640 2 cars, 24.5ms\n",
            "video 1/1 (382/601) D:\\software\\LocalProjects\\VehicleTracking\\ultralytics\\yolo\\v8\\detect\\test3.mp4: 384x640 2 cars, 17.2ms\n",
            "video 1/1 (383/601) D:\\software\\LocalProjects\\VehicleTracking\\ultralytics\\yolo\\v8\\detect\\test3.mp4: 384x640 4 cars, 15.5ms\n",
            "video 1/1 (384/601) D:\\software\\LocalProjects\\VehicleTracking\\ultralytics\\yolo\\v8\\detect\\test3.mp4: 384x640 4 cars, 15.0ms\n",
            "video 1/1 (385/601) D:\\software\\LocalProjects\\VehicleTracking\\ultralytics\\yolo\\v8\\detect\\test3.mp4: 384x640 3 cars, 16.0ms\n",
            "video 1/1 (386/601) D:\\software\\LocalProjects\\VehicleTracking\\ultralytics\\yolo\\v8\\detect\\test3.mp4: 384x640 2 cars, 1 truck, 13.5ms\n",
            "video 1/1 (387/601) D:\\software\\LocalProjects\\VehicleTracking\\ultralytics\\yolo\\v8\\detect\\test3.mp4: 384x640 3 cars, 1 motorcycle, 19.7ms\n",
            "video 1/1 (388/601) D:\\software\\LocalProjects\\VehicleTracking\\ultralytics\\yolo\\v8\\detect\\test3.mp4: 384x640 2 cars, 16.5ms\n",
            "video 1/1 (389/601) D:\\software\\LocalProjects\\VehicleTracking\\ultralytics\\yolo\\v8\\detect\\test3.mp4: 384x640 2 cars, 1 truck, 19.5ms\n",
            "video 1/1 (390/601) D:\\software\\LocalProjects\\VehicleTracking\\ultralytics\\yolo\\v8\\detect\\test3.mp4: 384x640 3 cars, 15.6ms\n",
            "video 1/1 (391/601) D:\\software\\LocalProjects\\VehicleTracking\\ultralytics\\yolo\\v8\\detect\\test3.mp4: 384x640 2 cars, 21.5ms\n",
            "video 1/1 (392/601) D:\\software\\LocalProjects\\VehicleTracking\\ultralytics\\yolo\\v8\\detect\\test3.mp4: 384x640 2 cars, 1 truck, 16.5ms\n",
            "video 1/1 (393/601) D:\\software\\LocalProjects\\VehicleTracking\\ultralytics\\yolo\\v8\\detect\\test3.mp4: 384x640 3 cars, 15.8ms\n",
            "video 1/1 (394/601) D:\\software\\LocalProjects\\VehicleTracking\\ultralytics\\yolo\\v8\\detect\\test3.mp4: 384x640 4 cars, 18.0ms\n",
            "video 1/1 (395/601) D:\\software\\LocalProjects\\VehicleTracking\\ultralytics\\yolo\\v8\\detect\\test3.mp4: 384x640 6 cars, 18.0ms\n",
            "video 1/1 (396/601) D:\\software\\LocalProjects\\VehicleTracking\\ultralytics\\yolo\\v8\\detect\\test3.mp4: 384x640 4 cars, 1 truck, 18.5ms\n",
            "video 1/1 (397/601) D:\\software\\LocalProjects\\VehicleTracking\\ultralytics\\yolo\\v8\\detect\\test3.mp4: 384x640 4 cars, 22.0ms\n",
            "video 1/1 (398/601) D:\\software\\LocalProjects\\VehicleTracking\\ultralytics\\yolo\\v8\\detect\\test3.mp4: 384x640 3 cars, 1 truck, 18.1ms\n",
            "video 1/1 (399/601) D:\\software\\LocalProjects\\VehicleTracking\\ultralytics\\yolo\\v8\\detect\\test3.mp4: 384x640 4 cars, 1 motorcycle, 16.8ms\n",
            "video 1/1 (400/601) D:\\software\\LocalProjects\\VehicleTracking\\ultralytics\\yolo\\v8\\detect\\test3.mp4: 384x640 1 car, 1 truck, 16.5ms\n",
            "video 1/1 (401/601) D:\\software\\LocalProjects\\VehicleTracking\\ultralytics\\yolo\\v8\\detect\\test3.mp4: 384x640 2 cars, 1 truck, 18.0ms\n",
            "video 1/1 (402/601) D:\\software\\LocalProjects\\VehicleTracking\\ultralytics\\yolo\\v8\\detect\\test3.mp4: 384x640 2 trucks, 16.7ms\n",
            "video 1/1 (403/601) D:\\software\\LocalProjects\\VehicleTracking\\ultralytics\\yolo\\v8\\detect\\test3.mp4: 384x640 1 truck, 15.0ms\n",
            "video 1/1 (404/601) D:\\software\\LocalProjects\\VehicleTracking\\ultralytics\\yolo\\v8\\detect\\test3.mp4: 384x640 1 car, 16.0ms\n",
            "video 1/1 (405/601) D:\\software\\LocalProjects\\VehicleTracking\\ultralytics\\yolo\\v8\\detect\\test3.mp4: 384x640 1 motorcycle, 17.5ms\n",
            "video 1/1 (406/601) D:\\software\\LocalProjects\\VehicleTracking\\ultralytics\\yolo\\v8\\detect\\test3.mp4: 384x640 17.6ms\n",
            "video 1/1 (407/601) D:\\software\\LocalProjects\\VehicleTracking\\ultralytics\\yolo\\v8\\detect\\test3.mp4: 384x640 17.3ms\n",
            "video 1/1 (408/601) D:\\software\\LocalProjects\\VehicleTracking\\ultralytics\\yolo\\v8\\detect\\test3.mp4: 384x640 16.5ms\n",
            "video 1/1 (409/601) D:\\software\\LocalProjects\\VehicleTracking\\ultralytics\\yolo\\v8\\detect\\test3.mp4: 384x640 1 motorcycle, 15.5ms\n",
            "video 1/1 (410/601) D:\\software\\LocalProjects\\VehicleTracking\\ultralytics\\yolo\\v8\\detect\\test3.mp4: 384x640 1 motorcycle, 1 truck, 17.0ms\n",
            "video 1/1 (411/601) D:\\software\\LocalProjects\\VehicleTracking\\ultralytics\\yolo\\v8\\detect\\test3.mp4: 384x640 1 car, 1 motorcycle, 16.6ms\n",
            "video 1/1 (412/601) D:\\software\\LocalProjects\\VehicleTracking\\ultralytics\\yolo\\v8\\detect\\test3.mp4: 384x640 18.0ms\n",
            "video 1/1 (413/601) D:\\software\\LocalProjects\\VehicleTracking\\ultralytics\\yolo\\v8\\detect\\test3.mp4: 384x640 16.1ms\n",
            "video 1/1 (414/601) D:\\software\\LocalProjects\\VehicleTracking\\ultralytics\\yolo\\v8\\detect\\test3.mp4: 384x640 1 car, 16.0ms\n",
            "video 1/1 (415/601) D:\\software\\LocalProjects\\VehicleTracking\\ultralytics\\yolo\\v8\\detect\\test3.mp4: 384x640 19.6ms\n",
            "video 1/1 (416/601) D:\\software\\LocalProjects\\VehicleTracking\\ultralytics\\yolo\\v8\\detect\\test3.mp4: 384x640 17.0ms\n",
            "video 1/1 (417/601) D:\\software\\LocalProjects\\VehicleTracking\\ultralytics\\yolo\\v8\\detect\\test3.mp4: 384x640 17.6ms\n",
            "video 1/1 (418/601) D:\\software\\LocalProjects\\VehicleTracking\\ultralytics\\yolo\\v8\\detect\\test3.mp4: 384x640 16.5ms\n",
            "video 1/1 (419/601) D:\\software\\LocalProjects\\VehicleTracking\\ultralytics\\yolo\\v8\\detect\\test3.mp4: 384x640 2 motorcycles, 15.1ms\n",
            "video 1/1 (420/601) D:\\software\\LocalProjects\\VehicleTracking\\ultralytics\\yolo\\v8\\detect\\test3.mp4: 384x640 18.0ms\n",
            "video 1/1 (421/601) D:\\software\\LocalProjects\\VehicleTracking\\ultralytics\\yolo\\v8\\detect\\test3.mp4: 384x640 16.6ms\n",
            "video 1/1 (422/601) D:\\software\\LocalProjects\\VehicleTracking\\ultralytics\\yolo\\v8\\detect\\test3.mp4: 384x640 1 motorcycle, 15.5ms\n",
            "video 1/1 (423/601) D:\\software\\LocalProjects\\VehicleTracking\\ultralytics\\yolo\\v8\\detect\\test3.mp4: 384x640 14.4ms\n",
            "video 1/1 (424/601) D:\\software\\LocalProjects\\VehicleTracking\\ultralytics\\yolo\\v8\\detect\\test3.mp4: 384x640 14.5ms\n",
            "video 1/1 (425/601) D:\\software\\LocalProjects\\VehicleTracking\\ultralytics\\yolo\\v8\\detect\\test3.mp4: 384x640 1 car, 1 motorcycle, 16.6ms\n",
            "video 1/1 (426/601) D:\\software\\LocalProjects\\VehicleTracking\\ultralytics\\yolo\\v8\\detect\\test3.mp4: 384x640 1 car, 14.7ms\n",
            "video 1/1 (427/601) D:\\software\\LocalProjects\\VehicleTracking\\ultralytics\\yolo\\v8\\detect\\test3.mp4: 384x640 15.5ms\n",
            "video 1/1 (428/601) D:\\software\\LocalProjects\\VehicleTracking\\ultralytics\\yolo\\v8\\detect\\test3.mp4: 384x640 2 cars, 15.2ms\n",
            "video 1/1 (429/601) D:\\software\\LocalProjects\\VehicleTracking\\ultralytics\\yolo\\v8\\detect\\test3.mp4: 384x640 1 car, 15.5ms\n",
            "video 1/1 (430/601) D:\\software\\LocalProjects\\VehicleTracking\\ultralytics\\yolo\\v8\\detect\\test3.mp4: 384x640 20.0ms\n",
            "video 1/1 (431/601) D:\\software\\LocalProjects\\VehicleTracking\\ultralytics\\yolo\\v8\\detect\\test3.mp4: 384x640 1 motorcycle, 1 truck, 15.5ms\n",
            "video 1/1 (432/601) D:\\software\\LocalProjects\\VehicleTracking\\ultralytics\\yolo\\v8\\detect\\test3.mp4: 384x640 1 truck, 14.5ms\n",
            "video 1/1 (433/601) D:\\software\\LocalProjects\\VehicleTracking\\ultralytics\\yolo\\v8\\detect\\test3.mp4: 384x640 16.0ms\n",
            "video 1/1 (434/601) D:\\software\\LocalProjects\\VehicleTracking\\ultralytics\\yolo\\v8\\detect\\test3.mp4: 384x640 1 truck, 15.0ms\n",
            "video 1/1 (435/601) D:\\software\\LocalProjects\\VehicleTracking\\ultralytics\\yolo\\v8\\detect\\test3.mp4: 384x640 1 truck, 15.7ms\n",
            "video 1/1 (436/601) D:\\software\\LocalProjects\\VehicleTracking\\ultralytics\\yolo\\v8\\detect\\test3.mp4: 384x640 1 truck, 15.5ms\n",
            "video 1/1 (437/601) D:\\software\\LocalProjects\\VehicleTracking\\ultralytics\\yolo\\v8\\detect\\test3.mp4: 384x640 1 truck, 15.5ms\n",
            "video 1/1 (438/601) D:\\software\\LocalProjects\\VehicleTracking\\ultralytics\\yolo\\v8\\detect\\test3.mp4: 384x640 1 car, 1 truck, 14.4ms\n",
            "video 1/1 (439/601) D:\\software\\LocalProjects\\VehicleTracking\\ultralytics\\yolo\\v8\\detect\\test3.mp4: 384x640 1 truck, 15.0ms\n",
            "video 1/1 (440/601) D:\\software\\LocalProjects\\VehicleTracking\\ultralytics\\yolo\\v8\\detect\\test3.mp4: 384x640 1 truck, 16.2ms\n",
            "video 1/1 (441/601) D:\\software\\LocalProjects\\VehicleTracking\\ultralytics\\yolo\\v8\\detect\\test3.mp4: 384x640 16.0ms\n",
            "video 1/1 (442/601) D:\\software\\LocalProjects\\VehicleTracking\\ultralytics\\yolo\\v8\\detect\\test3.mp4: 384x640 17.0ms\n",
            "video 1/1 (443/601) D:\\software\\LocalProjects\\VehicleTracking\\ultralytics\\yolo\\v8\\detect\\test3.mp4: 384x640 15.0ms\n",
            "video 1/1 (444/601) D:\\software\\LocalProjects\\VehicleTracking\\ultralytics\\yolo\\v8\\detect\\test3.mp4: 384x640 14.6ms\n",
            "video 1/1 (445/601) D:\\software\\LocalProjects\\VehicleTracking\\ultralytics\\yolo\\v8\\detect\\test3.mp4: 384x640 1 car, 17.0ms\n",
            "video 1/1 (446/601) D:\\software\\LocalProjects\\VehicleTracking\\ultralytics\\yolo\\v8\\detect\\test3.mp4: 384x640 1 car, 16.1ms\n",
            "video 1/1 (447/601) D:\\software\\LocalProjects\\VehicleTracking\\ultralytics\\yolo\\v8\\detect\\test3.mp4: 384x640 1 car, 19.0ms\n",
            "video 1/1 (448/601) D:\\software\\LocalProjects\\VehicleTracking\\ultralytics\\yolo\\v8\\detect\\test3.mp4: 384x640 15.5ms\n",
            "video 1/1 (449/601) D:\\software\\LocalProjects\\VehicleTracking\\ultralytics\\yolo\\v8\\detect\\test3.mp4: 384x640 1 car, 16.1ms\n",
            "video 1/1 (450/601) D:\\software\\LocalProjects\\VehicleTracking\\ultralytics\\yolo\\v8\\detect\\test3.mp4: 384x640 1 car, 16.2ms\n",
            "video 1/1 (451/601) D:\\software\\LocalProjects\\VehicleTracking\\ultralytics\\yolo\\v8\\detect\\test3.mp4: 384x640 1 car, 16.0ms\n",
            "video 1/1 (452/601) D:\\software\\LocalProjects\\VehicleTracking\\ultralytics\\yolo\\v8\\detect\\test3.mp4: 384x640 1 car, 15.5ms\n",
            "video 1/1 (453/601) D:\\software\\LocalProjects\\VehicleTracking\\ultralytics\\yolo\\v8\\detect\\test3.mp4: 384x640 1 car, 14.5ms\n",
            "video 1/1 (454/601) D:\\software\\LocalProjects\\VehicleTracking\\ultralytics\\yolo\\v8\\detect\\test3.mp4: 384x640 1 car, 17.0ms\n",
            "video 1/1 (455/601) D:\\software\\LocalProjects\\VehicleTracking\\ultralytics\\yolo\\v8\\detect\\test3.mp4: 384x640 2 cars, 1 motorcycle, 15.0ms\n",
            "video 1/1 (456/601) D:\\software\\LocalProjects\\VehicleTracking\\ultralytics\\yolo\\v8\\detect\\test3.mp4: 384x640 2 cars, 16.9ms\n",
            "video 1/1 (457/601) D:\\software\\LocalProjects\\VehicleTracking\\ultralytics\\yolo\\v8\\detect\\test3.mp4: 384x640 1 car, 16.0ms\n",
            "video 1/1 (458/601) D:\\software\\LocalProjects\\VehicleTracking\\ultralytics\\yolo\\v8\\detect\\test3.mp4: 384x640 1 car, 17.9ms\n",
            "video 1/1 (459/601) D:\\software\\LocalProjects\\VehicleTracking\\ultralytics\\yolo\\v8\\detect\\test3.mp4: 384x640 1 car, 27.5ms\n",
            "video 1/1 (460/601) D:\\software\\LocalProjects\\VehicleTracking\\ultralytics\\yolo\\v8\\detect\\test3.mp4: 384x640 1 car, 15.0ms\n",
            "video 1/1 (461/601) D:\\software\\LocalProjects\\VehicleTracking\\ultralytics\\yolo\\v8\\detect\\test3.mp4: 384x640 1 car, 15.1ms\n",
            "video 1/1 (462/601) D:\\software\\LocalProjects\\VehicleTracking\\ultralytics\\yolo\\v8\\detect\\test3.mp4: 384x640 2 cars, 14.7ms\n",
            "video 1/1 (463/601) D:\\software\\LocalProjects\\VehicleTracking\\ultralytics\\yolo\\v8\\detect\\test3.mp4: 384x640 15.5ms\n",
            "video 1/1 (464/601) D:\\software\\LocalProjects\\VehicleTracking\\ultralytics\\yolo\\v8\\detect\\test3.mp4: 384x640 16.1ms\n",
            "video 1/1 (465/601) D:\\software\\LocalProjects\\VehicleTracking\\ultralytics\\yolo\\v8\\detect\\test3.mp4: 384x640 15.5ms\n",
            "video 1/1 (466/601) D:\\software\\LocalProjects\\VehicleTracking\\ultralytics\\yolo\\v8\\detect\\test3.mp4: 384x640 15.4ms\n",
            "video 1/1 (467/601) D:\\software\\LocalProjects\\VehicleTracking\\ultralytics\\yolo\\v8\\detect\\test3.mp4: 384x640 31.8ms\n",
            "video 1/1 (468/601) D:\\software\\LocalProjects\\VehicleTracking\\ultralytics\\yolo\\v8\\detect\\test3.mp4: 384x640 17.3ms\n",
            "video 1/1 (469/601) D:\\software\\LocalProjects\\VehicleTracking\\ultralytics\\yolo\\v8\\detect\\test3.mp4: 384x640 17.0ms\n",
            "video 1/1 (470/601) D:\\software\\LocalProjects\\VehicleTracking\\ultralytics\\yolo\\v8\\detect\\test3.mp4: 384x640 16.1ms\n",
            "video 1/1 (471/601) D:\\software\\LocalProjects\\VehicleTracking\\ultralytics\\yolo\\v8\\detect\\test3.mp4: 384x640 1 car, 15.5ms\n",
            "video 1/1 (472/601) D:\\software\\LocalProjects\\VehicleTracking\\ultralytics\\yolo\\v8\\detect\\test3.mp4: 384x640 16.4ms\n",
            "video 1/1 (473/601) D:\\software\\LocalProjects\\VehicleTracking\\ultralytics\\yolo\\v8\\detect\\test3.mp4: 384x640 1 car, 15.1ms\n",
            "video 1/1 (474/601) D:\\software\\LocalProjects\\VehicleTracking\\ultralytics\\yolo\\v8\\detect\\test3.mp4: 384x640 1 truck, 15.9ms\n",
            "video 1/1 (475/601) D:\\software\\LocalProjects\\VehicleTracking\\ultralytics\\yolo\\v8\\detect\\test3.mp4: 384x640 1 car, 1 truck, 15.0ms\n",
            "video 1/1 (476/601) D:\\software\\LocalProjects\\VehicleTracking\\ultralytics\\yolo\\v8\\detect\\test3.mp4: 384x640 2 cars, 1 motorcycle, 1 truck, 17.0ms\n",
            "video 1/1 (477/601) D:\\software\\LocalProjects\\VehicleTracking\\ultralytics\\yolo\\v8\\detect\\test3.mp4: 384x640 2 trucks, 15.7ms\n",
            "video 1/1 (478/601) D:\\software\\LocalProjects\\VehicleTracking\\ultralytics\\yolo\\v8\\detect\\test3.mp4: 384x640 1 car, 1 truck, 18.0ms\n",
            "video 1/1 (479/601) D:\\software\\LocalProjects\\VehicleTracking\\ultralytics\\yolo\\v8\\detect\\test3.mp4: 384x640 1 car, 2 trucks, 21.0ms\n",
            "video 1/1 (480/601) D:\\software\\LocalProjects\\VehicleTracking\\ultralytics\\yolo\\v8\\detect\\test3.mp4: 384x640 3 trucks, 14.9ms\n",
            "video 1/1 (481/601) D:\\software\\LocalProjects\\VehicleTracking\\ultralytics\\yolo\\v8\\detect\\test3.mp4: 384x640 3 trucks, 15.0ms\n",
            "video 1/1 (482/601) D:\\software\\LocalProjects\\VehicleTracking\\ultralytics\\yolo\\v8\\detect\\test3.mp4: 384x640 3 trucks, 15.5ms\n",
            "video 1/1 (483/601) D:\\software\\LocalProjects\\VehicleTracking\\ultralytics\\yolo\\v8\\detect\\test3.mp4: 384x640 2 trucks, 15.5ms\n",
            "video 1/1 (484/601) D:\\software\\LocalProjects\\VehicleTracking\\ultralytics\\yolo\\v8\\detect\\test3.mp4: 384x640 2 trucks, 18.0ms\n",
            "video 1/1 (485/601) D:\\software\\LocalProjects\\VehicleTracking\\ultralytics\\yolo\\v8\\detect\\test3.mp4: 384x640 1 truck, 15.7ms\n",
            "video 1/1 (486/601) D:\\software\\LocalProjects\\VehicleTracking\\ultralytics\\yolo\\v8\\detect\\test3.mp4: 384x640 2 cars, 1 truck, 23.7ms\n",
            "video 1/1 (487/601) D:\\software\\LocalProjects\\VehicleTracking\\ultralytics\\yolo\\v8\\detect\\test3.mp4: 384x640 1 truck, 15.5ms\n",
            "video 1/1 (488/601) D:\\software\\LocalProjects\\VehicleTracking\\ultralytics\\yolo\\v8\\detect\\test3.mp4: 384x640 2 trucks, 16.8ms\n",
            "video 1/1 (489/601) D:\\software\\LocalProjects\\VehicleTracking\\ultralytics\\yolo\\v8\\detect\\test3.mp4: 384x640 1 car, 2 trucks, 15.5ms\n",
            "video 1/1 (490/601) D:\\software\\LocalProjects\\VehicleTracking\\ultralytics\\yolo\\v8\\detect\\test3.mp4: 384x640 1 truck, 15.5ms\n",
            "video 1/1 (491/601) D:\\software\\LocalProjects\\VehicleTracking\\ultralytics\\yolo\\v8\\detect\\test3.mp4: 384x640 2 cars, 1 truck, 14.5ms\n",
            "video 1/1 (492/601) D:\\software\\LocalProjects\\VehicleTracking\\ultralytics\\yolo\\v8\\detect\\test3.mp4: 384x640 2 cars, 1 truck, 15.5ms\n",
            "video 1/1 (493/601) D:\\software\\LocalProjects\\VehicleTracking\\ultralytics\\yolo\\v8\\detect\\test3.mp4: 384x640 1 car, 1 truck, 16.6ms\n",
            "video 1/1 (494/601) D:\\software\\LocalProjects\\VehicleTracking\\ultralytics\\yolo\\v8\\detect\\test3.mp4: 384x640 1 truck, 14.5ms\n",
            "video 1/1 (495/601) D:\\software\\LocalProjects\\VehicleTracking\\ultralytics\\yolo\\v8\\detect\\test3.mp4: 384x640 1 truck, 15.5ms\n",
            "video 1/1 (496/601) D:\\software\\LocalProjects\\VehicleTracking\\ultralytics\\yolo\\v8\\detect\\test3.mp4: 384x640 1 truck, 17.6ms\n",
            "video 1/1 (497/601) D:\\software\\LocalProjects\\VehicleTracking\\ultralytics\\yolo\\v8\\detect\\test3.mp4: 384x640 1 car, 1 truck, 15.4ms\n",
            "video 1/1 (498/601) D:\\software\\LocalProjects\\VehicleTracking\\ultralytics\\yolo\\v8\\detect\\test3.mp4: 384x640 1 car, 20.8ms\n",
            "video 1/1 (499/601) D:\\software\\LocalProjects\\VehicleTracking\\ultralytics\\yolo\\v8\\detect\\test3.mp4: 384x640 1 car, 14.5ms\n",
            "video 1/1 (500/601) D:\\software\\LocalProjects\\VehicleTracking\\ultralytics\\yolo\\v8\\detect\\test3.mp4: 384x640 21.0ms\n",
            "video 1/1 (501/601) D:\\software\\LocalProjects\\VehicleTracking\\ultralytics\\yolo\\v8\\detect\\test3.mp4: 384x640 1 car, 1 truck, 15.2ms\n",
            "video 1/1 (502/601) D:\\software\\LocalProjects\\VehicleTracking\\ultralytics\\yolo\\v8\\detect\\test3.mp4: 384x640 1 truck, 15.0ms\n",
            "video 1/1 (503/601) D:\\software\\LocalProjects\\VehicleTracking\\ultralytics\\yolo\\v8\\detect\\test3.mp4: 384x640 1 car, 17.2ms\n",
            "video 1/1 (504/601) D:\\software\\LocalProjects\\VehicleTracking\\ultralytics\\yolo\\v8\\detect\\test3.mp4: 384x640 15.5ms\n",
            "video 1/1 (505/601) D:\\software\\LocalProjects\\VehicleTracking\\ultralytics\\yolo\\v8\\detect\\test3.mp4: 384x640 1 car, 15.2ms\n",
            "video 1/1 (506/601) D:\\software\\LocalProjects\\VehicleTracking\\ultralytics\\yolo\\v8\\detect\\test3.mp4: 384x640 3 cars, 16.0ms\n",
            "video 1/1 (507/601) D:\\software\\LocalProjects\\VehicleTracking\\ultralytics\\yolo\\v8\\detect\\test3.mp4: 384x640 1 car, 19.0ms\n",
            "video 1/1 (508/601) D:\\software\\LocalProjects\\VehicleTracking\\ultralytics\\yolo\\v8\\detect\\test3.mp4: 384x640 1 car, 17.6ms\n",
            "video 1/1 (509/601) D:\\software\\LocalProjects\\VehicleTracking\\ultralytics\\yolo\\v8\\detect\\test3.mp4: 384x640 16.5ms\n",
            "video 1/1 (510/601) D:\\software\\LocalProjects\\VehicleTracking\\ultralytics\\yolo\\v8\\detect\\test3.mp4: 384x640 17.3ms\n",
            "video 1/1 (511/601) D:\\software\\LocalProjects\\VehicleTracking\\ultralytics\\yolo\\v8\\detect\\test3.mp4: 384x640 17.4ms\n",
            "video 1/1 (512/601) D:\\software\\LocalProjects\\VehicleTracking\\ultralytics\\yolo\\v8\\detect\\test3.mp4: 384x640 1 motorcycle, 16.3ms\n",
            "video 1/1 (513/601) D:\\software\\LocalProjects\\VehicleTracking\\ultralytics\\yolo\\v8\\detect\\test3.mp4: 384x640 17.8ms\n",
            "video 1/1 (514/601) D:\\software\\LocalProjects\\VehicleTracking\\ultralytics\\yolo\\v8\\detect\\test3.mp4: 384x640 15.7ms\n",
            "video 1/1 (515/601) D:\\software\\LocalProjects\\VehicleTracking\\ultralytics\\yolo\\v8\\detect\\test3.mp4: 384x640 16.0ms\n",
            "video 1/1 (516/601) D:\\software\\LocalProjects\\VehicleTracking\\ultralytics\\yolo\\v8\\detect\\test3.mp4: 384x640 16.6ms\n",
            "video 1/1 (517/601) D:\\software\\LocalProjects\\VehicleTracking\\ultralytics\\yolo\\v8\\detect\\test3.mp4: 384x640 15.0ms\n",
            "video 1/1 (518/601) D:\\software\\LocalProjects\\VehicleTracking\\ultralytics\\yolo\\v8\\detect\\test3.mp4: 384x640 1 car, 18.4ms\n",
            "video 1/1 (519/601) D:\\software\\LocalProjects\\VehicleTracking\\ultralytics\\yolo\\v8\\detect\\test3.mp4: 384x640 1 car, 14.5ms\n",
            "video 1/1 (520/601) D:\\software\\LocalProjects\\VehicleTracking\\ultralytics\\yolo\\v8\\detect\\test3.mp4: 384x640 20.1ms\n",
            "video 1/1 (521/601) D:\\software\\LocalProjects\\VehicleTracking\\ultralytics\\yolo\\v8\\detect\\test3.mp4: 384x640 15.3ms\n",
            "video 1/1 (522/601) D:\\software\\LocalProjects\\VehicleTracking\\ultralytics\\yolo\\v8\\detect\\test3.mp4: 384x640 16.0ms\n",
            "video 1/1 (523/601) D:\\software\\LocalProjects\\VehicleTracking\\ultralytics\\yolo\\v8\\detect\\test3.mp4: 384x640 1 truck, 30.5ms\n",
            "video 1/1 (524/601) D:\\software\\LocalProjects\\VehicleTracking\\ultralytics\\yolo\\v8\\detect\\test3.mp4: 384x640 2 trucks, 14.9ms\n",
            "video 1/1 (525/601) D:\\software\\LocalProjects\\VehicleTracking\\ultralytics\\yolo\\v8\\detect\\test3.mp4: 384x640 2 trucks, 14.5ms\n",
            "video 1/1 (526/601) D:\\software\\LocalProjects\\VehicleTracking\\ultralytics\\yolo\\v8\\detect\\test3.mp4: 384x640 2 trucks, 17.1ms\n",
            "video 1/1 (527/601) D:\\software\\LocalProjects\\VehicleTracking\\ultralytics\\yolo\\v8\\detect\\test3.mp4: 384x640 2 trucks, 17.1ms\n",
            "video 1/1 (528/601) D:\\software\\LocalProjects\\VehicleTracking\\ultralytics\\yolo\\v8\\detect\\test3.mp4: 384x640 1 truck, 16.6ms\n",
            "video 1/1 (529/601) D:\\software\\LocalProjects\\VehicleTracking\\ultralytics\\yolo\\v8\\detect\\test3.mp4: 384x640 1 truck, 20.5ms\n",
            "video 1/1 (530/601) D:\\software\\LocalProjects\\VehicleTracking\\ultralytics\\yolo\\v8\\detect\\test3.mp4: 384x640 1 truck, 15.9ms\n",
            "video 1/1 (531/601) D:\\software\\LocalProjects\\VehicleTracking\\ultralytics\\yolo\\v8\\detect\\test3.mp4: 384x640 1 truck, 16.1ms\n",
            "video 1/1 (532/601) D:\\software\\LocalProjects\\VehicleTracking\\ultralytics\\yolo\\v8\\detect\\test3.mp4: 384x640 1 truck, 15.0ms\n",
            "video 1/1 (533/601) D:\\software\\LocalProjects\\VehicleTracking\\ultralytics\\yolo\\v8\\detect\\test3.mp4: 384x640 3 trucks, 15.4ms\n",
            "video 1/1 (534/601) D:\\software\\LocalProjects\\VehicleTracking\\ultralytics\\yolo\\v8\\detect\\test3.mp4: 384x640 1 motorcycle, 2 trucks, 14.3ms\n",
            "video 1/1 (535/601) D:\\software\\LocalProjects\\VehicleTracking\\ultralytics\\yolo\\v8\\detect\\test3.mp4: 384x640 1 truck, 16.0ms\n",
            "video 1/1 (536/601) D:\\software\\LocalProjects\\VehicleTracking\\ultralytics\\yolo\\v8\\detect\\test3.mp4: 384x640 1 truck, 14.5ms\n",
            "video 1/1 (537/601) D:\\software\\LocalProjects\\VehicleTracking\\ultralytics\\yolo\\v8\\detect\\test3.mp4: 384x640 1 truck, 17.8ms\n",
            "video 1/1 (538/601) D:\\software\\LocalProjects\\VehicleTracking\\ultralytics\\yolo\\v8\\detect\\test3.mp4: 384x640 1 car, 1 truck, 21.0ms\n",
            "video 1/1 (539/601) D:\\software\\LocalProjects\\VehicleTracking\\ultralytics\\yolo\\v8\\detect\\test3.mp4: 384x640 1 truck, 16.0ms\n",
            "video 1/1 (540/601) D:\\software\\LocalProjects\\VehicleTracking\\ultralytics\\yolo\\v8\\detect\\test3.mp4: 384x640 1 car, 2 trucks, 15.0ms\n",
            "video 1/1 (541/601) D:\\software\\LocalProjects\\VehicleTracking\\ultralytics\\yolo\\v8\\detect\\test3.mp4: 384x640 1 truck, 14.4ms\n",
            "video 1/1 (542/601) D:\\software\\LocalProjects\\VehicleTracking\\ultralytics\\yolo\\v8\\detect\\test3.mp4: 384x640 1 car, 1 truck, 18.8ms\n",
            "video 1/1 (543/601) D:\\software\\LocalProjects\\VehicleTracking\\ultralytics\\yolo\\v8\\detect\\test3.mp4: 384x640 1 truck, 16.8ms\n",
            "video 1/1 (544/601) D:\\software\\LocalProjects\\VehicleTracking\\ultralytics\\yolo\\v8\\detect\\test3.mp4: 384x640 1 car, 1 truck, 17.0ms\n",
            "video 1/1 (545/601) D:\\software\\LocalProjects\\VehicleTracking\\ultralytics\\yolo\\v8\\detect\\test3.mp4: 384x640 1 car, 14.8ms\n",
            "video 1/1 (546/601) D:\\software\\LocalProjects\\VehicleTracking\\ultralytics\\yolo\\v8\\detect\\test3.mp4: 384x640 17.5ms\n",
            "video 1/1 (547/601) D:\\software\\LocalProjects\\VehicleTracking\\ultralytics\\yolo\\v8\\detect\\test3.mp4: 384x640 2 cars, 16.0ms\n",
            "video 1/1 (548/601) D:\\software\\LocalProjects\\VehicleTracking\\ultralytics\\yolo\\v8\\detect\\test3.mp4: 384x640 1 car, 14.5ms\n",
            "video 1/1 (549/601) D:\\software\\LocalProjects\\VehicleTracking\\ultralytics\\yolo\\v8\\detect\\test3.mp4: 384x640 1 car, 24.6ms\n",
            "video 1/1 (550/601) D:\\software\\LocalProjects\\VehicleTracking\\ultralytics\\yolo\\v8\\detect\\test3.mp4: 384x640 1 motorcycle, 14.7ms\n",
            "video 1/1 (551/601) D:\\software\\LocalProjects\\VehicleTracking\\ultralytics\\yolo\\v8\\detect\\test3.mp4: 384x640 15.1ms\n",
            "video 1/1 (552/601) D:\\software\\LocalProjects\\VehicleTracking\\ultralytics\\yolo\\v8\\detect\\test3.mp4: 384x640 1 car, 16.0ms\n",
            "video 1/1 (553/601) D:\\software\\LocalProjects\\VehicleTracking\\ultralytics\\yolo\\v8\\detect\\test3.mp4: 384x640 2 cars, 15.7ms\n",
            "video 1/1 (554/601) D:\\software\\LocalProjects\\VehicleTracking\\ultralytics\\yolo\\v8\\detect\\test3.mp4: 384x640 1 car, 16.8ms\n",
            "video 1/1 (555/601) D:\\software\\LocalProjects\\VehicleTracking\\ultralytics\\yolo\\v8\\detect\\test3.mp4: 384x640 1 car, 15.4ms\n",
            "video 1/1 (556/601) D:\\software\\LocalProjects\\VehicleTracking\\ultralytics\\yolo\\v8\\detect\\test3.mp4: 384x640 1 car, 19.9ms\n",
            "video 1/1 (557/601) D:\\software\\LocalProjects\\VehicleTracking\\ultralytics\\yolo\\v8\\detect\\test3.mp4: 384x640 1 car, 18.6ms\n",
            "video 1/1 (558/601) D:\\software\\LocalProjects\\VehicleTracking\\ultralytics\\yolo\\v8\\detect\\test3.mp4: 384x640 1 car, 15.5ms\n",
            "video 1/1 (559/601) D:\\software\\LocalProjects\\VehicleTracking\\ultralytics\\yolo\\v8\\detect\\test3.mp4: 384x640 1 car, 26.0ms\n",
            "video 1/1 (560/601) D:\\software\\LocalProjects\\VehicleTracking\\ultralytics\\yolo\\v8\\detect\\test3.mp4: 384x640 1 car, 16.2ms\n",
            "video 1/1 (561/601) D:\\software\\LocalProjects\\VehicleTracking\\ultralytics\\yolo\\v8\\detect\\test3.mp4: 384x640 1 car, 15.1ms\n",
            "video 1/1 (562/601) D:\\software\\LocalProjects\\VehicleTracking\\ultralytics\\yolo\\v8\\detect\\test3.mp4: 384x640 1 car, 15.5ms\n",
            "video 1/1 (563/601) D:\\software\\LocalProjects\\VehicleTracking\\ultralytics\\yolo\\v8\\detect\\test3.mp4: 384x640 2 cars, 15.6ms\n",
            "video 1/1 (564/601) D:\\software\\LocalProjects\\VehicleTracking\\ultralytics\\yolo\\v8\\detect\\test3.mp4: 384x640 2 cars, 15.3ms\n",
            "video 1/1 (565/601) D:\\software\\LocalProjects\\VehicleTracking\\ultralytics\\yolo\\v8\\detect\\test3.mp4: 384x640 2 cars, 16.0ms\n",
            "video 1/1 (566/601) D:\\software\\LocalProjects\\VehicleTracking\\ultralytics\\yolo\\v8\\detect\\test3.mp4: 384x640 1 car, 16.3ms\n",
            "video 1/1 (567/601) D:\\software\\LocalProjects\\VehicleTracking\\ultralytics\\yolo\\v8\\detect\\test3.mp4: 384x640 1 car, 15.0ms\n",
            "video 1/1 (568/601) D:\\software\\LocalProjects\\VehicleTracking\\ultralytics\\yolo\\v8\\detect\\test3.mp4: 384x640 1 car, 17.0ms\n",
            "video 1/1 (569/601) D:\\software\\LocalProjects\\VehicleTracking\\ultralytics\\yolo\\v8\\detect\\test3.mp4: 384x640 1 car, 1 truck, 18.2ms\n",
            "video 1/1 (570/601) D:\\software\\LocalProjects\\VehicleTracking\\ultralytics\\yolo\\v8\\detect\\test3.mp4: 384x640 1 car, 1 truck, 14.5ms\n",
            "video 1/1 (571/601) D:\\software\\LocalProjects\\VehicleTracking\\ultralytics\\yolo\\v8\\detect\\test3.mp4: 384x640 1 car, 17.4ms\n",
            "video 1/1 (572/601) D:\\software\\LocalProjects\\VehicleTracking\\ultralytics\\yolo\\v8\\detect\\test3.mp4: 384x640 1 car, 1 truck, 14.5ms\n",
            "video 1/1 (573/601) D:\\software\\LocalProjects\\VehicleTracking\\ultralytics\\yolo\\v8\\detect\\test3.mp4: 384x640 1 car, 1 truck, 14.8ms\n",
            "video 1/1 (574/601) D:\\software\\LocalProjects\\VehicleTracking\\ultralytics\\yolo\\v8\\detect\\test3.mp4: 384x640 1 truck, 16.1ms\n",
            "video 1/1 (575/601) D:\\software\\LocalProjects\\VehicleTracking\\ultralytics\\yolo\\v8\\detect\\test3.mp4: 384x640 1 truck, 16.5ms\n",
            "video 1/1 (576/601) D:\\software\\LocalProjects\\VehicleTracking\\ultralytics\\yolo\\v8\\detect\\test3.mp4: 384x640 1 car, 1 truck, 15.0ms\n",
            "video 1/1 (577/601) D:\\software\\LocalProjects\\VehicleTracking\\ultralytics\\yolo\\v8\\detect\\test3.mp4: 384x640 1 truck, 15.0ms\n",
            "video 1/1 (578/601) D:\\software\\LocalProjects\\VehicleTracking\\ultralytics\\yolo\\v8\\detect\\test3.mp4: 384x640 1 truck, 23.4ms\n",
            "video 1/1 (579/601) D:\\software\\LocalProjects\\VehicleTracking\\ultralytics\\yolo\\v8\\detect\\test3.mp4: 384x640 20.0ms\n",
            "video 1/1 (580/601) D:\\software\\LocalProjects\\VehicleTracking\\ultralytics\\yolo\\v8\\detect\\test3.mp4: 384x640 15.0ms\n",
            "video 1/1 (581/601) D:\\software\\LocalProjects\\VehicleTracking\\ultralytics\\yolo\\v8\\detect\\test3.mp4: 384x640 2 cars, 16.4ms\n",
            "video 1/1 (582/601) D:\\software\\LocalProjects\\VehicleTracking\\ultralytics\\yolo\\v8\\detect\\test3.mp4: 384x640 2 cars, 14.7ms\n",
            "video 1/1 (583/601) D:\\software\\LocalProjects\\VehicleTracking\\ultralytics\\yolo\\v8\\detect\\test3.mp4: 384x640 1 car, 15.6ms\n",
            "video 1/1 (584/601) D:\\software\\LocalProjects\\VehicleTracking\\ultralytics\\yolo\\v8\\detect\\test3.mp4: 384x640 16.0ms\n",
            "video 1/1 (585/601) D:\\software\\LocalProjects\\VehicleTracking\\ultralytics\\yolo\\v8\\detect\\test3.mp4: 384x640 15.5ms\n",
            "video 1/1 (586/601) D:\\software\\LocalProjects\\VehicleTracking\\ultralytics\\yolo\\v8\\detect\\test3.mp4: 384x640 16.0ms\n",
            "video 1/1 (587/601) D:\\software\\LocalProjects\\VehicleTracking\\ultralytics\\yolo\\v8\\detect\\test3.mp4: 384x640 21.1ms\n",
            "video 1/1 (588/601) D:\\software\\LocalProjects\\VehicleTracking\\ultralytics\\yolo\\v8\\detect\\test3.mp4: 384x640 16.0ms\n",
            "video 1/1 (589/601) D:\\software\\LocalProjects\\VehicleTracking\\ultralytics\\yolo\\v8\\detect\\test3.mp4: 384x640 17.0ms\n",
            "video 1/1 (590/601) D:\\software\\LocalProjects\\VehicleTracking\\ultralytics\\yolo\\v8\\detect\\test3.mp4: 384x640 14.5ms\n",
            "video 1/1 (591/601) D:\\software\\LocalProjects\\VehicleTracking\\ultralytics\\yolo\\v8\\detect\\test3.mp4: 384x640 16.5ms\n",
            "video 1/1 (592/601) D:\\software\\LocalProjects\\VehicleTracking\\ultralytics\\yolo\\v8\\detect\\test3.mp4: 384x640 16.5ms\n",
            "video 1/1 (593/601) D:\\software\\LocalProjects\\VehicleTracking\\ultralytics\\yolo\\v8\\detect\\test3.mp4: 384x640 14.1ms\n",
            "video 1/1 (594/601) D:\\software\\LocalProjects\\VehicleTracking\\ultralytics\\yolo\\v8\\detect\\test3.mp4: 384x640 14.7ms\n",
            "video 1/1 (595/601) D:\\software\\LocalProjects\\VehicleTracking\\ultralytics\\yolo\\v8\\detect\\test3.mp4: 384x640 16.2ms\n",
            "video 1/1 (596/601) D:\\software\\LocalProjects\\VehicleTracking\\ultralytics\\yolo\\v8\\detect\\test3.mp4: 384x640 15.9ms\n",
            "video 1/1 (597/601) D:\\software\\LocalProjects\\VehicleTracking\\ultralytics\\yolo\\v8\\detect\\test3.mp4: 384x640 16.1ms\n",
            "video 1/1 (598/601) D:\\software\\LocalProjects\\VehicleTracking\\ultralytics\\yolo\\v8\\detect\\test3.mp4: 384x640 19.0ms\n",
            "video 1/1 (599/601) D:\\software\\LocalProjects\\VehicleTracking\\ultralytics\\yolo\\v8\\detect\\test3.mp4: 384x640 15.6ms\n",
            "video 1/1 (600/601) D:\\software\\LocalProjects\\VehicleTracking\\ultralytics\\yolo\\v8\\detect\\test3.mp4: 384x640 15.3ms\n",
            "video 1/1 (601/601) D:\\software\\LocalProjects\\VehicleTracking\\ultralytics\\yolo\\v8\\detect\\test3.mp4: 384x640 15.2ms\n",
            "Speed: 0.5ms pre-process, 17.3ms inference, 2.2ms postprocess per image at shape (1, 3, 640, 640)\n",
            "Results saved to \u001b[1mruns\\detect\\train4\u001b[0m\n"
          ]
        }
      ],
      "source": [
        "!python predict.py model='best.pt' source='test3.mp4'"
      ]
    },
    {
      "cell_type": "markdown",
      "metadata": {
        "id": "Y0vqsnUJGiKB"
      },
      "source": [
        "#**Display the Demo Video**"
      ]
    },
    {
      "cell_type": "code",
      "execution_count": null,
      "metadata": {
        "colab": {
          "base_uri": "https://localhost:8080/"
        },
        "id": "7MyfgoWKE1e0",
        "outputId": "9f5cc89d-60bb-42bc-fcb7-9fda7fddb11e"
      },
      "outputs": [],
      "source": [
        "!rm \"/content/result_compressed.mp4\""
      ]
    },
    {
      "cell_type": "code",
      "execution_count": null,
      "metadata": {
        "colab": {
          "base_uri": "https://localhost:8080/",
          "height": 247
        },
        "id": "WkR9WDjCEn18",
        "outputId": "23ae9f0b-845a-4f55-9c83-cd76a5df82cc"
      },
      "outputs": [],
      "source": [
        "from IPython.display import HTML\n",
        "from base64 import b64encode\n",
        "import os\n",
        "\n",
        "# Input video path\n",
        "save_path = '/content/YOLOv8-DeepSORT-Object-Tracking/runs/detect/train/test4.mp4'\n",
        "\n",
        "# Compressed video path\n",
        "compressed_path = \"/content/result_compressed.mp4\"\n",
        "\n",
        "os.system(f\"ffmpeg -i {save_path} -vcodec libx264 {compressed_path}\")\n",
        "\n",
        "# Show video\n",
        "mp4 = open(compressed_path,'rb').read()\n",
        "data_url = \"data:video/mp4;base64,\" + b64encode(mp4).decode()\n",
        "HTML(\"\"\"\n",
        "<video width=400 controls>\n",
        "      <source src=\"%s\" type=\"video/mp4\">\n",
        "</video>\n",
        "\"\"\" % data_url)"
      ]
    },
    {
      "cell_type": "markdown",
      "metadata": {
        "id": "hB_rMcNNGtio"
      },
      "source": [
        "#**Demo Video 2**"
      ]
    },
    {
      "cell_type": "code",
      "execution_count": null,
      "metadata": {
        "colab": {
          "base_uri": "https://localhost:8080/"
        },
        "id": "LLqHbof1Gvz1",
        "outputId": "b12ed0ce-ac87-4937-cd9d-775bdde027de"
      },
      "outputs": [],
      "source": [
        "!gdown \"https://drive.google.com/uc?id=1MaH6dNoegFjwkhtedxXufn2UD7EPpF_w&confirm=t\"\n"
      ]
    },
    {
      "cell_type": "code",
      "execution_count": null,
      "metadata": {
        "colab": {
          "base_uri": "https://localhost:8080/"
        },
        "id": "pjf23KSAGv21",
        "outputId": "11b78a1b-89ef-479b-a653-568920747299"
      },
      "outputs": [],
      "source": [
        "!python predict.py model='best.pt' source='test2.mp4'"
      ]
    },
    {
      "cell_type": "markdown",
      "metadata": {
        "id": "dClDXNUlHDxV"
      },
      "source": [
        "#**Display the Demo Video**"
      ]
    },
    {
      "cell_type": "code",
      "execution_count": null,
      "metadata": {
        "id": "sE-R4zmyHGeW"
      },
      "outputs": [],
      "source": [
        "!rm \"/content/result_compressed.mp4\""
      ]
    },
    {
      "cell_type": "code",
      "execution_count": null,
      "metadata": {
        "colab": {
          "base_uri": "https://localhost:8080/",
          "height": 247
        },
        "id": "fz6PouroHGi3",
        "outputId": "98b96513-e7db-4fea-d3ce-39acf02a261f"
      },
      "outputs": [],
      "source": [
        "from IPython.display import HTML\n",
        "from base64 import b64encode\n",
        "import os\n",
        "\n",
        "# Input video path\n",
        "save_path = '/content/YOLOv8-DeepSORT-Object-Tracking/runs/detect/train2/test2.mp4'\n",
        "\n",
        "# Compressed video path\n",
        "compressed_path = \"/content/result_compressed.mp4\"\n",
        "\n",
        "os.system(f\"ffmpeg -i {save_path} -vcodec libx264 {compressed_path}\")\n",
        "\n",
        "# Show video\n",
        "mp4 = open(compressed_path,'rb').read()\n",
        "data_url = \"data:video/mp4;base64,\" + b64encode(mp4).decode()\n",
        "HTML(\"\"\"\n",
        "<video width=400 controls>\n",
        "      <source src=\"%s\" type=\"video/mp4\">\n",
        "</video>\n",
        "\"\"\" % data_url)"
      ]
    },
    {
      "cell_type": "code",
      "execution_count": null,
      "metadata": {
        "id": "JGR8tiSjIT93"
      },
      "outputs": [],
      "source": []
    }
  ],
  "metadata": {
    "accelerator": "GPU",
    "colab": {
      "provenance": []
    },
    "gpuClass": "standard",
    "kernelspec": {
      "display_name": "pytorch2",
      "language": "python",
      "name": "python3"
    },
    "language_info": {
      "codemirror_mode": {
        "name": "ipython",
        "version": 3
      },
      "file_extension": ".py",
      "mimetype": "text/x-python",
      "name": "python",
      "nbconvert_exporter": "python",
      "pygments_lexer": "ipython3",
      "version": "3.9.18"
    }
  },
  "nbformat": 4,
  "nbformat_minor": 0
}
