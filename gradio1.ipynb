{
 "cells": [
  {
   "cell_type": "code",
   "execution_count": null,
   "id": "4e6c49d5",
   "metadata": {},
   "outputs": [],
   "source": [
    "home = '/mnt/f/YOLOv8-DeepSORT-Object-Tracking/ultralytics/yolo/v8/detect'\n",
    "%cd {home}"
   ]
  },
  {
   "cell_type": "code",
   "execution_count": null,
   "id": "ab49226b",
   "metadata": {},
   "outputs": [],
   "source": [
    "!python predict_count.py model=yolov8n.pt source=/mnt/f/YOLOv8-DeepSORT-Object-Tracking/sample_video.mp4 +project=. +name=output ++save=True"
   ]
  },
  {
   "cell_type": "code",
   "execution_count": null,
   "id": "e69f2e03",
   "metadata": {},
   "outputs": [],
   "source": [
    "import gradio as gr\n",
    "import shutil\n",
    "import os\n",
    "import uuid\n",
    "from pathlib import Path\n",
    "import subprocess\n",
    "\n",
    "# 路径定义\n",
    "PREDICT_SCRIPT = \"/mnt/f/YOLOv8-DeepSORT-Object-Tracking/ultralytics/yolo/v8/detect/predict_count.py\"\n",
    "OUTPUT_DIR = \"/mnt/f/YOLOv8-DeepSORT-Object-Tracking/runs/detect/train\"\n",
    "BEST_WEIGHTS = \"/mnt/f/YOLOv8-DeepSORT-Object-Tracking/ultralytics/yolo/v8/detect/yolov8l.pt\"\n",
    "\n",
    "def process_video(input_video):\n",
    "    # 创建唯一文件名\n",
    "    temp_input = f\"inputs/{uuid.uuid4().hex}.mp4\"\n",
    "    os.makedirs(\"inputs\", exist_ok=True)\n",
    "    shutil.copy(input_video, temp_input)\n",
    "    fixed_output_dir = Path(\"/mnt/f/YOLOv8-DeepSORT-Object-Tracking/runs/detect/train\")\n",
    "    if fixed_output_dir.exists():\n",
    "        shutil.rmtree(fixed_output_dir)\n",
    "    # 执行命令\n",
    "    command = [\n",
    "        \"python\", PREDICT_SCRIPT,\n",
    "        f\"model={BEST_WEIGHTS}\",\n",
    "        f\"source={temp_input}\",\n",
    "        \"save=True\",\n",
    "        \"conf=0.5\",\n",
    "        f\"+project={'/mnt/f/YOLOv8-DeepSORT-Object-Tracking/runs/detect'}\"\n",
    "    ]\n",
    "    result = subprocess.run(command, capture_output=True, text=True)\n",
    "\n",
    "    print(\"=== predict.py 输出日志 ===\")\n",
    "    print(result.stdout)\n",
    "    print(\"=== 错误信息（如果有） ===\")\n",
    "    print(result.stderr)\n",
    "\n",
    "    if result.returncode != 0:\n",
    "        raise RuntimeError(\"predict.py 执行失败，请检查上方错误信息。\")\n",
    "\n",
    "    # 查找最新输出文件夹\n",
    "    fixed_output_dir = Path(\"/mnt/f/YOLOv8-DeepSORT-Object-Tracking/runs/detect/train\")\n",
    "\n",
    "    # 查找 MP4 文件\n",
    "    output_path = \"\"\n",
    "    for f in fixed_output_dir.glob(\"*.mp4\"):\n",
    "        output_path = str(f)\n",
    "        break\n",
    "\n",
    "    if not output_path or not os.path.exists(output_path):\n",
    "        raise FileNotFoundError(\n",
    "            f\"未能在 {fixed_output_dir} 找到输出视频文件，请检查 predict.py 是否正确保存结果。\"\n",
    "        )\n",
    "\n",
    "    return output_path\n",
    "\n",
    "# Gradio界面\n",
    "demo = gr.Interface(\n",
    "    fn=process_video,\n",
    "    inputs=gr.Video(label=\"上传视频\"),\n",
    "    outputs=gr.Video(label=\"处理后的视频\"),\n",
    "    title=\"YOLOv8 + DeepSort 视频目标检测\",\n",
    "    description=\"上传视频，模型将检测和跟踪目标并输出处理后的视频结果。\"\n",
    ")\n",
    "\n",
    "if __name__ == \"__main__\":\n",
    "        demo.launch(\n",
    "        allowed_paths=[\"/mnt/f/YOLOv8-DeepSORT-Object-Tracking/runs/detect/train\"],\n",
    "        max_file_size=\"2000mb\"         \n",
    "         )\n"
   ]
  }
 ],
 "metadata": {
  "kernelspec": {
   "display_name": "gradio1",
   "language": "python",
   "name": "python3"
  },
  "language_info": {
   "codemirror_mode": {
    "name": "ipython",
    "version": 3
   },
   "file_extension": ".py",
   "mimetype": "text/x-python",
   "name": "python",
   "nbconvert_exporter": "python",
   "pygments_lexer": "ipython3",
   "version": "3.9.0"
  }
 },
 "nbformat": 4,
 "nbformat_minor": 5
}
