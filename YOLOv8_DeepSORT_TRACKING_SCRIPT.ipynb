{
  "cells": [
    {
      "cell_type": "markdown",
      "metadata": {
        "id": "Osp3607nFu9G"
      },
      "source": [
        "# Before Running the Script Please Make Sure you Select the Run Time as GPU"
      ]
    },
    {
      "cell_type": "markdown",
      "metadata": {
        "id": "tO1DFFdfFvI-"
      },
      "source": [
        "#**Clone the Github Repo**"
      ]
    },
    {
      "cell_type": "code",
      "execution_count": null,
      "metadata": {
        "colab": {
          "base_uri": "https://localhost:8080/"
        },
        "id": "JTqOq3p0F0ul",
        "outputId": "4999aab4-6c37-482f-bef0-3df008b26432"
      },
      "outputs": [
        {
          "name": "stdout",
          "output_type": "stream",
          "text": [
            "Cloning into 'YOLOv8-DeepSORT-Object-Tracking'...\n",
            "remote: Enumerating objects: 367, done.\u001b[K\n",
            "remote: Counting objects: 100% (265/265), done.\u001b[K\n",
            "remote: Compressing objects: 100% (160/160), done.\u001b[K\n",
            "remote: Total 367 (delta 116), reused 239 (delta 104), pack-reused 102\u001b[K\n",
            "Receiving objects: 100% (367/367), 45.62 MiB | 15.98 MiB/s, done.\n",
            "Resolving deltas: 100% (134/134), done.\n"
          ]
        }
      ],
      "source": [
        "# !git clone https://github.com/MuhammadMoinFaisal/YOLOv8-DeepSORT-Object-Tracking.git"
      ]
    },
    {
      "cell_type": "markdown",
      "metadata": {
        "id": "PuJXtLs9C-tj"
      },
      "source": [
        "##Setting the Current Directory"
      ]
    },
    {
      "cell_type": "code",
      "execution_count": 5,
      "metadata": {
        "colab": {
          "base_uri": "https://localhost:8080/"
        },
        "id": "_0Cy9Q3hC0CI",
        "outputId": "d7be9a31-b001-4183-d481-19b98ecb4754"
      },
      "outputs": [
        {
          "name": "stdout",
          "output_type": "stream",
          "text": [
            "D:\\software\\LocalProjects\\VehicleTracking\n"
          ]
        }
      ],
      "source": [
        "%cd D:\\software\\LocalProjects\\VehicleTracking\n",
        "#/content/YOLOv8-DeepSORT-Object-Tracking"
      ]
    },
    {
      "cell_type": "markdown",
      "metadata": {
        "id": "p4PQj_GXDMFb"
      },
      "source": [
        "##Install all the Dependencies"
      ]
    },
    {
      "cell_type": "code",
      "execution_count": 10,
      "metadata": {
        "colab": {
          "base_uri": "https://localhost:8080/"
        },
        "id": "hxERsChADIgc",
        "outputId": "fe5304f6-e2c3-49cf-c189-62c6e20a0485"
      },
      "outputs": [
        {
          "name": "stdout",
          "output_type": "stream",
          "text": [
            "Note: you may need to restart the kernel to use updated packages.\n"
          ]
        },
        {
          "name": "stderr",
          "output_type": "stream",
          "text": [
            "ERROR: 'setup.py[dev]' is not a valid editable requirement. It should either be a path to a local project or a VCS URL (beginning with bzr+http, bzr+https, bzr+ssh, bzr+sftp, bzr+ftp, bzr+lp, bzr+file, git+http, git+https, git+ssh, git+git, git+file, hg+file, hg+http, hg+https, hg+ssh, hg+static-http, svn+ssh, svn+http, svn+https, svn+svn, svn+file).\n"
          ]
        },
        {
          "name": "stdout",
          "output_type": "stream",
          "text": [
            "Collecting hydra-core>=1.2.0 (from -r requirements.txt (line 5))\n",
            "  Using cached hydra_core-1.3.2-py3-none-any.whl.metadata (5.5 kB)\n",
            "Requirement already satisfied: matplotlib>=3.2.2 in d:\\software\\anaconda\\envs\\pytorch2\\lib\\site-packages (from -r requirements.txt (line 6)) (3.9.2)\n",
            "Requirement already satisfied: numpy>=1.18.5 in d:\\software\\anaconda\\envs\\pytorch2\\lib\\site-packages (from -r requirements.txt (line 7)) (1.26.4)\n",
            "Requirement already satisfied: opencv-python>=4.1.1 in d:\\software\\anaconda\\envs\\pytorch2\\lib\\site-packages (from -r requirements.txt (line 8)) (4.10.0.84)\n",
            "Requirement already satisfied: Pillow>=7.1.2 in d:\\software\\anaconda\\envs\\pytorch2\\lib\\site-packages (from -r requirements.txt (line 9)) (10.4.0)\n",
            "Requirement already satisfied: PyYAML>=5.3.1 in d:\\software\\anaconda\\envs\\pytorch2\\lib\\site-packages (from -r requirements.txt (line 10)) (6.0.2)\n",
            "Requirement already satisfied: requests>=2.23.0 in d:\\software\\anaconda\\envs\\pytorch2\\lib\\site-packages (from -r requirements.txt (line 11)) (2.32.3)\n",
            "Requirement already satisfied: scipy>=1.4.1 in d:\\software\\anaconda\\envs\\pytorch2\\lib\\site-packages (from -r requirements.txt (line 12)) (1.13.1)\n",
            "Requirement already satisfied: torch>=1.7.0 in d:\\software\\anaconda\\envs\\pytorch2\\lib\\site-packages (from -r requirements.txt (line 13)) (2.5.0)\n",
            "Requirement already satisfied: torchvision>=0.8.1 in d:\\software\\anaconda\\envs\\pytorch2\\lib\\site-packages (from -r requirements.txt (line 14)) (0.20.0)\n",
            "Requirement already satisfied: tqdm>=4.64.0 in d:\\software\\anaconda\\envs\\pytorch2\\lib\\site-packages (from -r requirements.txt (line 15)) (4.67.1)\n",
            "Requirement already satisfied: tensorboard>=2.4.1 in d:\\software\\anaconda\\envs\\pytorch2\\lib\\site-packages (from -r requirements.txt (line 18)) (2.10.0)\n",
            "Requirement already satisfied: pandas>=1.1.4 in d:\\software\\anaconda\\envs\\pytorch2\\lib\\site-packages (from -r requirements.txt (line 23)) (2.2.2)\n",
            "Requirement already satisfied: seaborn>=0.11.0 in d:\\software\\anaconda\\envs\\pytorch2\\lib\\site-packages (from -r requirements.txt (line 24)) (0.13.2)\n",
            "Requirement already satisfied: ipython in d:\\software\\anaconda\\envs\\pytorch2\\lib\\site-packages (from -r requirements.txt (line 38)) (8.18.1)\n",
            "Requirement already satisfied: psutil in d:\\software\\anaconda\\envs\\pytorch2\\lib\\site-packages (from -r requirements.txt (line 39)) (6.1.0)\n",
            "Collecting thop>=0.1.1 (from -r requirements.txt (line 40))\n",
            "  Using cached thop-0.1.1.post2209072238-py3-none-any.whl.metadata (2.7 kB)\n",
            "Requirement already satisfied: GitPython>=3.1.24 in d:\\software\\anaconda\\envs\\pytorch2\\lib\\site-packages (from -r requirements.txt (line 46)) (3.1.44)\n",
            "Collecting omegaconf<2.4,>=2.2 (from hydra-core>=1.2.0->-r requirements.txt (line 5))\n",
            "  Using cached omegaconf-2.3.0-py3-none-any.whl.metadata (3.9 kB)\n",
            "Collecting antlr4-python3-runtime==4.9.* (from hydra-core>=1.2.0->-r requirements.txt (line 5))\n",
            "  Using cached antlr4_python3_runtime-4.9.3-py3-none-any.whl\n",
            "Requirement already satisfied: packaging in d:\\software\\anaconda\\envs\\pytorch2\\lib\\site-packages (from hydra-core>=1.2.0->-r requirements.txt (line 5)) (24.1)\n",
            "Requirement already satisfied: contourpy>=1.0.1 in d:\\software\\anaconda\\envs\\pytorch2\\lib\\site-packages (from matplotlib>=3.2.2->-r requirements.txt (line 6)) (1.2.0)\n",
            "Requirement already satisfied: cycler>=0.10 in d:\\software\\anaconda\\envs\\pytorch2\\lib\\site-packages (from matplotlib>=3.2.2->-r requirements.txt (line 6)) (0.11.0)\n",
            "Requirement already satisfied: fonttools>=4.22.0 in d:\\software\\anaconda\\envs\\pytorch2\\lib\\site-packages (from matplotlib>=3.2.2->-r requirements.txt (line 6)) (4.51.0)\n",
            "Requirement already satisfied: kiwisolver>=1.3.1 in d:\\software\\anaconda\\envs\\pytorch2\\lib\\site-packages (from matplotlib>=3.2.2->-r requirements.txt (line 6)) (1.4.4)\n",
            "Requirement already satisfied: pyparsing>=2.3.1 in d:\\software\\anaconda\\envs\\pytorch2\\lib\\site-packages (from matplotlib>=3.2.2->-r requirements.txt (line 6)) (3.1.2)\n",
            "Requirement already satisfied: python-dateutil>=2.7 in d:\\software\\anaconda\\envs\\pytorch2\\lib\\site-packages (from matplotlib>=3.2.2->-r requirements.txt (line 6)) (2.9.0.post0)\n",
            "Requirement already satisfied: importlib-resources>=3.2.0 in d:\\software\\anaconda\\envs\\pytorch2\\lib\\site-packages (from matplotlib>=3.2.2->-r requirements.txt (line 6)) (6.4.0)\n",
            "Requirement already satisfied: charset-normalizer<4,>=2 in d:\\software\\anaconda\\envs\\pytorch2\\lib\\site-packages (from requests>=2.23.0->-r requirements.txt (line 11)) (3.3.2)\n",
            "Requirement already satisfied: idna<4,>=2.5 in d:\\software\\anaconda\\envs\\pytorch2\\lib\\site-packages (from requests>=2.23.0->-r requirements.txt (line 11)) (3.7)\n",
            "Requirement already satisfied: urllib3<3,>=1.21.1 in d:\\software\\anaconda\\envs\\pytorch2\\lib\\site-packages (from requests>=2.23.0->-r requirements.txt (line 11)) (2.2.3)\n",
            "Requirement already satisfied: certifi>=2017.4.17 in d:\\software\\anaconda\\envs\\pytorch2\\lib\\site-packages (from requests>=2.23.0->-r requirements.txt (line 11)) (2025.1.31)\n",
            "Requirement already satisfied: filelock in d:\\software\\anaconda\\envs\\pytorch2\\lib\\site-packages (from torch>=1.7.0->-r requirements.txt (line 13)) (3.13.1)\n",
            "Requirement already satisfied: typing-extensions>=4.8.0 in d:\\software\\anaconda\\envs\\pytorch2\\lib\\site-packages (from torch>=1.7.0->-r requirements.txt (line 13)) (4.12.2)\n",
            "Requirement already satisfied: networkx in d:\\software\\anaconda\\envs\\pytorch2\\lib\\site-packages (from torch>=1.7.0->-r requirements.txt (line 13)) (3.2.1)\n",
            "Requirement already satisfied: jinja2 in d:\\software\\anaconda\\envs\\pytorch2\\lib\\site-packages (from torch>=1.7.0->-r requirements.txt (line 13)) (3.1.4)\n",
            "Requirement already satisfied: fsspec in d:\\software\\anaconda\\envs\\pytorch2\\lib\\site-packages (from torch>=1.7.0->-r requirements.txt (line 13)) (2024.12.0)\n",
            "Requirement already satisfied: sympy==1.13.1 in d:\\software\\anaconda\\envs\\pytorch2\\lib\\site-packages (from torch>=1.7.0->-r requirements.txt (line 13)) (1.13.1)\n",
            "Requirement already satisfied: mpmath<1.4,>=1.1.0 in d:\\software\\anaconda\\envs\\pytorch2\\lib\\site-packages (from sympy==1.13.1->torch>=1.7.0->-r requirements.txt (line 13)) (1.3.0)\n",
            "Requirement already satisfied: colorama in d:\\software\\anaconda\\envs\\pytorch2\\lib\\site-packages (from tqdm>=4.64.0->-r requirements.txt (line 15)) (0.4.6)\n",
            "Requirement already satisfied: absl-py>=0.4 in d:\\software\\anaconda\\envs\\pytorch2\\lib\\site-packages (from tensorboard>=2.4.1->-r requirements.txt (line 18)) (2.1.0)\n",
            "Requirement already satisfied: grpcio>=1.24.3 in d:\\software\\anaconda\\envs\\pytorch2\\lib\\site-packages (from tensorboard>=2.4.1->-r requirements.txt (line 18)) (1.48.2)\n",
            "Requirement already satisfied: google-auth<3,>=1.6.3 in d:\\software\\anaconda\\envs\\pytorch2\\lib\\site-packages (from tensorboard>=2.4.1->-r requirements.txt (line 18)) (2.29.0)\n",
            "Requirement already satisfied: google-auth-oauthlib<0.5,>=0.4.1 in d:\\software\\anaconda\\envs\\pytorch2\\lib\\site-packages (from tensorboard>=2.4.1->-r requirements.txt (line 18)) (0.4.4)\n",
            "Requirement already satisfied: markdown>=2.6.8 in d:\\software\\anaconda\\envs\\pytorch2\\lib\\site-packages (from tensorboard>=2.4.1->-r requirements.txt (line 18)) (3.4.1)\n",
            "Collecting protobuf<3.20,>=3.9.2 (from tensorboard>=2.4.1->-r requirements.txt (line 18))\n",
            "  Using cached protobuf-3.19.6-cp39-cp39-win_amd64.whl.metadata (807 bytes)\n",
            "Requirement already satisfied: setuptools>=41.0.0 in d:\\software\\anaconda\\envs\\pytorch2\\lib\\site-packages (from tensorboard>=2.4.1->-r requirements.txt (line 18)) (75.1.0)\n",
            "Requirement already satisfied: tensorboard-data-server<0.7.0,>=0.6.0 in d:\\software\\anaconda\\envs\\pytorch2\\lib\\site-packages (from tensorboard>=2.4.1->-r requirements.txt (line 18)) (0.6.1)\n",
            "Requirement already satisfied: tensorboard-plugin-wit>=1.6.0 in d:\\software\\anaconda\\envs\\pytorch2\\lib\\site-packages (from tensorboard>=2.4.1->-r requirements.txt (line 18)) (1.8.1)\n",
            "Requirement already satisfied: werkzeug>=1.0.1 in d:\\software\\anaconda\\envs\\pytorch2\\lib\\site-packages (from tensorboard>=2.4.1->-r requirements.txt (line 18)) (3.0.3)\n",
            "Requirement already satisfied: wheel>=0.26 in d:\\software\\anaconda\\envs\\pytorch2\\lib\\site-packages (from tensorboard>=2.4.1->-r requirements.txt (line 18)) (0.44.0)\n",
            "Requirement already satisfied: pytz>=2020.1 in d:\\software\\anaconda\\envs\\pytorch2\\lib\\site-packages (from pandas>=1.1.4->-r requirements.txt (line 23)) (2024.1)\n",
            "Requirement already satisfied: tzdata>=2022.7 in d:\\software\\anaconda\\envs\\pytorch2\\lib\\site-packages (from pandas>=1.1.4->-r requirements.txt (line 23)) (2023.3)\n",
            "Requirement already satisfied: decorator in d:\\software\\anaconda\\envs\\pytorch2\\lib\\site-packages (from ipython->-r requirements.txt (line 38)) (5.1.1)\n",
            "Requirement already satisfied: jedi>=0.16 in d:\\software\\anaconda\\envs\\pytorch2\\lib\\site-packages (from ipython->-r requirements.txt (line 38)) (0.19.1)\n",
            "Requirement already satisfied: matplotlib-inline in d:\\software\\anaconda\\envs\\pytorch2\\lib\\site-packages (from ipython->-r requirements.txt (line 38)) (0.1.7)\n",
            "Requirement already satisfied: prompt-toolkit<3.1.0,>=3.0.41 in d:\\software\\anaconda\\envs\\pytorch2\\lib\\site-packages (from ipython->-r requirements.txt (line 38)) (3.0.48)\n",
            "Requirement already satisfied: pygments>=2.4.0 in d:\\software\\anaconda\\envs\\pytorch2\\lib\\site-packages (from ipython->-r requirements.txt (line 38)) (2.18.0)\n",
            "Requirement already satisfied: stack-data in d:\\software\\anaconda\\envs\\pytorch2\\lib\\site-packages (from ipython->-r requirements.txt (line 38)) (0.6.3)\n",
            "Requirement already satisfied: traitlets>=5 in d:\\software\\anaconda\\envs\\pytorch2\\lib\\site-packages (from ipython->-r requirements.txt (line 38)) (5.14.3)\n",
            "Requirement already satisfied: exceptiongroup in d:\\software\\anaconda\\envs\\pytorch2\\lib\\site-packages (from ipython->-r requirements.txt (line 38)) (1.2.2)\n",
            "Requirement already satisfied: gitdb<5,>=4.0.1 in d:\\software\\anaconda\\envs\\pytorch2\\lib\\site-packages (from GitPython>=3.1.24->-r requirements.txt (line 46)) (4.0.12)\n",
            "Requirement already satisfied: smmap<6,>=3.0.1 in d:\\software\\anaconda\\envs\\pytorch2\\lib\\site-packages (from gitdb<5,>=4.0.1->GitPython>=3.1.24->-r requirements.txt (line 46)) (5.0.2)\n",
            "Requirement already satisfied: cachetools<6.0,>=2.0.0 in d:\\software\\anaconda\\envs\\pytorch2\\lib\\site-packages (from google-auth<3,>=1.6.3->tensorboard>=2.4.1->-r requirements.txt (line 18)) (5.3.3)\n",
            "Requirement already satisfied: pyasn1-modules>=0.2.1 in d:\\software\\anaconda\\envs\\pytorch2\\lib\\site-packages (from google-auth<3,>=1.6.3->tensorboard>=2.4.1->-r requirements.txt (line 18)) (0.2.8)\n",
            "Requirement already satisfied: rsa<5,>=3.1.4 in d:\\software\\anaconda\\envs\\pytorch2\\lib\\site-packages (from google-auth<3,>=1.6.3->tensorboard>=2.4.1->-r requirements.txt (line 18)) (4.7.2)\n",
            "Requirement already satisfied: requests-oauthlib>=0.7.0 in d:\\software\\anaconda\\envs\\pytorch2\\lib\\site-packages (from google-auth-oauthlib<0.5,>=0.4.1->tensorboard>=2.4.1->-r requirements.txt (line 18)) (2.0.0)\n",
            "Requirement already satisfied: six>=1.5.2 in d:\\software\\anaconda\\envs\\pytorch2\\lib\\site-packages (from grpcio>=1.24.3->tensorboard>=2.4.1->-r requirements.txt (line 18)) (1.16.0)\n",
            "Requirement already satisfied: zipp>=3.1.0 in d:\\software\\anaconda\\envs\\pytorch2\\lib\\site-packages (from importlib-resources>=3.2.0->matplotlib>=3.2.2->-r requirements.txt (line 6)) (3.20.2)\n",
            "Requirement already satisfied: parso<0.9.0,>=0.8.3 in d:\\software\\anaconda\\envs\\pytorch2\\lib\\site-packages (from jedi>=0.16->ipython->-r requirements.txt (line 38)) (0.8.4)\n",
            "Requirement already satisfied: importlib-metadata>=4.4 in d:\\software\\anaconda\\envs\\pytorch2\\lib\\site-packages (from markdown>=2.6.8->tensorboard>=2.4.1->-r requirements.txt (line 18)) (7.0.1)\n",
            "Requirement already satisfied: wcwidth in d:\\software\\anaconda\\envs\\pytorch2\\lib\\site-packages (from prompt-toolkit<3.1.0,>=3.0.41->ipython->-r requirements.txt (line 38)) (0.2.13)\n",
            "Requirement already satisfied: MarkupSafe>=2.1.1 in d:\\software\\anaconda\\envs\\pytorch2\\lib\\site-packages (from werkzeug>=1.0.1->tensorboard>=2.4.1->-r requirements.txt (line 18)) (2.1.3)\n",
            "Requirement already satisfied: executing>=1.2.0 in d:\\software\\anaconda\\envs\\pytorch2\\lib\\site-packages (from stack-data->ipython->-r requirements.txt (line 38)) (2.1.0)\n",
            "Requirement already satisfied: asttokens>=2.1.0 in d:\\software\\anaconda\\envs\\pytorch2\\lib\\site-packages (from stack-data->ipython->-r requirements.txt (line 38)) (2.4.1)\n",
            "Requirement already satisfied: pure-eval in d:\\software\\anaconda\\envs\\pytorch2\\lib\\site-packages (from stack-data->ipython->-r requirements.txt (line 38)) (0.2.3)\n",
            "Requirement already satisfied: pyasn1<0.5.0,>=0.4.6 in d:\\software\\anaconda\\envs\\pytorch2\\lib\\site-packages (from pyasn1-modules>=0.2.1->google-auth<3,>=1.6.3->tensorboard>=2.4.1->-r requirements.txt (line 18)) (0.4.8)\n",
            "Requirement already satisfied: oauthlib>=3.0.0 in d:\\software\\anaconda\\envs\\pytorch2\\lib\\site-packages (from requests-oauthlib>=0.7.0->google-auth-oauthlib<0.5,>=0.4.1->tensorboard>=2.4.1->-r requirements.txt (line 18)) (3.2.2)\n",
            "Using cached hydra_core-1.3.2-py3-none-any.whl (154 kB)\n",
            "Using cached thop-0.1.1.post2209072238-py3-none-any.whl (15 kB)\n",
            "Using cached omegaconf-2.3.0-py3-none-any.whl (79 kB)\n",
            "Using cached protobuf-3.19.6-cp39-cp39-win_amd64.whl (895 kB)\n",
            "Installing collected packages: antlr4-python3-runtime, protobuf, omegaconf, hydra-core, thop\n",
            "  Attempting uninstall: protobuf\n",
            "    Found existing installation: protobuf 3.20.3\n",
            "    Uninstalling protobuf-3.20.3:\n",
            "      Successfully uninstalled protobuf-3.20.3\n",
            "Successfully installed antlr4-python3-runtime-4.9.3 hydra-core-1.3.2 omegaconf-2.3.0 protobuf-3.19.6 thop-0.1.1.post2209072238\n",
            "Note: you may need to restart the kernel to use updated packages.\n"
          ]
        },
        {
          "name": "stderr",
          "output_type": "stream",
          "text": [
            "ERROR: pip's dependency resolver does not currently take into account all the packages that are installed. This behaviour is the source of the following dependency conflicts.\n",
            "tensorflow 2.10.0 requires libclang>=13.0.0, which is not installed.\n",
            "tensorflow 2.10.0 requires tensorflow-io-gcs-filesystem>=0.23.1, which is not installed.\n"
          ]
        }
      ],
      "source": [
        "%pip install -e 'setup.py[dev]'\n",
        "%pip install -r requirements.txt"
      ]
    },
    {
      "cell_type": "code",
      "execution_count": 11,
      "metadata": {},
      "outputs": [
        {
          "name": "stdout",
          "output_type": "stream",
          "text": [
            "Collecting roboflow\n",
            "  Downloading roboflow-1.1.61-py3-none-any.whl.metadata (9.7 kB)\n",
            "Requirement already satisfied: certifi in d:\\software\\anaconda\\envs\\pytorch2\\lib\\site-packages (from roboflow) (2025.1.31)\n",
            "Requirement already satisfied: idna==3.7 in d:\\software\\anaconda\\envs\\pytorch2\\lib\\site-packages (from roboflow) (3.7)\n",
            "Requirement already satisfied: cycler in d:\\software\\anaconda\\envs\\pytorch2\\lib\\site-packages (from roboflow) (0.11.0)\n",
            "Requirement already satisfied: kiwisolver>=1.3.1 in d:\\software\\anaconda\\envs\\pytorch2\\lib\\site-packages (from roboflow) (1.4.4)\n",
            "Requirement already satisfied: matplotlib in d:\\software\\anaconda\\envs\\pytorch2\\lib\\site-packages (from roboflow) (3.9.2)\n",
            "Requirement already satisfied: numpy>=1.18.5 in d:\\software\\anaconda\\envs\\pytorch2\\lib\\site-packages (from roboflow) (1.26.4)\n",
            "Collecting opencv-python-headless==4.10.0.84 (from roboflow)\n",
            "  Downloading opencv_python_headless-4.10.0.84-cp37-abi3-win_amd64.whl.metadata (20 kB)\n",
            "Requirement already satisfied: Pillow>=7.1.2 in d:\\software\\anaconda\\envs\\pytorch2\\lib\\site-packages (from roboflow) (10.4.0)\n",
            "Collecting pillow-heif>=0.18.0 (from roboflow)\n",
            "  Downloading pillow_heif-0.22.0-cp39-cp39-win_amd64.whl.metadata (9.8 kB)\n",
            "Requirement already satisfied: python-dateutil in d:\\software\\anaconda\\envs\\pytorch2\\lib\\site-packages (from roboflow) (2.9.0.post0)\n",
            "Collecting python-dotenv (from roboflow)\n",
            "  Using cached python_dotenv-1.1.0-py3-none-any.whl.metadata (24 kB)\n",
            "Requirement already satisfied: requests in d:\\software\\anaconda\\envs\\pytorch2\\lib\\site-packages (from roboflow) (2.32.3)\n",
            "Requirement already satisfied: six in d:\\software\\anaconda\\envs\\pytorch2\\lib\\site-packages (from roboflow) (1.16.0)\n",
            "Requirement already satisfied: urllib3>=1.26.6 in d:\\software\\anaconda\\envs\\pytorch2\\lib\\site-packages (from roboflow) (2.2.3)\n",
            "Requirement already satisfied: tqdm>=4.41.0 in d:\\software\\anaconda\\envs\\pytorch2\\lib\\site-packages (from roboflow) (4.67.1)\n",
            "Requirement already satisfied: PyYAML>=5.3.1 in d:\\software\\anaconda\\envs\\pytorch2\\lib\\site-packages (from roboflow) (6.0.2)\n",
            "Collecting requests-toolbelt (from roboflow)\n",
            "  Using cached requests_toolbelt-1.0.0-py2.py3-none-any.whl.metadata (14 kB)\n",
            "Collecting filetype (from roboflow)\n",
            "  Downloading filetype-1.2.0-py2.py3-none-any.whl.metadata (6.5 kB)\n",
            "Requirement already satisfied: colorama in d:\\software\\anaconda\\envs\\pytorch2\\lib\\site-packages (from tqdm>=4.41.0->roboflow) (0.4.6)\n",
            "Requirement already satisfied: contourpy>=1.0.1 in d:\\software\\anaconda\\envs\\pytorch2\\lib\\site-packages (from matplotlib->roboflow) (1.2.0)\n",
            "Requirement already satisfied: fonttools>=4.22.0 in d:\\software\\anaconda\\envs\\pytorch2\\lib\\site-packages (from matplotlib->roboflow) (4.51.0)\n",
            "Requirement already satisfied: packaging>=20.0 in d:\\software\\anaconda\\envs\\pytorch2\\lib\\site-packages (from matplotlib->roboflow) (24.1)\n",
            "Requirement already satisfied: pyparsing>=2.3.1 in d:\\software\\anaconda\\envs\\pytorch2\\lib\\site-packages (from matplotlib->roboflow) (3.1.2)\n",
            "Requirement already satisfied: importlib-resources>=3.2.0 in d:\\software\\anaconda\\envs\\pytorch2\\lib\\site-packages (from matplotlib->roboflow) (6.4.0)\n",
            "Requirement already satisfied: charset-normalizer<4,>=2 in d:\\software\\anaconda\\envs\\pytorch2\\lib\\site-packages (from requests->roboflow) (3.3.2)\n",
            "Requirement already satisfied: zipp>=3.1.0 in d:\\software\\anaconda\\envs\\pytorch2\\lib\\site-packages (from importlib-resources>=3.2.0->matplotlib->roboflow) (3.20.2)\n",
            "Downloading roboflow-1.1.61-py3-none-any.whl (85 kB)\n",
            "Downloading opencv_python_headless-4.10.0.84-cp37-abi3-win_amd64.whl (38.8 MB)\n",
            "   ---------------------------------------- 0.0/38.8 MB ? eta -:--:--\n",
            "   ---------------------------------------- 0.0/38.8 MB ? eta -:--:--\n",
            "   - -------------------------------------- 1.0/38.8 MB 4.2 MB/s eta 0:00:10\n",
            "   -- ------------------------------------- 2.9/38.8 MB 6.7 MB/s eta 0:00:06\n",
            "   ---- ----------------------------------- 3.9/38.8 MB 6.5 MB/s eta 0:00:06\n",
            "   ---- ----------------------------------- 4.7/38.8 MB 5.6 MB/s eta 0:00:07\n",
            "   ----- ---------------------------------- 5.5/38.8 MB 5.1 MB/s eta 0:00:07\n",
            "   ------ --------------------------------- 6.0/38.8 MB 4.6 MB/s eta 0:00:08\n",
            "   ------ --------------------------------- 6.3/38.8 MB 4.2 MB/s eta 0:00:08\n",
            "   ------ --------------------------------- 6.6/38.8 MB 3.8 MB/s eta 0:00:09\n",
            "   ------- -------------------------------- 6.8/38.8 MB 3.7 MB/s eta 0:00:09\n",
            "   ------- -------------------------------- 7.1/38.8 MB 3.3 MB/s eta 0:00:10\n",
            "   ------- -------------------------------- 7.3/38.8 MB 3.1 MB/s eta 0:00:11\n",
            "   ------- -------------------------------- 7.3/38.8 MB 3.1 MB/s eta 0:00:11\n",
            "   -------- ------------------------------- 7.9/38.8 MB 2.8 MB/s eta 0:00:11\n",
            "   -------- ------------------------------- 8.4/38.8 MB 2.8 MB/s eta 0:00:11\n",
            "   --------- ------------------------------ 9.2/38.8 MB 2.9 MB/s eta 0:00:11\n",
            "   --------- ------------------------------ 9.4/38.8 MB 2.8 MB/s eta 0:00:11\n",
            "   ---------- ----------------------------- 9.7/38.8 MB 2.8 MB/s eta 0:00:11\n",
            "   ---------- ----------------------------- 10.2/38.8 MB 2.7 MB/s eta 0:00:11\n",
            "   ----------- ---------------------------- 10.7/38.8 MB 2.7 MB/s eta 0:00:11\n",
            "   ----------- ---------------------------- 11.0/38.8 MB 2.6 MB/s eta 0:00:11\n",
            "   ----------- ---------------------------- 11.3/38.8 MB 2.6 MB/s eta 0:00:11\n",
            "   ------------ --------------------------- 11.8/38.8 MB 2.6 MB/s eta 0:00:11\n",
            "   ------------ --------------------------- 12.1/38.8 MB 2.5 MB/s eta 0:00:11\n",
            "   ------------ --------------------------- 12.3/38.8 MB 2.4 MB/s eta 0:00:11\n",
            "   ------------ --------------------------- 12.6/38.8 MB 2.4 MB/s eta 0:00:12\n",
            "   ------------ --------------------------- 12.6/38.8 MB 2.4 MB/s eta 0:00:12\n",
            "   ------------- -------------------------- 12.8/38.8 MB 2.3 MB/s eta 0:00:12\n",
            "   ------------- -------------------------- 12.8/38.8 MB 2.3 MB/s eta 0:00:12\n",
            "   ------------- -------------------------- 13.1/38.8 MB 2.1 MB/s eta 0:00:12\n",
            "   ------------- -------------------------- 13.1/38.8 MB 2.1 MB/s eta 0:00:12\n",
            "   ------------- -------------------------- 13.4/38.8 MB 2.1 MB/s eta 0:00:13\n",
            "   -------------- ------------------------- 13.6/38.8 MB 2.0 MB/s eta 0:00:13\n",
            "   -------------- ------------------------- 14.2/38.8 MB 2.0 MB/s eta 0:00:13\n",
            "   -------------- ------------------------- 14.2/38.8 MB 2.0 MB/s eta 0:00:13\n",
            "   -------------- ------------------------- 14.4/38.8 MB 2.0 MB/s eta 0:00:13\n",
            "   -------------- ------------------------- 14.4/38.8 MB 2.0 MB/s eta 0:00:13\n",
            "   --------------- ------------------------ 14.7/38.8 MB 1.9 MB/s eta 0:00:13\n",
            "   --------------- ------------------------ 14.7/38.8 MB 1.9 MB/s eta 0:00:13\n",
            "   --------------- ------------------------ 14.9/38.8 MB 1.8 MB/s eta 0:00:14\n",
            "   --------------- ------------------------ 15.2/38.8 MB 1.8 MB/s eta 0:00:13\n",
            "   --------------- ------------------------ 15.5/38.8 MB 1.8 MB/s eta 0:00:13\n",
            "   ---------------- ----------------------- 15.7/38.8 MB 1.8 MB/s eta 0:00:14\n",
            "   ---------------- ----------------------- 15.7/38.8 MB 1.8 MB/s eta 0:00:14\n",
            "   ---------------- ----------------------- 16.0/38.8 MB 1.7 MB/s eta 0:00:14\n",
            "   ---------------- ----------------------- 16.0/38.8 MB 1.7 MB/s eta 0:00:14\n",
            "   ---------------- ----------------------- 16.3/38.8 MB 1.7 MB/s eta 0:00:14\n",
            "   ---------------- ----------------------- 16.3/38.8 MB 1.7 MB/s eta 0:00:14\n",
            "   ----------------- ---------------------- 16.5/38.8 MB 1.6 MB/s eta 0:00:14\n",
            "   ----------------- ---------------------- 16.5/38.8 MB 1.6 MB/s eta 0:00:14\n",
            "   ----------------- ---------------------- 16.5/38.8 MB 1.6 MB/s eta 0:00:14\n",
            "   ----------------- ---------------------- 16.8/38.8 MB 1.6 MB/s eta 0:00:14\n",
            "   ----------------- ---------------------- 16.8/38.8 MB 1.6 MB/s eta 0:00:14\n",
            "   ----------------- ---------------------- 17.0/38.8 MB 1.5 MB/s eta 0:00:15\n",
            "   ----------------- ---------------------- 17.0/38.8 MB 1.5 MB/s eta 0:00:15\n",
            "   ----------------- ---------------------- 17.3/38.8 MB 1.5 MB/s eta 0:00:15\n",
            "   ------------------ --------------------- 17.6/38.8 MB 1.5 MB/s eta 0:00:15\n",
            "   ------------------ --------------------- 17.8/38.8 MB 1.5 MB/s eta 0:00:15\n",
            "   ------------------ --------------------- 18.4/38.8 MB 1.5 MB/s eta 0:00:14\n",
            "   ------------------ --------------------- 18.4/38.8 MB 1.5 MB/s eta 0:00:14\n",
            "   ------------------- -------------------- 18.6/38.8 MB 1.5 MB/s eta 0:00:14\n",
            "   ------------------- -------------------- 19.1/38.8 MB 1.5 MB/s eta 0:00:14\n",
            "   -------------------- ------------------- 19.4/38.8 MB 1.5 MB/s eta 0:00:14\n",
            "   -------------------- ------------------- 19.4/38.8 MB 1.5 MB/s eta 0:00:14\n",
            "   -------------------- ------------------- 19.7/38.8 MB 1.5 MB/s eta 0:00:14\n",
            "   -------------------- ------------------- 19.9/38.8 MB 1.4 MB/s eta 0:00:14\n",
            "   -------------------- ------------------- 19.9/38.8 MB 1.4 MB/s eta 0:00:14\n",
            "   -------------------- ------------------- 20.2/38.8 MB 1.4 MB/s eta 0:00:14\n",
            "   -------------------- ------------------- 20.2/38.8 MB 1.4 MB/s eta 0:00:14\n",
            "   --------------------- ------------------ 20.4/38.8 MB 1.4 MB/s eta 0:00:13\n",
            "   --------------------- ------------------ 20.7/38.8 MB 1.4 MB/s eta 0:00:13\n",
            "   --------------------- ------------------ 20.7/38.8 MB 1.4 MB/s eta 0:00:13\n",
            "   --------------------- ------------------ 20.7/38.8 MB 1.4 MB/s eta 0:00:13\n",
            "   --------------------- ------------------ 21.0/38.8 MB 1.4 MB/s eta 0:00:14\n",
            "   --------------------- ------------------ 21.0/38.8 MB 1.4 MB/s eta 0:00:14\n",
            "   --------------------- ------------------ 21.0/38.8 MB 1.4 MB/s eta 0:00:14\n",
            "   --------------------- ------------------ 21.0/38.8 MB 1.4 MB/s eta 0:00:14\n",
            "   --------------------- ------------------ 21.2/38.8 MB 1.3 MB/s eta 0:00:14\n",
            "   --------------------- ------------------ 21.2/38.8 MB 1.3 MB/s eta 0:00:14\n",
            "   ---------------------- ----------------- 21.5/38.8 MB 1.3 MB/s eta 0:00:14\n",
            "   ---------------------- ----------------- 21.8/38.8 MB 1.3 MB/s eta 0:00:14\n",
            "   ---------------------- ----------------- 22.0/38.8 MB 1.3 MB/s eta 0:00:14\n",
            "   ---------------------- ----------------- 22.3/38.8 MB 1.3 MB/s eta 0:00:13\n",
            "   ---------------------- ----------------- 22.3/38.8 MB 1.3 MB/s eta 0:00:13\n",
            "   ----------------------- ---------------- 22.5/38.8 MB 1.3 MB/s eta 0:00:13\n",
            "   ----------------------- ---------------- 22.5/38.8 MB 1.3 MB/s eta 0:00:13\n",
            "   ----------------------- ---------------- 22.8/38.8 MB 1.2 MB/s eta 0:00:13\n",
            "   ----------------------- ---------------- 23.1/38.8 MB 1.2 MB/s eta 0:00:13\n",
            "   ----------------------- ---------------- 23.1/38.8 MB 1.2 MB/s eta 0:00:13\n",
            "   ------------------------ --------------- 23.3/38.8 MB 1.2 MB/s eta 0:00:13\n",
            "   ------------------------ --------------- 23.6/38.8 MB 1.2 MB/s eta 0:00:13\n",
            "   ------------------------ --------------- 23.9/38.8 MB 1.2 MB/s eta 0:00:13\n",
            "   ------------------------ --------------- 24.1/38.8 MB 1.2 MB/s eta 0:00:12\n",
            "   ------------------------- -------------- 24.6/38.8 MB 1.2 MB/s eta 0:00:12\n",
            "   ------------------------- -------------- 24.9/38.8 MB 1.2 MB/s eta 0:00:12\n",
            "   ------------------------- -------------- 25.2/38.8 MB 1.2 MB/s eta 0:00:11\n",
            "   -------------------------- ------------- 25.4/38.8 MB 1.2 MB/s eta 0:00:11\n",
            "   -------------------------- ------------- 25.7/38.8 MB 1.2 MB/s eta 0:00:11\n",
            "   -------------------------- ------------- 26.0/38.8 MB 1.2 MB/s eta 0:00:11\n",
            "   --------------------------- ------------ 26.2/38.8 MB 1.2 MB/s eta 0:00:11\n",
            "   --------------------------- ------------ 26.5/38.8 MB 1.2 MB/s eta 0:00:10\n",
            "   --------------------------- ------------ 26.7/38.8 MB 1.2 MB/s eta 0:00:10\n",
            "   --------------------------- ------------ 27.0/38.8 MB 1.3 MB/s eta 0:00:10\n",
            "   ---------------------------- ----------- 27.3/38.8 MB 1.2 MB/s eta 0:00:10\n",
            "   ---------------------------- ----------- 27.3/38.8 MB 1.2 MB/s eta 0:00:10\n",
            "   ---------------------------- ----------- 27.5/38.8 MB 1.2 MB/s eta 0:00:10\n",
            "   ---------------------------- ----------- 27.5/38.8 MB 1.2 MB/s eta 0:00:10\n",
            "   ---------------------------- ----------- 27.8/38.8 MB 1.2 MB/s eta 0:00:09\n",
            "   ----------------------------- ---------- 28.3/38.8 MB 1.2 MB/s eta 0:00:09\n",
            "   ----------------------------- ---------- 28.6/38.8 MB 1.2 MB/s eta 0:00:09\n",
            "   ------------------------------ --------- 29.1/38.8 MB 1.2 MB/s eta 0:00:08\n",
            "   ------------------------------ --------- 29.6/38.8 MB 1.3 MB/s eta 0:00:08\n",
            "   ------------------------------- -------- 30.4/38.8 MB 1.3 MB/s eta 0:00:07\n",
            "   ------------------------------- -------- 30.9/38.8 MB 1.3 MB/s eta 0:00:07\n",
            "   -------------------------------- ------- 31.5/38.8 MB 1.3 MB/s eta 0:00:06\n",
            "   --------------------------------- ------ 32.0/38.8 MB 1.3 MB/s eta 0:00:06\n",
            "   --------------------------------- ------ 32.2/38.8 MB 1.3 MB/s eta 0:00:05\n",
            "   --------------------------------- ------ 32.5/38.8 MB 1.3 MB/s eta 0:00:05\n",
            "   --------------------------------- ------ 32.8/38.8 MB 1.3 MB/s eta 0:00:05\n",
            "   ---------------------------------- ----- 33.3/38.8 MB 1.3 MB/s eta 0:00:05\n",
            "   ---------------------------------- ----- 33.6/38.8 MB 1.3 MB/s eta 0:00:04\n",
            "   ---------------------------------- ----- 33.8/38.8 MB 1.3 MB/s eta 0:00:04\n",
            "   ----------------------------------- ---- 34.1/38.8 MB 1.3 MB/s eta 0:00:04\n",
            "   ----------------------------------- ---- 34.1/38.8 MB 1.3 MB/s eta 0:00:04\n",
            "   ----------------------------------- ---- 34.1/38.8 MB 1.3 MB/s eta 0:00:04\n",
            "   ----------------------------------- ---- 34.3/38.8 MB 1.3 MB/s eta 0:00:04\n",
            "   ----------------------------------- ---- 34.3/38.8 MB 1.3 MB/s eta 0:00:04\n",
            "   ----------------------------------- ---- 34.6/38.8 MB 1.3 MB/s eta 0:00:04\n",
            "   ----------------------------------- ---- 34.9/38.8 MB 1.3 MB/s eta 0:00:04\n",
            "   ------------------------------------ --- 35.1/38.8 MB 1.3 MB/s eta 0:00:03\n",
            "   ------------------------------------ --- 35.1/38.8 MB 1.3 MB/s eta 0:00:03\n",
            "   ------------------------------------ --- 35.4/38.8 MB 1.3 MB/s eta 0:00:03\n",
            "   ------------------------------------- -- 35.9/38.8 MB 1.3 MB/s eta 0:00:03\n",
            "   ------------------------------------- -- 35.9/38.8 MB 1.3 MB/s eta 0:00:03\n",
            "   ------------------------------------- -- 36.2/38.8 MB 1.3 MB/s eta 0:00:03\n",
            "   ------------------------------------- -- 36.4/38.8 MB 1.3 MB/s eta 0:00:02\n",
            "   ------------------------------------- -- 36.4/38.8 MB 1.3 MB/s eta 0:00:02\n",
            "   ------------------------------------- -- 36.7/38.8 MB 1.3 MB/s eta 0:00:02\n",
            "   -------------------------------------- - 37.0/38.8 MB 1.3 MB/s eta 0:00:02\n",
            "   -------------------------------------- - 37.2/38.8 MB 1.3 MB/s eta 0:00:02\n",
            "   -------------------------------------- - 37.5/38.8 MB 1.3 MB/s eta 0:00:02\n",
            "   -------------------------------------- - 37.5/38.8 MB 1.3 MB/s eta 0:00:02\n",
            "   -------------------------------------- - 37.7/38.8 MB 1.3 MB/s eta 0:00:01\n",
            "   ---------------------------------------  38.0/38.8 MB 1.3 MB/s eta 0:00:01\n",
            "   ---------------------------------------  38.3/38.8 MB 1.2 MB/s eta 0:00:01\n",
            "   ---------------------------------------  38.5/38.8 MB 1.1 MB/s eta 0:00:01\n",
            "   ---------------------------------------- 38.8/38.8 MB 1.1 MB/s eta 0:00:00\n",
            "Downloading pillow_heif-0.22.0-cp39-cp39-win_amd64.whl (8.6 MB)\n",
            "   ---------------------------------------- 0.0/8.6 MB ? eta -:--:--\n",
            "   ---------------------------------------- 0.0/8.6 MB ? eta -:--:--\n",
            "   - -------------------------------------- 0.3/8.6 MB ? eta -:--:--\n",
            "   -- ------------------------------------- 0.5/8.6 MB 799.2 kB/s eta 0:00:11\n",
            "   -- ------------------------------------- 0.5/8.6 MB 799.2 kB/s eta 0:00:11\n",
            "   --- ------------------------------------ 0.8/8.6 MB 798.0 kB/s eta 0:00:10\n",
            "   --- ------------------------------------ 0.8/8.6 MB 798.0 kB/s eta 0:00:10\n",
            "   ---- ----------------------------------- 1.0/8.6 MB 762.0 kB/s eta 0:00:10\n",
            "   ------- -------------------------------- 1.6/8.6 MB 942.3 kB/s eta 0:00:08\n",
            "   --------- ------------------------------ 2.1/8.6 MB 1.2 MB/s eta 0:00:06\n",
            "   ----------- ---------------------------- 2.4/8.6 MB 1.2 MB/s eta 0:00:06\n",
            "   ----------- ---------------------------- 2.4/8.6 MB 1.2 MB/s eta 0:00:06\n",
            "   ------------ --------------------------- 2.6/8.6 MB 1.1 MB/s eta 0:00:06\n",
            "   ------------- -------------------------- 2.9/8.6 MB 1.1 MB/s eta 0:00:06\n",
            "   -------------- ------------------------- 3.1/8.6 MB 1.1 MB/s eta 0:00:06\n",
            "   --------------- ------------------------ 3.4/8.6 MB 1.1 MB/s eta 0:00:05\n",
            "   ----------------- ---------------------- 3.7/8.6 MB 1.1 MB/s eta 0:00:05\n",
            "   ------------------ --------------------- 3.9/8.6 MB 1.2 MB/s eta 0:00:05\n",
            "   ------------------- -------------------- 4.2/8.6 MB 1.2 MB/s eta 0:00:04\n",
            "   ------------------- -------------------- 4.2/8.6 MB 1.2 MB/s eta 0:00:04\n",
            "   -------------------- ------------------- 4.5/8.6 MB 1.1 MB/s eta 0:00:04\n",
            "   -------------------- ------------------- 4.5/8.6 MB 1.1 MB/s eta 0:00:04\n",
            "   ----------------------- ---------------- 5.0/8.6 MB 1.1 MB/s eta 0:00:04\n",
            "   ----------------------- ---------------- 5.0/8.6 MB 1.1 MB/s eta 0:00:04\n",
            "   -------------------------- ------------- 5.8/8.6 MB 1.1 MB/s eta 0:00:03\n",
            "   -------------------------- ------------- 5.8/8.6 MB 1.1 MB/s eta 0:00:03\n",
            "   ---------------------------- ----------- 6.0/8.6 MB 1.1 MB/s eta 0:00:03\n",
            "   ----------------------------- ---------- 6.3/8.6 MB 1.1 MB/s eta 0:00:03\n",
            "   ------------------------------ --------- 6.6/8.6 MB 1.1 MB/s eta 0:00:02\n",
            "   ------------------------------ --------- 6.6/8.6 MB 1.1 MB/s eta 0:00:02\n",
            "   ------------------------------ --------- 6.6/8.6 MB 1.1 MB/s eta 0:00:02\n",
            "   ------------------------------- -------- 6.8/8.6 MB 1.1 MB/s eta 0:00:02\n",
            "   ---------------------------------- ----- 7.3/8.6 MB 1.1 MB/s eta 0:00:02\n",
            "   ---------------------------------- ----- 7.3/8.6 MB 1.1 MB/s eta 0:00:02\n",
            "   ----------------------------------- ---- 7.6/8.6 MB 1.1 MB/s eta 0:00:01\n",
            "   ------------------------------------ --- 7.9/8.6 MB 1.1 MB/s eta 0:00:01\n",
            "   ------------------------------------ --- 7.9/8.6 MB 1.1 MB/s eta 0:00:01\n",
            "   ---------------------------------------  8.4/8.6 MB 1.1 MB/s eta 0:00:01\n",
            "   ---------------------------------------- 8.6/8.6 MB 1.1 MB/s eta 0:00:00\n",
            "Downloading filetype-1.2.0-py2.py3-none-any.whl (19 kB)\n",
            "Using cached python_dotenv-1.1.0-py3-none-any.whl (20 kB)\n",
            "Using cached requests_toolbelt-1.0.0-py2.py3-none-any.whl (54 kB)\n",
            "Installing collected packages: filetype, python-dotenv, pillow-heif, opencv-python-headless, requests-toolbelt, roboflow\n",
            "Successfully installed filetype-1.2.0 opencv-python-headless-4.10.0.84 pillow-heif-0.22.0 python-dotenv-1.1.0 requests-toolbelt-1.0.0 roboflow-1.1.61\n",
            "Note: you may need to restart the kernel to use updated packages.\n",
            "loading Roboflow workspace...\n",
            "loading Roboflow project...\n"
          ]
        },
        {
          "name": "stderr",
          "output_type": "stream",
          "text": [
            "Downloading Dataset Version Zip in detection-1 to yolov5pytorch:: 100%|██████████| 95856/95856 [00:35<00:00, 2695.47it/s]"
          ]
        },
        {
          "name": "stdout",
          "output_type": "stream",
          "text": [
            "\n"
          ]
        },
        {
          "name": "stderr",
          "output_type": "stream",
          "text": [
            "\n",
            "Extracting Dataset Version Zip to detection-1 in yolov5pytorch:: 100%|██████████| 9374/9374 [00:08<00:00, 1068.04it/s]\n"
          ]
        }
      ],
      "source": [
        "%pip install roboflow\n",
        "\n",
        "from roboflow import Roboflow\n",
        "rf = Roboflow(api_key=\"vFxgKgYfL4vc5jOh3gei\")\n",
        "project = rf.workspace(\"drone-dataset-mvh8i\").project(\"detection-bzujh\")\n",
        "dataset = project.version(1).download(\"yolov5\")"
      ]
    },
    {
      "cell_type": "markdown",
      "metadata": {
        "id": "i4-h2jwWDXU6"
      },
      "source": [
        "##Moving to the Required Directory"
      ]
    },
    {
      "cell_type": "code",
      "execution_count": 12,
      "metadata": {
        "colab": {
          "base_uri": "https://localhost:8080/"
        },
        "id": "sWXs2RdKDnqB",
        "outputId": "86bf9497-7b23-4266-a642-e6a2fe905a3e"
      },
      "outputs": [
        {
          "name": "stdout",
          "output_type": "stream",
          "text": [
            "D:\\software\\LocalProjects\\VehicleTracking\\ultralytics\\yolo\\v8\\detect\n"
          ]
        },
        {
          "name": "stderr",
          "output_type": "stream",
          "text": [
            "using dhist requires you to install the `pickleshare` library.\n"
          ]
        }
      ],
      "source": [
        "%cd ultralytics/yolo/v8/detect"
      ]
    },
    {
      "cell_type": "markdown",
      "metadata": {
        "id": "oEUtstJcDqz0"
      },
      "source": [
        "##To implement the DeepSORT tracking, downloading the required files "
      ]
    },
    {
      "cell_type": "code",
      "execution_count": 4,
      "metadata": {
        "colab": {
          "base_uri": "https://localhost:8080/"
        },
        "id": "5FuD6jDfDSoU",
        "outputId": "0d91cee1-5db0-46ba-b2f3-92d4590d4044"
      },
      "outputs": [
        {
          "name": "stdout",
          "output_type": "stream",
          "text": [
            "^C\n"
          ]
        },
        {
          "name": "stderr",
          "output_type": "stream",
          "text": [
            "Downloading...\n",
            "From: https://drive.google.com/uc?id=11ZSZcG-bcbueXZC3rN08CM0qqX3eiHxf&confirm=t\n",
            "To: d:\\software\\LocalProjects\\CarTracking\\YOLOv8-DeepSORT-Object-Tracking-main\\deep_sort_pytorch.zip\n",
            "\n",
            "  0%|          | 0.00/43.1M [00:00<?, ?B/s]\n",
            "  1%|          | 524k/43.1M [00:01<01:32, 459kB/s]\n",
            "  2%|▏         | 1.05M/43.1M [00:02<01:19, 529kB/s]\n",
            "  4%|▎         | 1.57M/43.1M [00:02<01:02, 667kB/s]\n",
            "  5%|▍         | 2.10M/43.1M [00:03<00:58, 704kB/s]\n",
            "  6%|▌         | 2.62M/43.1M [00:03<00:48, 833kB/s]\n",
            "  7%|▋         | 3.15M/43.1M [00:04<00:49, 813kB/s]\n",
            "  9%|▊         | 3.67M/43.1M [00:04<00:45, 873kB/s]\n",
            " 10%|▉         | 4.19M/43.1M [00:05<00:40, 950kB/s]\n",
            " 11%|█         | 4.72M/43.1M [00:05<00:39, 971kB/s]\n",
            " 12%|█▏        | 5.24M/43.1M [00:06<00:34, 1.09MB/s]\n",
            " 13%|█▎        | 5.77M/43.1M [00:06<00:32, 1.13MB/s]\n",
            " 15%|█▍        | 6.29M/43.1M [00:07<00:31, 1.16MB/s]\n",
            " 16%|█▌        | 6.82M/43.1M [00:07<00:27, 1.31MB/s]\n",
            " 17%|█▋        | 7.34M/43.1M [00:07<00:26, 1.33MB/s]\n",
            " 18%|█▊        | 7.86M/43.1M [00:07<00:23, 1.51MB/s]\n",
            " 19%|█▉        | 8.39M/43.1M [00:08<00:25, 1.37MB/s]\n",
            " 22%|██▏       | 9.44M/43.1M [00:08<00:19, 1.74MB/s]\n",
            " 23%|██▎       | 9.96M/43.1M [00:08<00:16, 2.01MB/s]\n",
            " 24%|██▍       | 10.5M/43.1M [00:09<00:15, 2.06MB/s]\n",
            " 26%|██▌       | 11.0M/43.1M [00:09<00:16, 1.94MB/s]\n",
            " 27%|██▋       | 11.5M/43.1M [00:09<00:15, 1.99MB/s]\n",
            " 28%|██▊       | 12.1M/43.1M [00:09<00:15, 1.98MB/s]\n",
            " 29%|██▉       | 12.6M/43.1M [00:10<00:14, 2.05MB/s]\n",
            " 30%|███       | 13.1M/43.1M [00:10<00:13, 2.17MB/s]\n",
            " 32%|███▏      | 13.6M/43.1M [00:10<00:11, 2.48MB/s]\n",
            " 33%|███▎      | 14.2M/43.1M [00:10<00:12, 2.28MB/s]\n",
            " 34%|███▍      | 14.7M/43.1M [00:11<00:12, 2.35MB/s]\n",
            " 35%|███▌      | 15.2M/43.1M [00:11<00:10, 2.65MB/s]\n",
            " 36%|███▋      | 15.7M/43.1M [00:11<00:10, 2.64MB/s]\n",
            " 38%|███▊      | 16.3M/43.1M [00:11<00:09, 2.79MB/s]\n",
            " 39%|███▉      | 16.8M/43.1M [00:11<00:10, 2.56MB/s]\n",
            " 40%|████      | 17.3M/43.1M [00:11<00:09, 2.78MB/s]\n",
            " 41%|████▏     | 17.8M/43.1M [00:12<00:08, 2.91MB/s]\n",
            " 43%|████▎     | 18.4M/43.1M [00:12<00:09, 2.71MB/s]\n",
            " 45%|████▍     | 19.4M/43.1M [00:12<00:08, 2.82MB/s]\n",
            " 47%|████▋     | 20.4M/43.1M [00:12<00:07, 3.14MB/s]\n",
            " 49%|████▊     | 21.0M/43.1M [00:13<00:07, 2.84MB/s]\n",
            " 50%|████▉     | 21.5M/43.1M [00:13<00:07, 2.84MB/s]\n",
            " 51%|█████     | 22.0M/43.1M [00:13<00:06, 3.03MB/s]\n",
            " 52%|█████▏    | 22.5M/43.1M [00:13<00:07, 2.65MB/s]\n",
            " 53%|█████▎    | 23.1M/43.1M [00:14<00:07, 2.63MB/s]\n",
            " 55%|█████▍    | 23.6M/43.1M [00:14<00:06, 2.92MB/s]\n",
            " 56%|█████▌    | 24.1M/43.1M [00:14<00:07, 2.51MB/s]\n",
            " 57%|█████▋    | 24.6M/43.1M [00:14<00:08, 2.21MB/s]\n",
            " 60%|█████▉    | 25.7M/43.1M [00:15<00:06, 2.55MB/s]\n",
            " 61%|██████    | 26.2M/43.1M [00:15<00:08, 2.04MB/s]\n",
            " 63%|██████▎   | 27.3M/43.1M [00:15<00:06, 2.50MB/s]\n",
            " 64%|██████▍   | 27.8M/43.1M [00:15<00:05, 2.74MB/s]\n",
            " 66%|██████▌   | 28.3M/43.1M [00:16<00:05, 2.67MB/s]\n",
            " 67%|██████▋   | 28.8M/43.1M [00:16<00:06, 2.08MB/s]\n",
            " 68%|██████▊   | 29.4M/43.1M [00:16<00:05, 2.47MB/s]\n",
            " 69%|██████▉   | 29.9M/43.1M [00:16<00:04, 2.82MB/s]\n",
            " 71%|███████   | 30.4M/43.1M [00:16<00:04, 2.99MB/s]\n",
            " 72%|███████▏  | 30.9M/43.1M [00:17<00:05, 2.14MB/s]\n",
            " 73%|███████▎  | 31.5M/43.1M [00:17<00:06, 1.81MB/s]\n",
            " 75%|███████▌  | 32.5M/43.1M [00:17<00:03, 2.67MB/s]\n",
            " 77%|███████▋  | 33.0M/43.1M [00:18<00:03, 2.53MB/s]\n",
            " 78%|███████▊  | 33.6M/43.1M [00:18<00:03, 2.60MB/s]\n",
            " 79%|███████▉  | 34.1M/43.1M [00:18<00:03, 2.93MB/s]\n",
            " 80%|████████  | 34.6M/43.1M [00:18<00:03, 2.48MB/s]\n",
            " 83%|████████▎ | 35.7M/43.1M [00:18<00:02, 3.09MB/s]\n",
            " 84%|████████▍ | 36.2M/43.1M [00:19<00:02, 3.18MB/s]\n",
            " 85%|████████▌ | 36.7M/43.1M [00:19<00:02, 2.90MB/s]\n",
            " 88%|████████▊ | 37.7M/43.1M [00:19<00:01, 3.57MB/s]\n",
            " 90%|████████▉ | 38.8M/43.1M [00:19<00:01, 3.70MB/s]\n",
            " 91%|█████████ | 39.3M/43.1M [00:20<00:01, 3.07MB/s]\n",
            " 92%|█████████▏| 39.8M/43.1M [00:20<00:00, 3.34MB/s]\n",
            " 94%|█████████▎| 40.4M/43.1M [00:20<00:00, 3.67MB/s]\n",
            " 95%|█████████▍| 40.9M/43.1M [00:20<00:00, 3.49MB/s]\n",
            " 96%|█████████▌| 41.4M/43.1M [00:20<00:00, 3.06MB/s]\n",
            " 98%|█████████▊| 42.5M/43.1M [00:20<00:00, 3.43MB/s]\n",
            "100%|██████████| 43.1M/43.1M [00:21<00:00, 2.05MB/s]\n"
          ]
        }
      ],
      "source": [
        "!gdown \"https://drive.google.com/uc?id=11ZSZcG-bcbueXZC3rN08CM0qqX3eiHxf&confirm=t\"\n"
      ]
    },
    {
      "cell_type": "markdown",
      "metadata": {
        "id": "qFpopDEED61b"
      },
      "source": [
        "##Unzipping the DeepSORT Files"
      ]
    },
    {
      "cell_type": "code",
      "execution_count": null,
      "metadata": {
        "colab": {
          "base_uri": "https://localhost:8080/"
        },
        "id": "uLmlRpFdD1su",
        "outputId": "9bddacbb-5b08-44be-9d43-3039ed7344c1"
      },
      "outputs": [],
      "source": [
        "!unzip 'deep_sort_pytorch.zip'"
      ]
    },
    {
      "cell_type": "markdown",
      "metadata": {
        "id": "PUb4g3erEArb"
      },
      "source": [
        "##Download a Sample Video for Testing from Google Drive"
      ]
    },
    {
      "cell_type": "code",
      "execution_count": null,
      "metadata": {
        "colab": {
          "base_uri": "https://localhost:8080/"
        },
        "id": "3QKR7ueED-CF",
        "outputId": "6b731094-b619-4cb4-9257-841ebc2fe324"
      },
      "outputs": [],
      "source": [
        "!gdown https://drive.google.com/uc?id=1_kt1alzcLRVxet-Drx0mt_KFSd3vrtHU\n"
      ]
    },
    {
      "cell_type": "markdown",
      "metadata": {
        "id": "xrxzHtFkElir"
      },
      "source": [
        "##Lets Run the Script"
      ]
    },
    {
      "cell_type": "code",
      "execution_count": null,
      "metadata": {
        "colab": {
          "base_uri": "https://localhost:8080/"
        },
        "id": "Qesy8lPaEaXW",
        "outputId": "07815d1c-f3de-4cc4-fa02-20ebdc45209d"
      },
      "outputs": [
        {
          "name": "stderr",
          "output_type": "stream",
          "text": [
            "Traceback (most recent call last):\n",
            "  File \"D:\\software\\LocalProjects\\VehicleTracking\\ultralytics\\yolo\\v8\\detect\\predict.py\", line 13, in <module>\n",
            "    from ultralytics.yolo.engine.predictor import BasePredictor\n",
            "ModuleNotFoundError: No module named 'ultralytics.yolo'\n"
          ]
        }
      ],
      "source": [
        "!python predict.py source=\"test3.mp4\""
      ]
    },
    {
      "cell_type": "markdown",
      "metadata": {
        "id": "oT1NDwMpEwHO"
      },
      "source": [
        "##Display the Demo Video"
      ]
    },
    {
      "cell_type": "code",
      "execution_count": null,
      "metadata": {
        "colab": {
          "base_uri": "https://localhost:8080/"
        },
        "id": "7MyfgoWKE1e0",
        "outputId": "a86df277-7fef-4dd7-9b80-a97e3d0c3c76"
      },
      "outputs": [],
      "source": [
        "!rm \"/content/result_compressed.mp4\""
      ]
    },
    {
      "cell_type": "code",
      "execution_count": null,
      "metadata": {
        "colab": {
          "base_uri": "https://localhost:8080/",
          "height": 247
        },
        "id": "WkR9WDjCEn18",
        "outputId": "54dd90d2-88e8-4330-afaa-ebd919859267"
      },
      "outputs": [],
      "source": [
        "from IPython.display import HTML\n",
        "from base64 import b64encode\n",
        "import os\n",
        "\n",
        "# Input video path\n",
        "save_path = '/content/YOLOv8-DeepSORT-Object-Tracking/runs/detect/train/test1.mp4'\n",
        "\n",
        "# Compressed video path\n",
        "compressed_path = \"/content/result_compressed.mp4\"\n",
        "\n",
        "os.system(f\"ffmpeg -i {save_path} -vcodec libx264 {compressed_path}\")\n",
        "\n",
        "# Show video\n",
        "mp4 = open(compressed_path,'rb').read()\n",
        "data_url = \"data:video/mp4;base64,\" + b64encode(mp4).decode()\n",
        "HTML(\"\"\"\n",
        "<video width=400 controls>\n",
        "      <source src=\"%s\" type=\"video/mp4\">\n",
        "</video>\n",
        "\"\"\" % data_url)"
      ]
    },
    {
      "cell_type": "markdown",
      "metadata": {
        "id": "ehYcKyOxE48T"
      },
      "source": [
        "##Downloading the Script Files for Tracking and Vehicle Counting from Google Drive\n",
        "\n",
        "\n"
      ]
    },
    {
      "cell_type": "code",
      "execution_count": null,
      "metadata": {
        "colab": {
          "base_uri": "https://localhost:8080/"
        },
        "id": "gZ7oe-QwE8X5",
        "outputId": "8ae8c8d1-7fca-40a0-be5d-b34edc60a790"
      },
      "outputs": [],
      "source": [
        "!gdown \"https://drive.google.com/uc?id=1mV3xyYxz8fo8OZyMC_p1Jtv7jC458aSv&confirm=t\"\n"
      ]
    },
    {
      "cell_type": "markdown",
      "metadata": {
        "id": "V5GVy8nWFVL8"
      },
      "source": [
        "##Download the Demo Video"
      ]
    },
    {
      "cell_type": "code",
      "execution_count": null,
      "metadata": {
        "colab": {
          "base_uri": "https://localhost:8080/"
        },
        "id": "9GNKoidnFZL0",
        "outputId": "ebabc76e-12b5-4fda-c3b1-1bf2d6994c21"
      },
      "outputs": [],
      "source": [
        "!gdown \"https://drive.google.com/uc?id=1rjBn8Fl1E_9d0EMVtL24S9aNQOJAveR5&confirm=t\"\n"
      ]
    },
    {
      "cell_type": "code",
      "execution_count": null,
      "metadata": {
        "colab": {
          "base_uri": "https://localhost:8080/"
        },
        "id": "Rg-rIBOwFGd8",
        "outputId": "50a61b5a-44a3-4096-cad8-ebf527ab41da"
      },
      "outputs": [],
      "source": [
        "!python predict.py source=\"test3.mp4\""
      ]
    },
    {
      "cell_type": "markdown",
      "metadata": {
        "id": "JKep_PiPFeTt"
      },
      "source": [
        "##Display the Demo Video"
      ]
    },
    {
      "cell_type": "code",
      "execution_count": null,
      "metadata": {
        "id": "b0eJMWH0Fhf1"
      },
      "outputs": [],
      "source": [
        "!rm \"/content/result_compressed.mp4\""
      ]
    },
    {
      "cell_type": "code",
      "execution_count": null,
      "metadata": {
        "colab": {
          "base_uri": "https://localhost:8080/",
          "height": 247
        },
        "id": "r9psuirMFbHq",
        "outputId": "22d91d0c-e0e6-422c-b802-d687121f91de"
      },
      "outputs": [],
      "source": [
        "from IPython.display import HTML\n",
        "from base64 import b64encode\n",
        "import os\n",
        "\n",
        "# Input video path\n",
        "save_path = '/content/YOLOv8-DeepSORT-Object-Tracking/runs/detect/train2/test3.mp4'\n",
        "\n",
        "# Compressed video path\n",
        "compressed_path = \"/content/result_compressed.mp4\"\n",
        "\n",
        "os.system(f\"ffmpeg -i {save_path} -vcodec libx264 {compressed_path}\")\n",
        "\n",
        "# Show video\n",
        "mp4 = open(compressed_path,'rb').read()\n",
        "data_url = \"data:video/mp4;base64,\" + b64encode(mp4).decode()\n",
        "HTML(\"\"\"\n",
        "<video width=400 controls>\n",
        "      <source src=\"%s\" type=\"video/mp4\">\n",
        "</video>\n",
        "\"\"\" % data_url)"
      ]
    },
    {
      "cell_type": "code",
      "execution_count": null,
      "metadata": {
        "id": "JGR8tiSjIT93"
      },
      "outputs": [],
      "source": []
    }
  ],
  "metadata": {
    "accelerator": "GPU",
    "colab": {
      "provenance": []
    },
    "gpuClass": "standard",
    "kernelspec": {
      "display_name": "pytorch2",
      "language": "python",
      "name": "python3"
    },
    "language_info": {
      "codemirror_mode": {
        "name": "ipython",
        "version": 3
      },
      "file_extension": ".py",
      "mimetype": "text/x-python",
      "name": "python",
      "nbconvert_exporter": "python",
      "pygments_lexer": "ipython3",
      "version": "3.9.18"
    }
  },
  "nbformat": 4,
  "nbformat_minor": 0
}
