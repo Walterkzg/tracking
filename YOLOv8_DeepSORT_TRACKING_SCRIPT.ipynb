{
  "cells": [
    {
      "cell_type": "markdown",
      "metadata": {
        "id": "Osp3607nFu9G"
      },
      "source": [
        "# Before Running the Script Please Make Sure you Select the Run Time as GPU"
      ]
    },
    {
      "cell_type": "markdown",
      "metadata": {
        "id": "tO1DFFdfFvI-"
      },
      "source": [
        "#**Clone the Github Repo**"
      ]
    },
    {
      "cell_type": "code",
      "execution_count": null,
      "metadata": {
        "colab": {
          "base_uri": "https://localhost:8080/"
        },
        "id": "JTqOq3p0F0ul",
        "outputId": "4999aab4-6c37-482f-bef0-3df008b26432"
      },
      "outputs": [
        {
          "name": "stdout",
          "output_type": "stream",
          "text": [
            "Cloning into 'YOLOv8-DeepSORT-Object-Tracking'...\n",
            "remote: Enumerating objects: 367, done.\u001b[K\n",
            "remote: Counting objects: 100% (265/265), done.\u001b[K\n",
            "remote: Compressing objects: 100% (160/160), done.\u001b[K\n",
            "remote: Total 367 (delta 116), reused 239 (delta 104), pack-reused 102\u001b[K\n",
            "Receiving objects: 100% (367/367), 45.62 MiB | 15.98 MiB/s, done.\n",
            "Resolving deltas: 100% (134/134), done.\n"
          ]
        }
      ],
      "source": [
        "# !git clone https://github.com/MuhammadMoinFaisal/YOLOv8-DeepSORT-Object-Tracking.git"
      ]
    },
    {
      "cell_type": "markdown",
      "metadata": {
        "id": "PuJXtLs9C-tj"
      },
      "source": [
        "##Setting the Current Directory"
      ]
    },
    {
      "cell_type": "code",
      "execution_count": 8,
      "metadata": {
        "colab": {
          "base_uri": "https://localhost:8080/"
        },
        "id": "_0Cy9Q3hC0CI",
        "outputId": "d7be9a31-b001-4183-d481-19b98ecb4754"
      },
      "outputs": [
        {
          "name": "stdout",
          "output_type": "stream",
          "text": [
            "D:\\software\\LocalProjects\\CarTracking\\YOLOv8-DeepSORT-Object-Tracking-main\n"
          ]
        }
      ],
      "source": [
        "%cd D:\\software\\LocalProjects\\CarTracking\\YOLOv8-DeepSORT-Object-Tracking-main\\\n",
        "\n",
        "#/content/YOLOv8-DeepSORT-Object-Tracking"
      ]
    },
    {
      "cell_type": "markdown",
      "metadata": {
        "id": "p4PQj_GXDMFb"
      },
      "source": [
        "##Install all the Dependencies"
      ]
    },
    {
      "cell_type": "code",
      "execution_count": 9,
      "metadata": {
        "colab": {
          "base_uri": "https://localhost:8080/"
        },
        "id": "hxERsChADIgc",
        "outputId": "fe5304f6-e2c3-49cf-c189-62c6e20a0485"
      },
      "outputs": [
        {
          "name": "stdout",
          "output_type": "stream",
          "text": [
            "Note: you may need to restart the kernel to use updated packages.\n"
          ]
        },
        {
          "name": "stderr",
          "output_type": "stream",
          "text": [
            "ERROR: '.[dev]' is not a valid editable requirement. It should either be a path to a local project or a VCS URL (beginning with bzr+http, bzr+https, bzr+ssh, bzr+sftp, bzr+ftp, bzr+lp, bzr+file, git+http, git+https, git+ssh, git+git, git+file, hg+file, hg+http, hg+https, hg+ssh, hg+static-http, svn+ssh, svn+http, svn+https, svn+svn, svn+file).\n"
          ]
        }
      ],
      "source": [
        "%pip install -e '.[dev]'"
      ]
    },
    {
      "cell_type": "markdown",
      "metadata": {
        "id": "i4-h2jwWDXU6"
      },
      "source": [
        "##Moving to the Required Directory"
      ]
    },
    {
      "cell_type": "code",
      "execution_count": 11,
      "metadata": {
        "colab": {
          "base_uri": "https://localhost:8080/"
        },
        "id": "sWXs2RdKDnqB",
        "outputId": "86bf9497-7b23-4266-a642-e6a2fe905a3e"
      },
      "outputs": [
        {
          "name": "stdout",
          "output_type": "stream",
          "text": [
            "D:\\software\\LocalProjects\\CarTracking\\YOLOv8-DeepSORT-Object-Tracking-main\\ultralytics\\yolo\\v8\\detect\n"
          ]
        },
        {
          "name": "stderr",
          "output_type": "stream",
          "text": [
            "d:\\software\\Anaconda\\envs\\Tracking\\lib\\site-packages\\IPython\\core\\magics\\osm.py:417: UserWarning: using dhist requires you to install the `pickleshare` library.\n",
            "  self.shell.db['dhist'] = compress_dhist(dhist)[-100:]\n"
          ]
        }
      ],
      "source": [
        "%cd ultralytics/yolo/v8/detect"
      ]
    },
    {
      "cell_type": "markdown",
      "metadata": {
        "id": "oEUtstJcDqz0"
      },
      "source": [
        "##To implement the DeepSORT tracking, downloading the required files "
      ]
    },
    {
      "cell_type": "code",
      "execution_count": 4,
      "metadata": {
        "colab": {
          "base_uri": "https://localhost:8080/"
        },
        "id": "5FuD6jDfDSoU",
        "outputId": "0d91cee1-5db0-46ba-b2f3-92d4590d4044"
      },
      "outputs": [
        {
          "name": "stdout",
          "output_type": "stream",
          "text": [
            "^C\n"
          ]
        },
        {
          "name": "stderr",
          "output_type": "stream",
          "text": [
            "Downloading...\n",
            "From: https://drive.google.com/uc?id=11ZSZcG-bcbueXZC3rN08CM0qqX3eiHxf&confirm=t\n",
            "To: d:\\software\\LocalProjects\\CarTracking\\YOLOv8-DeepSORT-Object-Tracking-main\\deep_sort_pytorch.zip\n",
            "\n",
            "  0%|          | 0.00/43.1M [00:00<?, ?B/s]\n",
            "  1%|          | 524k/43.1M [00:01<01:32, 459kB/s]\n",
            "  2%|▏         | 1.05M/43.1M [00:02<01:19, 529kB/s]\n",
            "  4%|▎         | 1.57M/43.1M [00:02<01:02, 667kB/s]\n",
            "  5%|▍         | 2.10M/43.1M [00:03<00:58, 704kB/s]\n",
            "  6%|▌         | 2.62M/43.1M [00:03<00:48, 833kB/s]\n",
            "  7%|▋         | 3.15M/43.1M [00:04<00:49, 813kB/s]\n",
            "  9%|▊         | 3.67M/43.1M [00:04<00:45, 873kB/s]\n",
            " 10%|▉         | 4.19M/43.1M [00:05<00:40, 950kB/s]\n",
            " 11%|█         | 4.72M/43.1M [00:05<00:39, 971kB/s]\n",
            " 12%|█▏        | 5.24M/43.1M [00:06<00:34, 1.09MB/s]\n",
            " 13%|█▎        | 5.77M/43.1M [00:06<00:32, 1.13MB/s]\n",
            " 15%|█▍        | 6.29M/43.1M [00:07<00:31, 1.16MB/s]\n",
            " 16%|█▌        | 6.82M/43.1M [00:07<00:27, 1.31MB/s]\n",
            " 17%|█▋        | 7.34M/43.1M [00:07<00:26, 1.33MB/s]\n",
            " 18%|█▊        | 7.86M/43.1M [00:07<00:23, 1.51MB/s]\n",
            " 19%|█▉        | 8.39M/43.1M [00:08<00:25, 1.37MB/s]\n",
            " 22%|██▏       | 9.44M/43.1M [00:08<00:19, 1.74MB/s]\n",
            " 23%|██▎       | 9.96M/43.1M [00:08<00:16, 2.01MB/s]\n",
            " 24%|██▍       | 10.5M/43.1M [00:09<00:15, 2.06MB/s]\n",
            " 26%|██▌       | 11.0M/43.1M [00:09<00:16, 1.94MB/s]\n",
            " 27%|██▋       | 11.5M/43.1M [00:09<00:15, 1.99MB/s]\n",
            " 28%|██▊       | 12.1M/43.1M [00:09<00:15, 1.98MB/s]\n",
            " 29%|██▉       | 12.6M/43.1M [00:10<00:14, 2.05MB/s]\n",
            " 30%|███       | 13.1M/43.1M [00:10<00:13, 2.17MB/s]\n",
            " 32%|███▏      | 13.6M/43.1M [00:10<00:11, 2.48MB/s]\n",
            " 33%|███▎      | 14.2M/43.1M [00:10<00:12, 2.28MB/s]\n",
            " 34%|███▍      | 14.7M/43.1M [00:11<00:12, 2.35MB/s]\n",
            " 35%|███▌      | 15.2M/43.1M [00:11<00:10, 2.65MB/s]\n",
            " 36%|███▋      | 15.7M/43.1M [00:11<00:10, 2.64MB/s]\n",
            " 38%|███▊      | 16.3M/43.1M [00:11<00:09, 2.79MB/s]\n",
            " 39%|███▉      | 16.8M/43.1M [00:11<00:10, 2.56MB/s]\n",
            " 40%|████      | 17.3M/43.1M [00:11<00:09, 2.78MB/s]\n",
            " 41%|████▏     | 17.8M/43.1M [00:12<00:08, 2.91MB/s]\n",
            " 43%|████▎     | 18.4M/43.1M [00:12<00:09, 2.71MB/s]\n",
            " 45%|████▍     | 19.4M/43.1M [00:12<00:08, 2.82MB/s]\n",
            " 47%|████▋     | 20.4M/43.1M [00:12<00:07, 3.14MB/s]\n",
            " 49%|████▊     | 21.0M/43.1M [00:13<00:07, 2.84MB/s]\n",
            " 50%|████▉     | 21.5M/43.1M [00:13<00:07, 2.84MB/s]\n",
            " 51%|█████     | 22.0M/43.1M [00:13<00:06, 3.03MB/s]\n",
            " 52%|█████▏    | 22.5M/43.1M [00:13<00:07, 2.65MB/s]\n",
            " 53%|█████▎    | 23.1M/43.1M [00:14<00:07, 2.63MB/s]\n",
            " 55%|█████▍    | 23.6M/43.1M [00:14<00:06, 2.92MB/s]\n",
            " 56%|█████▌    | 24.1M/43.1M [00:14<00:07, 2.51MB/s]\n",
            " 57%|█████▋    | 24.6M/43.1M [00:14<00:08, 2.21MB/s]\n",
            " 60%|█████▉    | 25.7M/43.1M [00:15<00:06, 2.55MB/s]\n",
            " 61%|██████    | 26.2M/43.1M [00:15<00:08, 2.04MB/s]\n",
            " 63%|██████▎   | 27.3M/43.1M [00:15<00:06, 2.50MB/s]\n",
            " 64%|██████▍   | 27.8M/43.1M [00:15<00:05, 2.74MB/s]\n",
            " 66%|██████▌   | 28.3M/43.1M [00:16<00:05, 2.67MB/s]\n",
            " 67%|██████▋   | 28.8M/43.1M [00:16<00:06, 2.08MB/s]\n",
            " 68%|██████▊   | 29.4M/43.1M [00:16<00:05, 2.47MB/s]\n",
            " 69%|██████▉   | 29.9M/43.1M [00:16<00:04, 2.82MB/s]\n",
            " 71%|███████   | 30.4M/43.1M [00:16<00:04, 2.99MB/s]\n",
            " 72%|███████▏  | 30.9M/43.1M [00:17<00:05, 2.14MB/s]\n",
            " 73%|███████▎  | 31.5M/43.1M [00:17<00:06, 1.81MB/s]\n",
            " 75%|███████▌  | 32.5M/43.1M [00:17<00:03, 2.67MB/s]\n",
            " 77%|███████▋  | 33.0M/43.1M [00:18<00:03, 2.53MB/s]\n",
            " 78%|███████▊  | 33.6M/43.1M [00:18<00:03, 2.60MB/s]\n",
            " 79%|███████▉  | 34.1M/43.1M [00:18<00:03, 2.93MB/s]\n",
            " 80%|████████  | 34.6M/43.1M [00:18<00:03, 2.48MB/s]\n",
            " 83%|████████▎ | 35.7M/43.1M [00:18<00:02, 3.09MB/s]\n",
            " 84%|████████▍ | 36.2M/43.1M [00:19<00:02, 3.18MB/s]\n",
            " 85%|████████▌ | 36.7M/43.1M [00:19<00:02, 2.90MB/s]\n",
            " 88%|████████▊ | 37.7M/43.1M [00:19<00:01, 3.57MB/s]\n",
            " 90%|████████▉ | 38.8M/43.1M [00:19<00:01, 3.70MB/s]\n",
            " 91%|█████████ | 39.3M/43.1M [00:20<00:01, 3.07MB/s]\n",
            " 92%|█████████▏| 39.8M/43.1M [00:20<00:00, 3.34MB/s]\n",
            " 94%|█████████▎| 40.4M/43.1M [00:20<00:00, 3.67MB/s]\n",
            " 95%|█████████▍| 40.9M/43.1M [00:20<00:00, 3.49MB/s]\n",
            " 96%|█████████▌| 41.4M/43.1M [00:20<00:00, 3.06MB/s]\n",
            " 98%|█████████▊| 42.5M/43.1M [00:20<00:00, 3.43MB/s]\n",
            "100%|██████████| 43.1M/43.1M [00:21<00:00, 2.05MB/s]\n"
          ]
        }
      ],
      "source": [
        "!gdown \"https://drive.google.com/uc?id=11ZSZcG-bcbueXZC3rN08CM0qqX3eiHxf&confirm=t\"\n"
      ]
    },
    {
      "cell_type": "markdown",
      "metadata": {
        "id": "qFpopDEED61b"
      },
      "source": [
        "##Unzipping the DeepSORT Files"
      ]
    },
    {
      "cell_type": "code",
      "execution_count": null,
      "metadata": {
        "colab": {
          "base_uri": "https://localhost:8080/"
        },
        "id": "uLmlRpFdD1su",
        "outputId": "9bddacbb-5b08-44be-9d43-3039ed7344c1"
      },
      "outputs": [],
      "source": [
        "!unzip 'deep_sort_pytorch.zip'"
      ]
    },
    {
      "cell_type": "markdown",
      "metadata": {
        "id": "PUb4g3erEArb"
      },
      "source": [
        "##Download a Sample Video for Testing from Google Drive"
      ]
    },
    {
      "cell_type": "code",
      "execution_count": null,
      "metadata": {
        "colab": {
          "base_uri": "https://localhost:8080/"
        },
        "id": "3QKR7ueED-CF",
        "outputId": "6b731094-b619-4cb4-9257-841ebc2fe324"
      },
      "outputs": [],
      "source": [
        "!gdown https://drive.google.com/uc?id=1_kt1alzcLRVxet-Drx0mt_KFSd3vrtHU\n"
      ]
    },
    {
      "cell_type": "markdown",
      "metadata": {
        "id": "xrxzHtFkElir"
      },
      "source": [
        "##Lets Run the Script"
      ]
    },
    {
      "cell_type": "code",
      "execution_count": 14,
      "metadata": {
        "colab": {
          "base_uri": "https://localhost:8080/"
        },
        "id": "Qesy8lPaEaXW",
        "outputId": "07815d1c-f3de-4cc4-fa02-20ebdc45209d"
      },
      "outputs": [
        {
          "name": "stderr",
          "output_type": "stream",
          "text": [
            "Traceback (most recent call last):\n",
            "  File \"D:\\software\\LocalProjects\\CarTracking\\YOLOv8-DeepSORT-Object-Tracking-main\\ultralytics\\yolo\\v8\\detect\\predict.py\", line 13, in <module>\n",
            "    from ultralytics.yolo.engine.predictor import BasePredictor\n",
            "ModuleNotFoundError: No module named 'ultralytics.yolo'\n"
          ]
        }
      ],
      "source": [
        "!python predict.py source=\"test3.mp4\""
      ]
    },
    {
      "cell_type": "markdown",
      "metadata": {
        "id": "oT1NDwMpEwHO"
      },
      "source": [
        "##Display the Demo Video"
      ]
    },
    {
      "cell_type": "code",
      "execution_count": null,
      "metadata": {
        "colab": {
          "base_uri": "https://localhost:8080/"
        },
        "id": "7MyfgoWKE1e0",
        "outputId": "a86df277-7fef-4dd7-9b80-a97e3d0c3c76"
      },
      "outputs": [],
      "source": [
        "!rm \"/content/result_compressed.mp4\""
      ]
    },
    {
      "cell_type": "code",
      "execution_count": null,
      "metadata": {
        "colab": {
          "base_uri": "https://localhost:8080/",
          "height": 247
        },
        "id": "WkR9WDjCEn18",
        "outputId": "54dd90d2-88e8-4330-afaa-ebd919859267"
      },
      "outputs": [],
      "source": [
        "from IPython.display import HTML\n",
        "from base64 import b64encode\n",
        "import os\n",
        "\n",
        "# Input video path\n",
        "save_path = '/content/YOLOv8-DeepSORT-Object-Tracking/runs/detect/train/test1.mp4'\n",
        "\n",
        "# Compressed video path\n",
        "compressed_path = \"/content/result_compressed.mp4\"\n",
        "\n",
        "os.system(f\"ffmpeg -i {save_path} -vcodec libx264 {compressed_path}\")\n",
        "\n",
        "# Show video\n",
        "mp4 = open(compressed_path,'rb').read()\n",
        "data_url = \"data:video/mp4;base64,\" + b64encode(mp4).decode()\n",
        "HTML(\"\"\"\n",
        "<video width=400 controls>\n",
        "      <source src=\"%s\" type=\"video/mp4\">\n",
        "</video>\n",
        "\"\"\" % data_url)"
      ]
    },
    {
      "cell_type": "markdown",
      "metadata": {
        "id": "ehYcKyOxE48T"
      },
      "source": [
        "##Downloading the Script Files for Tracking and Vehicle Counting from Google Drive\n",
        "\n",
        "\n"
      ]
    },
    {
      "cell_type": "code",
      "execution_count": null,
      "metadata": {
        "colab": {
          "base_uri": "https://localhost:8080/"
        },
        "id": "gZ7oe-QwE8X5",
        "outputId": "8ae8c8d1-7fca-40a0-be5d-b34edc60a790"
      },
      "outputs": [],
      "source": [
        "!gdown \"https://drive.google.com/uc?id=1mV3xyYxz8fo8OZyMC_p1Jtv7jC458aSv&confirm=t\"\n"
      ]
    },
    {
      "cell_type": "markdown",
      "metadata": {
        "id": "V5GVy8nWFVL8"
      },
      "source": [
        "##Download the Demo Video"
      ]
    },
    {
      "cell_type": "code",
      "execution_count": null,
      "metadata": {
        "colab": {
          "base_uri": "https://localhost:8080/"
        },
        "id": "9GNKoidnFZL0",
        "outputId": "ebabc76e-12b5-4fda-c3b1-1bf2d6994c21"
      },
      "outputs": [],
      "source": [
        "!gdown \"https://drive.google.com/uc?id=1rjBn8Fl1E_9d0EMVtL24S9aNQOJAveR5&confirm=t\"\n"
      ]
    },
    {
      "cell_type": "code",
      "execution_count": null,
      "metadata": {
        "colab": {
          "base_uri": "https://localhost:8080/"
        },
        "id": "Rg-rIBOwFGd8",
        "outputId": "50a61b5a-44a3-4096-cad8-ebf527ab41da"
      },
      "outputs": [],
      "source": [
        "!python predict.py source=\"test3.mp4\""
      ]
    },
    {
      "cell_type": "markdown",
      "metadata": {
        "id": "JKep_PiPFeTt"
      },
      "source": [
        "##Display the Demo Video"
      ]
    },
    {
      "cell_type": "code",
      "execution_count": null,
      "metadata": {
        "id": "b0eJMWH0Fhf1"
      },
      "outputs": [],
      "source": [
        "!rm \"/content/result_compressed.mp4\""
      ]
    },
    {
      "cell_type": "code",
      "execution_count": null,
      "metadata": {
        "colab": {
          "base_uri": "https://localhost:8080/",
          "height": 247
        },
        "id": "r9psuirMFbHq",
        "outputId": "22d91d0c-e0e6-422c-b802-d687121f91de"
      },
      "outputs": [],
      "source": [
        "from IPython.display import HTML\n",
        "from base64 import b64encode\n",
        "import os\n",
        "\n",
        "# Input video path\n",
        "save_path = '/content/YOLOv8-DeepSORT-Object-Tracking/runs/detect/train2/test3.mp4'\n",
        "\n",
        "# Compressed video path\n",
        "compressed_path = \"/content/result_compressed.mp4\"\n",
        "\n",
        "os.system(f\"ffmpeg -i {save_path} -vcodec libx264 {compressed_path}\")\n",
        "\n",
        "# Show video\n",
        "mp4 = open(compressed_path,'rb').read()\n",
        "data_url = \"data:video/mp4;base64,\" + b64encode(mp4).decode()\n",
        "HTML(\"\"\"\n",
        "<video width=400 controls>\n",
        "      <source src=\"%s\" type=\"video/mp4\">\n",
        "</video>\n",
        "\"\"\" % data_url)"
      ]
    },
    {
      "cell_type": "code",
      "execution_count": null,
      "metadata": {
        "id": "JGR8tiSjIT93"
      },
      "outputs": [],
      "source": []
    }
  ],
  "metadata": {
    "accelerator": "GPU",
    "colab": {
      "provenance": []
    },
    "gpuClass": "standard",
    "kernelspec": {
      "display_name": "Tracking",
      "language": "python",
      "name": "python3"
    },
    "language_info": {
      "codemirror_mode": {
        "name": "ipython",
        "version": 3
      },
      "file_extension": ".py",
      "mimetype": "text/x-python",
      "name": "python",
      "nbconvert_exporter": "python",
      "pygments_lexer": "ipython3",
      "version": "3.9.18"
    }
  },
  "nbformat": 4,
  "nbformat_minor": 0
}
